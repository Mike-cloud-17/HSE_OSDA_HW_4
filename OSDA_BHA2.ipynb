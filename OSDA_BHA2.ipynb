{
 "cells": [
  {
   "cell_type": "markdown",
   "id": "c51e6765",
   "metadata": {},
   "source": [
    "## Big Home Assignment 2"
   ]
  },
  {
   "cell_type": "code",
   "execution_count": 1,
   "id": "d5933a5f",
   "metadata": {},
   "outputs": [],
   "source": [
    "import warnings\n",
    "\n",
    "warnings.filterwarnings('ignore')"
   ]
  },
  {
   "cell_type": "code",
   "execution_count": 2,
   "id": "1abcd0b8",
   "metadata": {},
   "outputs": [],
   "source": [
    "import pandas as pd\n",
    "import numpy as np\n",
    "import matplotlib.pyplot as plt\n",
    "import seaborn as sns\n",
    "\n",
    "from sklearn.model_selection import cross_val_score\n",
    "from sklearn.metrics import precision_score, classification_report"
   ]
  },
  {
   "cell_type": "code",
   "execution_count": 3,
   "id": "729e8574",
   "metadata": {},
   "outputs": [
    {
     "data": {
      "text/plain": [
       "((303, 14),\n",
       "      age  sex  cp  trtbps  chol  fbs  restecg  thalachh  exng  oldpeak  slp  \\\n",
       " 0     63    1   3     145   233    1        0       150     0      2.3    0   \n",
       " 1     37    1   2     130   250    0        1       187     0      3.5    0   \n",
       " 2     41    0   1     130   204    0        0       172     0      1.4    2   \n",
       " 3     56    1   1     120   236    0        1       178     0      0.8    2   \n",
       " 4     57    0   0     120   354    0        1       163     1      0.6    2   \n",
       " ..   ...  ...  ..     ...   ...  ...      ...       ...   ...      ...  ...   \n",
       " 298   57    0   0     140   241    0        1       123     1      0.2    1   \n",
       " 299   45    1   3     110   264    0        1       132     0      1.2    1   \n",
       " 300   68    1   0     144   193    1        1       141     0      3.4    1   \n",
       " 301   57    1   0     130   131    0        1       115     1      1.2    1   \n",
       " 302   57    0   1     130   236    0        0       174     0      0.0    1   \n",
       " \n",
       "      caa  thall  output  \n",
       " 0      0      1       1  \n",
       " 1      0      2       1  \n",
       " 2      0      2       1  \n",
       " 3      0      2       1  \n",
       " 4      0      2       1  \n",
       " ..   ...    ...     ...  \n",
       " 298    0      3       0  \n",
       " 299    0      3       0  \n",
       " 300    2      3       0  \n",
       " 301    1      3       0  \n",
       " 302    1      2       0  \n",
       " \n",
       " [303 rows x 14 columns],\n",
       " age         0\n",
       " sex         0\n",
       " cp          0\n",
       " trtbps      0\n",
       " chol        0\n",
       " fbs         0\n",
       " restecg     0\n",
       " thalachh    0\n",
       " exng        0\n",
       " oldpeak     0\n",
       " slp         0\n",
       " caa         0\n",
       " thall       0\n",
       " output      0\n",
       " dtype: int64)"
      ]
     },
     "execution_count": 3,
     "metadata": {},
     "output_type": "execute_result"
    }
   ],
   "source": [
    "heart_attack_data = pd.read_csv(\"datasets_bigHA/heart_attack.csv\", sep=',')\n",
    "heart_attack_data.shape, heart_attack_data, heart_attack_data.isnull().sum()"
   ]
  },
  {
   "cell_type": "code",
   "execution_count": 4,
   "id": "690964d4",
   "metadata": {},
   "outputs": [
    {
     "data": {
      "text/plain": [
       "((32485, 14),\n",
       "        Unnamed: 0  fixed acidity  volatile acidity  citric acid  \\\n",
       " 0            2732            7.4             0.170         0.29   \n",
       " 1            2607            5.3             0.310         0.38   \n",
       " 2            1653            4.7             0.145         0.29   \n",
       " 3            3264            6.9             0.260         0.29   \n",
       " 4            4931            6.4             0.450         0.07   \n",
       " ...           ...            ...               ...          ...   \n",
       " 32480        2838            5.0             0.255         0.22   \n",
       " 32481        6414            6.6             0.360         0.52   \n",
       " 32482        1126            6.3             0.200         0.24   \n",
       " 32483        2924            6.2             0.200         0.33   \n",
       " 32484        5462            8.1             0.280         0.46   \n",
       " \n",
       "        residual sugar  chlorides  free sulfur dioxide  total sulfur dioxide  \\\n",
       " 0                 1.4      0.047                 23.0                 107.0   \n",
       " 1                10.5      0.031                 53.0                 140.0   \n",
       " 2                 1.0      0.042                 35.0                  90.0   \n",
       " 3                 4.2      0.043                 33.0                 114.0   \n",
       " 4                 1.1      0.030                 10.0                 131.0   \n",
       " ...               ...        ...                  ...                   ...   \n",
       " 32480             2.7      0.043                 46.0                 153.0   \n",
       " 32481            11.3      0.046                  8.0                 110.0   \n",
       " 32482             1.7      0.052                 36.0                 135.0   \n",
       " 32483             5.4      0.028                 21.0                  75.0   \n",
       " 32484            15.4      0.059                 32.0                 177.0   \n",
       " \n",
       "        density    pH  sulphates  alcohol  quality        Type  \n",
       " 0      0.99390  3.52       0.65     10.4        6  White Wine  \n",
       " 1      0.99321  3.34       0.46     11.7        6  White Wine  \n",
       " 2      0.99080  3.76       0.49     11.3        6  White Wine  \n",
       " 3      0.99020  3.16       0.31     12.5        6  White Wine  \n",
       " 4      0.99050  2.97       0.28     10.8        5  White Wine  \n",
       " ...        ...   ...        ...      ...      ...         ...  \n",
       " 32480  0.99238  3.75       0.76     11.3        6  White Wine  \n",
       " 32481  0.99660  3.07       0.46      9.4        5  White Wine  \n",
       " 32482  0.99374  3.80       0.66     10.8        6  White Wine  \n",
       " 32483  0.99012  3.36       0.41     13.5        7  White Wine  \n",
       " 32484  1.00040  3.27       0.58      9.0        4  White Wine  \n",
       " \n",
       " [32485 rows x 14 columns],\n",
       " Unnamed: 0              0\n",
       " fixed acidity           0\n",
       " volatile acidity        0\n",
       " citric acid             0\n",
       " residual sugar          0\n",
       " chlorides               0\n",
       " free sulfur dioxide     0\n",
       " total sulfur dioxide    0\n",
       " density                 0\n",
       " pH                      0\n",
       " sulphates               0\n",
       " alcohol                 0\n",
       " quality                 0\n",
       " Type                    0\n",
       " dtype: int64)"
      ]
     },
     "execution_count": 4,
     "metadata": {},
     "output_type": "execute_result"
    }
   ],
   "source": [
    "quality_of_wine_data = pd.read_csv(\"datasets_bigHA/quality_of_wine.csv\", sep=',')\n",
    "quality_of_wine_data.shape, quality_of_wine_data, quality_of_wine_data.isnull().sum()"
   ]
  },
  {
   "cell_type": "code",
   "execution_count": 5,
   "id": "33d5905c",
   "metadata": {},
   "outputs": [
    {
     "data": {
      "text/plain": [
       "((19158, 14),\n",
       "        enrollee_id      city  city_development_index gender  \\\n",
       " 0             8949  city_103                   0.920   Male   \n",
       " 1            29725   city_40                   0.776   Male   \n",
       " 2            11561   city_21                   0.624    NaN   \n",
       " 3            33241  city_115                   0.789    NaN   \n",
       " 4              666  city_162                   0.767   Male   \n",
       " ...            ...       ...                     ...    ...   \n",
       " 19153         7386  city_173                   0.878   Male   \n",
       " 19154        31398  city_103                   0.920   Male   \n",
       " 19155        24576  city_103                   0.920   Male   \n",
       " 19156         5756   city_65                   0.802   Male   \n",
       " 19157        23834   city_67                   0.855    NaN   \n",
       " \n",
       "            relevent_experience enrolled_university education_level  \\\n",
       " 0      Has relevent experience       no_enrollment        Graduate   \n",
       " 1       No relevent experience       no_enrollment        Graduate   \n",
       " 2       No relevent experience    Full time course        Graduate   \n",
       " 3       No relevent experience                 NaN        Graduate   \n",
       " 4      Has relevent experience       no_enrollment         Masters   \n",
       " ...                        ...                 ...             ...   \n",
       " 19153   No relevent experience       no_enrollment        Graduate   \n",
       " 19154  Has relevent experience       no_enrollment        Graduate   \n",
       " 19155  Has relevent experience       no_enrollment        Graduate   \n",
       " 19156  Has relevent experience       no_enrollment     High School   \n",
       " 19157   No relevent experience       no_enrollment  Primary School   \n",
       " \n",
       "       major_discipline experience company_size    company_type last_new_job  \\\n",
       " 0                 STEM        >20          NaN             NaN            1   \n",
       " 1                 STEM         15        50-99         Pvt Ltd           >4   \n",
       " 2                 STEM          5          NaN             NaN        never   \n",
       " 3      Business Degree         <1          NaN         Pvt Ltd        never   \n",
       " 4                 STEM        >20        50-99  Funded Startup            4   \n",
       " ...                ...        ...          ...             ...          ...   \n",
       " 19153       Humanities         14          NaN             NaN            1   \n",
       " 19154             STEM         14          NaN             NaN            4   \n",
       " 19155             STEM        >20        50-99         Pvt Ltd            4   \n",
       " 19156              NaN         <1      500-999         Pvt Ltd            2   \n",
       " 19157              NaN          2          NaN             NaN            1   \n",
       " \n",
       "        training_hours  target  \n",
       " 0                  36     1.0  \n",
       " 1                  47     0.0  \n",
       " 2                  83     0.0  \n",
       " 3                  52     1.0  \n",
       " 4                   8     0.0  \n",
       " ...               ...     ...  \n",
       " 19153              42     1.0  \n",
       " 19154              52     1.0  \n",
       " 19155              44     0.0  \n",
       " 19156              97     0.0  \n",
       " 19157             127     0.0  \n",
       " \n",
       " [19158 rows x 14 columns],\n",
       " enrollee_id                  0\n",
       " city                         0\n",
       " city_development_index       0\n",
       " gender                    4508\n",
       " relevent_experience          0\n",
       " enrolled_university        386\n",
       " education_level            460\n",
       " major_discipline          2813\n",
       " experience                  65\n",
       " company_size              5938\n",
       " company_type              6140\n",
       " last_new_job               423\n",
       " training_hours               0\n",
       " target                       0\n",
       " dtype: int64)"
      ]
     },
     "execution_count": 5,
     "metadata": {},
     "output_type": "execute_result"
    }
   ],
   "source": [
    "data_scientists_job_change_data = pd.read_csv(\"datasets_bigHA/Job_Change_of_Data_Scientists.csv\", sep=',')\n",
    "data_scientists_job_change_data.shape, data_scientists_job_change_data, data_scientists_job_change_data.isnull().sum()"
   ]
  },
  {
   "cell_type": "code",
   "execution_count": 6,
   "id": "3dab8ba4",
   "metadata": {},
   "outputs": [
    {
     "data": {
      "text/html": [
       "<div>\n",
       "<style scoped>\n",
       "    .dataframe tbody tr th:only-of-type {\n",
       "        vertical-align: middle;\n",
       "    }\n",
       "\n",
       "    .dataframe tbody tr th {\n",
       "        vertical-align: top;\n",
       "    }\n",
       "\n",
       "    .dataframe thead th {\n",
       "        text-align: right;\n",
       "    }\n",
       "</style>\n",
       "<table border=\"1\" class=\"dataframe\">\n",
       "  <thead>\n",
       "    <tr style=\"text-align: right;\">\n",
       "      <th></th>\n",
       "      <th>enrollee_id</th>\n",
       "      <th>city</th>\n",
       "      <th>city_development_index</th>\n",
       "      <th>gender</th>\n",
       "      <th>relevent_experience</th>\n",
       "      <th>enrolled_university</th>\n",
       "      <th>education_level</th>\n",
       "      <th>major_discipline</th>\n",
       "      <th>experience</th>\n",
       "      <th>company_size</th>\n",
       "      <th>company_type</th>\n",
       "      <th>last_new_job</th>\n",
       "      <th>training_hours</th>\n",
       "      <th>target</th>\n",
       "    </tr>\n",
       "  </thead>\n",
       "  <tbody>\n",
       "    <tr>\n",
       "      <th>0</th>\n",
       "      <td>8949</td>\n",
       "      <td>city_103</td>\n",
       "      <td>0.920</td>\n",
       "      <td>Male</td>\n",
       "      <td>Has relevent experience</td>\n",
       "      <td>no_enrollment</td>\n",
       "      <td>Graduate</td>\n",
       "      <td>STEM</td>\n",
       "      <td>&gt;20</td>\n",
       "      <td>NaN</td>\n",
       "      <td>NaN</td>\n",
       "      <td>1</td>\n",
       "      <td>36</td>\n",
       "      <td>1.0</td>\n",
       "    </tr>\n",
       "    <tr>\n",
       "      <th>1</th>\n",
       "      <td>29725</td>\n",
       "      <td>city_40</td>\n",
       "      <td>0.776</td>\n",
       "      <td>Male</td>\n",
       "      <td>No relevent experience</td>\n",
       "      <td>no_enrollment</td>\n",
       "      <td>Graduate</td>\n",
       "      <td>STEM</td>\n",
       "      <td>15</td>\n",
       "      <td>50-99</td>\n",
       "      <td>Pvt Ltd</td>\n",
       "      <td>&gt;4</td>\n",
       "      <td>47</td>\n",
       "      <td>0.0</td>\n",
       "    </tr>\n",
       "    <tr>\n",
       "      <th>2</th>\n",
       "      <td>11561</td>\n",
       "      <td>city_21</td>\n",
       "      <td>0.624</td>\n",
       "      <td>NaN</td>\n",
       "      <td>No relevent experience</td>\n",
       "      <td>Full time course</td>\n",
       "      <td>Graduate</td>\n",
       "      <td>STEM</td>\n",
       "      <td>5</td>\n",
       "      <td>NaN</td>\n",
       "      <td>NaN</td>\n",
       "      <td>never</td>\n",
       "      <td>83</td>\n",
       "      <td>0.0</td>\n",
       "    </tr>\n",
       "    <tr>\n",
       "      <th>3</th>\n",
       "      <td>33241</td>\n",
       "      <td>city_115</td>\n",
       "      <td>0.789</td>\n",
       "      <td>NaN</td>\n",
       "      <td>No relevent experience</td>\n",
       "      <td>NaN</td>\n",
       "      <td>Graduate</td>\n",
       "      <td>Business Degree</td>\n",
       "      <td>&lt;1</td>\n",
       "      <td>NaN</td>\n",
       "      <td>Pvt Ltd</td>\n",
       "      <td>never</td>\n",
       "      <td>52</td>\n",
       "      <td>1.0</td>\n",
       "    </tr>\n",
       "    <tr>\n",
       "      <th>4</th>\n",
       "      <td>666</td>\n",
       "      <td>city_162</td>\n",
       "      <td>0.767</td>\n",
       "      <td>Male</td>\n",
       "      <td>Has relevent experience</td>\n",
       "      <td>no_enrollment</td>\n",
       "      <td>Masters</td>\n",
       "      <td>STEM</td>\n",
       "      <td>&gt;20</td>\n",
       "      <td>50-99</td>\n",
       "      <td>Funded Startup</td>\n",
       "      <td>4</td>\n",
       "      <td>8</td>\n",
       "      <td>0.0</td>\n",
       "    </tr>\n",
       "  </tbody>\n",
       "</table>\n",
       "</div>"
      ],
      "text/plain": [
       "   enrollee_id      city  city_development_index gender  \\\n",
       "0         8949  city_103                   0.920   Male   \n",
       "1        29725   city_40                   0.776   Male   \n",
       "2        11561   city_21                   0.624    NaN   \n",
       "3        33241  city_115                   0.789    NaN   \n",
       "4          666  city_162                   0.767   Male   \n",
       "\n",
       "       relevent_experience enrolled_university education_level  \\\n",
       "0  Has relevent experience       no_enrollment        Graduate   \n",
       "1   No relevent experience       no_enrollment        Graduate   \n",
       "2   No relevent experience    Full time course        Graduate   \n",
       "3   No relevent experience                 NaN        Graduate   \n",
       "4  Has relevent experience       no_enrollment         Masters   \n",
       "\n",
       "  major_discipline experience company_size    company_type last_new_job  \\\n",
       "0             STEM        >20          NaN             NaN            1   \n",
       "1             STEM         15        50-99         Pvt Ltd           >4   \n",
       "2             STEM          5          NaN             NaN        never   \n",
       "3  Business Degree         <1          NaN         Pvt Ltd        never   \n",
       "4             STEM        >20        50-99  Funded Startup            4   \n",
       "\n",
       "   training_hours  target  \n",
       "0              36     1.0  \n",
       "1              47     0.0  \n",
       "2              83     0.0  \n",
       "3              52     1.0  \n",
       "4               8     0.0  "
      ]
     },
     "execution_count": 6,
     "metadata": {},
     "output_type": "execute_result"
    }
   ],
   "source": [
    "data_scientists_job_change_data.head()"
   ]
  },
  {
   "cell_type": "markdown",
   "id": "3016a642",
   "metadata": {},
   "source": [
    "## Preprocessing"
   ]
  },
  {
   "cell_type": "code",
   "execution_count": 7,
   "id": "f3017339",
   "metadata": {},
   "outputs": [],
   "source": [
    "data_scientists_job_change_data.columns = ['enrollee_id', 'city_nom', 'city_development_index', 'gender_nom',\n",
    "       'relevent_experience_nom', 'enrolled_university_nom', 'education_level_ord',\n",
    "       'major_discipline_nom', 'experience_ord', 'company_size_ord', 'company_type_nom',\n",
    "       'last_new_job_ord', 'training_hours', 'target']"
   ]
  },
  {
   "cell_type": "code",
   "execution_count": 8,
   "id": "1c3a4205",
   "metadata": {},
   "outputs": [],
   "source": [
    "del data_scientists_job_change_data[\"enrollee_id\"]"
   ]
  },
  {
   "cell_type": "code",
   "execution_count": 9,
   "id": "f5ea9bb3",
   "metadata": {},
   "outputs": [],
   "source": [
    "def OrdMapping(df):\n",
    "    \n",
    "    \n",
    "    education_level_ord_mapping = {'Primary School': 0,'High School': 1,'Graduate': 2 , 'Masters':3,'Phd': 4 }\n",
    "    experience_ord_mapping= {'<1':0, '1':2, '2':3, '3':4,'4':5, '5':6, '6':7, '7':8, '8':9,'9':10, '10':11, '12':13, '13':14,'14':15, '15':16, '16':17,  '17':18,'18':19, '19':20,'20':21,'>20':22}\n",
    "    company_size_ord_mapping = {'<10':0 ,'10/49':1,'50-99':2, '100-500':3, '500-999':4, '1000-4999':5,'5000-9999':6, '10000+':7}\n",
    "    \n",
    "    last_new_job_ord_mapping = {'never':0,'1':1,'2':2,'3':3,'4':4,'>4':5}\n",
    "    df['education_level_ord'] = df.education_level_ord.map(education_level_ord_mapping)\n",
    "    df['experience_ord'] = df.experience_ord.map(experience_ord_mapping)\n",
    "    df['company_size_ord'] = df.company_size_ord.map(company_size_ord_mapping)\n",
    "    df['last_new_job_ord'] = df.last_new_job_ord.map(last_new_job_ord_mapping)\n",
    "     \n",
    "    return df"
   ]
  },
  {
   "cell_type": "code",
   "execution_count": 10,
   "id": "dd40241c",
   "metadata": {},
   "outputs": [],
   "source": [
    "data_scientists_job_change_data = OrdMapping(data_scientists_job_change_data)"
   ]
  },
  {
   "cell_type": "code",
   "execution_count": 11,
   "id": "056bc049",
   "metadata": {},
   "outputs": [],
   "source": [
    "ordinals = [c for c in data_scientists_job_change_data.columns if 'ord' in c]\n",
    "nominals = [c for c in data_scientists_job_change_data.columns if 'nom' in c]"
   ]
  },
  {
   "cell_type": "code",
   "execution_count": 12,
   "id": "a452d29d",
   "metadata": {},
   "outputs": [
    {
     "name": "stdout",
     "output_type": "stream",
     "text": [
      "target mapping :   city_nom {'city_1': 0, 'city_10': 1, 'city_100': 2, 'city_101': 3, 'city_102': 4, 'city_103': 5, 'city_104': 6, 'city_105': 7, 'city_106': 8, 'city_107': 9, 'city_109': 10, 'city_11': 11, 'city_111': 12, 'city_114': 13, 'city_115': 14, 'city_116': 15, 'city_117': 16, 'city_118': 17, 'city_12': 18, 'city_120': 19, 'city_121': 20, 'city_123': 21, 'city_126': 22, 'city_127': 23, 'city_128': 24, 'city_129': 25, 'city_13': 26, 'city_131': 27, 'city_133': 28, 'city_134': 29, 'city_136': 30, 'city_138': 31, 'city_139': 32, 'city_14': 33, 'city_140': 34, 'city_141': 35, 'city_142': 36, 'city_143': 37, 'city_144': 38, 'city_145': 39, 'city_146': 40, 'city_149': 41, 'city_150': 42, 'city_152': 43, 'city_155': 44, 'city_157': 45, 'city_158': 46, 'city_159': 47, 'city_16': 48, 'city_160': 49, 'city_162': 50, 'city_165': 51, 'city_166': 52, 'city_167': 53, 'city_171': 54, 'city_173': 55, 'city_175': 56, 'city_176': 57, 'city_179': 58, 'city_18': 59, 'city_180': 60, 'city_19': 61, 'city_2': 62, 'city_20': 63, 'city_21': 64, 'city_23': 65, 'city_24': 66, 'city_25': 67, 'city_26': 68, 'city_27': 69, 'city_28': 70, 'city_30': 71, 'city_31': 72, 'city_33': 73, 'city_36': 74, 'city_37': 75, 'city_39': 76, 'city_40': 77, 'city_41': 78, 'city_42': 79, 'city_43': 80, 'city_44': 81, 'city_45': 82, 'city_46': 83, 'city_48': 84, 'city_50': 85, 'city_53': 86, 'city_54': 87, 'city_55': 88, 'city_57': 89, 'city_59': 90, 'city_61': 91, 'city_62': 92, 'city_64': 93, 'city_65': 94, 'city_67': 95, 'city_69': 96, 'city_7': 97, 'city_70': 98, 'city_71': 99, 'city_72': 100, 'city_73': 101, 'city_74': 102, 'city_75': 103, 'city_76': 104, 'city_77': 105, 'city_78': 106, 'city_79': 107, 'city_8': 108, 'city_80': 109, 'city_81': 110, 'city_82': 111, 'city_83': 112, 'city_84': 113, 'city_89': 114, 'city_9': 115, 'city_90': 116, 'city_91': 117, 'city_93': 118, 'city_94': 119, 'city_97': 120, 'city_98': 121, 'city_99': 122}\n",
      "target mapping :   gender_nom {'Female': 0, 'Male': 1, 'Other': 2, 'nan': 3}\n",
      "target mapping :   relevent_experience_nom {'Has relevent experience': 0, 'No relevent experience': 1}\n",
      "target mapping :   enrolled_university_nom {'Full time course': 0, 'Part time course': 1, 'nan': 2, 'no_enrollment': 3}\n",
      "target mapping :   major_discipline_nom {'Arts': 0, 'Business Degree': 1, 'Humanities': 2, 'No Major': 3, 'Other': 4, 'STEM': 5, 'nan': 6}\n",
      "target mapping :   company_type_nom {'Early Stage Startup': 0, 'Funded Startup': 1, 'NGO': 2, 'Other': 3, 'Public Sector': 4, 'Pvt Ltd': 5, 'nan': 6}\n"
     ]
    }
   ],
   "source": [
    "from sklearn.preprocessing import LabelEncoder, OneHotEncoder, StandardScaler, MinMaxScaler, RobustScaler\n",
    "\n",
    "for c in nominals:\n",
    "    le = LabelEncoder()\n",
    "    le.fit(list(data_scientists_job_change_data[c].astype(str)))\n",
    "    data_scientists_job_change_data[c] = le.transform(data_scientists_job_change_data[c].astype(str))\n",
    "    le_name_mapping = dict(zip(le.classes_, le.transform(le.classes_)))\n",
    "    print('target mapping :  ',c ,  le_name_mapping)"
   ]
  },
  {
   "cell_type": "code",
   "execution_count": 13,
   "id": "b1fe67c1",
   "metadata": {},
   "outputs": [],
   "source": [
    "from sklearn.experimental import enable_iterative_imputer\n",
    "from sklearn.impute import SimpleImputer, IterativeImputer\n",
    "\n",
    "cats = ordinals + nominals\n",
    "\n",
    "imp = SimpleImputer(strategy = \"most_frequent\")\n",
    "data_scientists_job_change_data[cats] = imp.fit_transform(data_scientists_job_change_data[cats])"
   ]
  },
  {
   "cell_type": "code",
   "execution_count": 14,
   "id": "dd773e26",
   "metadata": {},
   "outputs": [
    {
     "data": {
      "text/plain": [
       "city_nom                   0\n",
       "city_development_index     0\n",
       "gender_nom                 0\n",
       "relevent_experience_nom    0\n",
       "enrolled_university_nom    0\n",
       "education_level_ord        0\n",
       "major_discipline_nom       0\n",
       "experience_ord             0\n",
       "company_size_ord           0\n",
       "company_type_nom           0\n",
       "last_new_job_ord           0\n",
       "training_hours             0\n",
       "target                     0\n",
       "dtype: int64"
      ]
     },
     "execution_count": 14,
     "metadata": {},
     "output_type": "execute_result"
    }
   ],
   "source": [
    "data_scientists_job_change_data.isnull().sum()"
   ]
  },
  {
   "cell_type": "code",
   "execution_count": 15,
   "id": "0921e7bd",
   "metadata": {},
   "outputs": [],
   "source": [
    "nums = [c for c in data_scientists_job_change_data.columns if c not in cats]"
   ]
  },
  {
   "cell_type": "code",
   "execution_count": 16,
   "id": "ece515b4",
   "metadata": {},
   "outputs": [],
   "source": [
    "ss = StandardScaler()\n",
    "data_scientists_job_change_data[nums] = ss.fit_transform(data_scientists_job_change_data[nums])"
   ]
  },
  {
   "cell_type": "code",
   "execution_count": 17,
   "id": "a4ceef0f",
   "metadata": {},
   "outputs": [
    {
     "data": {
      "text/plain": [
       "((19158, 13),\n",
       "        city_nom  city_development_index  gender_nom  relevent_experience_nom  \\\n",
       " 0           5.0                0.738919         1.0                      0.0   \n",
       " 1          77.0               -0.428410         1.0                      1.0   \n",
       " 2          64.0               -1.660590         3.0                      1.0   \n",
       " 3          14.0               -0.323026         3.0                      1.0   \n",
       " 4          50.0               -0.501368         1.0                      0.0   \n",
       " ...         ...                     ...         ...                      ...   \n",
       " 19153      55.0                0.398448         1.0                      1.0   \n",
       " 19154       5.0                0.738919         1.0                      0.0   \n",
       " 19155       5.0                0.738919         1.0                      0.0   \n",
       " 19156      94.0               -0.217642         1.0                      0.0   \n",
       " 19157      95.0                0.212000         3.0                      1.0   \n",
       " \n",
       "        enrolled_university_nom  education_level_ord  major_discipline_nom  \\\n",
       " 0                          3.0                  2.0                   5.0   \n",
       " 1                          3.0                  2.0                   5.0   \n",
       " 2                          0.0                  2.0                   5.0   \n",
       " 3                          2.0                  2.0                   1.0   \n",
       " 4                          3.0                  3.0                   5.0   \n",
       " ...                        ...                  ...                   ...   \n",
       " 19153                      3.0                  2.0                   2.0   \n",
       " 19154                      3.0                  2.0                   5.0   \n",
       " 19155                      3.0                  2.0                   5.0   \n",
       " 19156                      3.0                  1.0                   6.0   \n",
       " 19157                      3.0                  0.0                   6.0   \n",
       " \n",
       "        experience_ord  company_size_ord  company_type_nom  last_new_job_ord  \\\n",
       " 0                22.0               2.0               6.0               1.0   \n",
       " 1                16.0               2.0               5.0               5.0   \n",
       " 2                 6.0               2.0               6.0               0.0   \n",
       " 3                 0.0               2.0               5.0               0.0   \n",
       " 4                22.0               2.0               1.0               4.0   \n",
       " ...               ...               ...               ...               ...   \n",
       " 19153            15.0               2.0               6.0               1.0   \n",
       " 19154            15.0               2.0               6.0               4.0   \n",
       " 19155            22.0               2.0               5.0               4.0   \n",
       " 19156             0.0               4.0               5.0               2.0   \n",
       " 19157             3.0               2.0               6.0               1.0   \n",
       " \n",
       "        training_hours    target  \n",
       " 0           -0.488985  1.735070  \n",
       " 1           -0.305825 -0.576346  \n",
       " 2            0.293607 -0.576346  \n",
       " 3           -0.222571  1.735070  \n",
       " 4           -0.955209 -0.576346  \n",
       " ...               ...       ...  \n",
       " 19153       -0.389079  1.735070  \n",
       " 19154       -0.222571  1.735070  \n",
       " 19155       -0.355778 -0.576346  \n",
       " 19156        0.526719 -0.576346  \n",
       " 19157        1.026245 -0.576346  \n",
       " \n",
       " [19158 rows x 13 columns],\n",
       " city_nom                   0\n",
       " city_development_index     0\n",
       " gender_nom                 0\n",
       " relevent_experience_nom    0\n",
       " enrolled_university_nom    0\n",
       " education_level_ord        0\n",
       " major_discipline_nom       0\n",
       " experience_ord             0\n",
       " company_size_ord           0\n",
       " company_type_nom           0\n",
       " last_new_job_ord           0\n",
       " training_hours             0\n",
       " target                     0\n",
       " dtype: int64)"
      ]
     },
     "execution_count": 17,
     "metadata": {},
     "output_type": "execute_result"
    }
   ],
   "source": [
    "data_scientists_job_change_data.shape, data_scientists_job_change_data, data_scientists_job_change_data.isnull().sum()"
   ]
  },
  {
   "cell_type": "markdown",
   "id": "b637dd04",
   "metadata": {},
   "source": [
    "## Task part\n",
    "Now we will perform classification on our selected data using standard ML tools."
   ]
  },
  {
   "cell_type": "code",
   "execution_count": 18,
   "id": "06e04245",
   "metadata": {},
   "outputs": [],
   "source": [
    "from xgboost import XGBClassifier\n",
    "\n",
    "def xGboost_flow(X_train, X_test, y_train, y_test, n_estimators=500, max_depth=5, \n",
    "                 learning_rate=0.5, colsample_bytree=0.70, n_jobs=4, objective='binary:logistic'):\n",
    "    best_f1_score = 0.5\n",
    "    best_learning_rate = learning_rate\n",
    "    \n",
    "    while learning_rate > 0.01:\n",
    "        classifier = XGBClassifier(n_estimators=n_estimators, max_depth=max_depth, \n",
    "                               learning_rate=learning_rate, objective=objective, \n",
    "                               colsample_bytree=colsample_bytree, n_jobs=n_jobs)\n",
    "        accuracies = cross_val_score(classifier, X_train, y_train, scoring=\"accuracy\", cv = 5)\n",
    "        print(f\"accuracy mean value: {accuracies.mean()}\")\n",
    "        print(f\"accuracy STD value: {accuracies.std()}\")\n",
    "        print(f\"========================================\")\n",
    "        \n",
    "        if accuracies.mean() < best_f1_score:\n",
    "            best_f1_score = accuracies.mean()\n",
    "            best_learning_rate = learning_rate\n",
    "            \n",
    "        learning_rate -= 0.05\n",
    "    \n",
    "    final_classifier = XGBClassifier(n_estimators=n_estimators, max_depth=max_depth, \n",
    "                               learning_rate=best_learning_rate, objective=objective, \n",
    "                               colsample_bytree=colsample_bytree, n_jobs=n_jobs)\n",
    "    final_classifier.fit(X_train, y_train)\n",
    "    plt.figure(figsize=(17, 10))\n",
    "    sns.barplot(x = X_train.columns, y = final_classifier.feature_importances_)\n",
    "    \n",
    "    print(f\"XgBoost test Accuracy: {final_classifier.score(X_test, y_test)}\")\n",
    "    print(f\"XgBoost test F1 Score\\n: {classification_report(y_test, final_classifier.predict(X_test))}\")"
   ]
  },
  {
   "cell_type": "code",
   "execution_count": 19,
   "id": "9f33e823",
   "metadata": {},
   "outputs": [],
   "source": [
    "from sklearn.linear_model import LogisticRegression\n",
    "\n",
    "def logreg_flow(X_train, X_test, y_train, y_test, C=100):\n",
    "    best_f1_score = 0\n",
    "    best_C = C\n",
    "    \n",
    "    while C < 1000:\n",
    "        classifier = LogisticRegression(solver='liblinear', C=C)\n",
    "        accuracies = cross_val_score(classifier, X_train, y_train, scoring=\"accuracy\", cv = 10)\n",
    "        print(f\"accuracy mean value: {accuracies.mean()}\")\n",
    "        print(f\"accuracy STD value: {accuracies.std()}\")\n",
    "        print(f\"========================================\")\n",
    "        \n",
    "        if accuracies.mean() > best_f1_score:\n",
    "            best_f1_score = accuracies.mean()\n",
    "            best_C = C\n",
    "            \n",
    "        C += 100\n",
    "        \n",
    "    final_classifier = LogisticRegression(solver='liblinear', C=best_C)\n",
    "    final_classifier.fit(X_train, y_train)\n",
    "    \n",
    "    print(f\"LogisticRegression test Accuracy: {final_classifier.score(X_test, y_test)}\")\n",
    "    print(f\"LogisticRegression test F1 Score\\n: {classification_report(y_test, final_classifier.predict(X_test))}\")"
   ]
  },
  {
   "cell_type": "code",
   "execution_count": 20,
   "id": "25bcdf50",
   "metadata": {},
   "outputs": [],
   "source": [
    "from sklearn.neighbors import KNeighborsClassifier\n",
    "from mlxtend.plotting import plot_decision_regions\n",
    "\n",
    "def knn_flow(X_train, X_test, y_train, y_test, n_neighbors=3):\n",
    "    best_f1_score = 0\n",
    "    neighbors = n_neighbors\n",
    "    best_neighbors_count = neighbors\n",
    "    \n",
    "    while neighbors < n_neighbors * 3:\n",
    "        classifier = KNeighborsClassifier(n_neighbors=neighbors)\n",
    "        accuracies = cross_val_score(classifier, X_train, y_train, scoring=\"accuracy\", cv = 10)\n",
    "        print(f\"accuracy mean value: {accuracies.mean()}\")\n",
    "        print(f\"accuracy STD value: {accuracies.std()}\")\n",
    "        print(f\"========================================\")\n",
    "        \n",
    "        if accuracies.mean() > best_f1_score:\n",
    "            best_f1_score = accuracies.mean()\n",
    "            best_neighbors_count = neighbors\n",
    "            \n",
    "        neighbors += 1\n",
    "        \n",
    "    final_classifier = KNeighborsClassifier(n_neighbors=best_neighbors_count)\n",
    "    final_classifier.fit(X_train, y_train)\n",
    "    \n",
    "    print(f\"Knn test Accuracy: {final_classifier.score(X_test, y_test)}\")\n",
    "    print(f\"Knn test F1 Score\\n: {classification_report(y_test, final_classifier.predict(X_test))}\")"
   ]
  },
  {
   "cell_type": "code",
   "execution_count": 33,
   "id": "78d7ebe8",
   "metadata": {},
   "outputs": [],
   "source": [
    "from catboost import CatBoostClassifier\n",
    "from catboost import Pool\n",
    "from catboost import cv\n",
    "\n",
    "def catboost_flow(X_train, X_test, y_train, y_test, iterations=10, learning_rate=0.5):\n",
    "    best_f1_score = 0\n",
    "    best_learning_rate = learning_rate\n",
    "    \n",
    "    while learning_rate > 0.01:\n",
    "        classifier = CatBoostClassifier(iterations=iterations, learning_rate=learning_rate, task_type='GPU')\n",
    "        \n",
    "        train_pool = Pool(data=X_train, label=y_train, has_header=True)\n",
    "        params = {\n",
    "            'loss_function': 'Logloss',\n",
    "            'iterations': iterations,\n",
    "            'learning_rate': learning_rate,\n",
    "            'eval_metric' : 'TotalF1',\n",
    "        }\n",
    "        cv_data = cv(\n",
    "            params = params,\n",
    "            pool = train_pool,\n",
    "            fold_count=5,\n",
    "            shuffle=True,\n",
    "            partition_random_seed=0,\n",
    "            plot=True,\n",
    "            stratified=False,\n",
    "            verbose=False\n",
    "        )\n",
    "        \n",
    "        f1_mean = cv_data['train-TotalF1-mean'][1]\n",
    "        print(f\"f1-score mean value: {f1_mean}\")\n",
    "        print(f\"f1-score STD value: {cv_data['train-TotalF1-std']}\")\n",
    "        print(f\"========================================\")\n",
    "        \n",
    "        if f1_mean > best_f1_score:\n",
    "            best_f1_score = f1_mean\n",
    "            best_learning_rate = learning_rate\n",
    "            \n",
    "        learning_rate -= 0.05\n",
    "    \n",
    "    final_classifier = CatBoostClassifier(iterations=iterations, learning_rate=best_learning_rate, task_type='CPU')\n",
    "    final_classifier.fit(X_train, y_train)\n",
    "    plt.figure(figsize=(17, 10))\n",
    "    sns.barplot(x = X_train.columns, y = final_classifier.feature_importances_)\n",
    "    \n",
    "    print(f\"Catboost test Accuracy: {final_classifier.score(X_test, y_test)}\")\n",
    "    print(f\"Catboost test F1 Score\\n: {classification_report(y_test, final_classifier.predict(X_test))}\")"
   ]
  },
  {
   "cell_type": "markdown",
   "id": "a9a48143",
   "metadata": {},
   "source": [
    "## Split of the data and future model analysis"
   ]
  },
  {
   "cell_type": "code",
   "execution_count": 22,
   "id": "0a28aa5a",
   "metadata": {},
   "outputs": [],
   "source": [
    "from sklearn.model_selection import train_test_split\n",
    "from sklearn.preprocessing import Binarizer, LabelEncoder"
   ]
  },
  {
   "cell_type": "code",
   "execution_count": 23,
   "id": "82ff3d79",
   "metadata": {},
   "outputs": [],
   "source": [
    "# Let's split our datasets to train and test subsets\n",
    "le = LabelEncoder()\n",
    "\n",
    "heart_attack_target = heart_attack_data['output']\n",
    "heart_attack_data = heart_attack_data.drop(columns = ['output'], axis = 1)\n",
    "\n",
    "for col in heart_attack_data.columns :\n",
    "    le.fit(heart_attack_data[col])\n",
    "    heart_attack_data[col] = le.transform(heart_attack_data[col])\n",
    "\n",
    "heart_attack_X_train, heart_attack_X_test, heart_attack_y_train, heart_attack_y_test = train_test_split(heart_attack_data, heart_attack_target, test_size=.2)"
   ]
  },
  {
   "cell_type": "code",
   "execution_count": 24,
   "id": "e987591e",
   "metadata": {},
   "outputs": [
    {
     "name": "stdout",
     "output_type": "stream",
     "text": [
      "Heart attacks research:\n",
      "accuracy mean value: 0.8345238095238094\n",
      "accuracy STD value: 0.02718748994339125\n",
      "========================================\n",
      "accuracy mean value: 0.8261904761904763\n",
      "accuracy STD value: 0.04135434102471258\n",
      "========================================\n",
      "accuracy mean value: 0.8096938775510203\n",
      "accuracy STD value: 0.042991905603605336\n",
      "========================================\n",
      "accuracy mean value: 0.8054421768707481\n",
      "accuracy STD value: 0.05423583778495557\n",
      "========================================\n",
      "accuracy mean value: 0.8221938775510205\n",
      "accuracy STD value: 0.04497358864178472\n",
      "========================================\n",
      "accuracy mean value: 0.8180272108843537\n",
      "accuracy STD value: 0.04272737074133933\n",
      "========================================\n",
      "accuracy mean value: 0.8137755102040816\n",
      "accuracy STD value: 0.04968781246891197\n",
      "========================================\n",
      "accuracy mean value: 0.8220238095238095\n",
      "accuracy STD value: 0.05221780848854876\n",
      "========================================\n",
      "accuracy mean value: 0.8096088435374149\n",
      "accuracy STD value: 0.04873747319034684\n",
      "========================================\n",
      "accuracy mean value: 0.8096938775510203\n",
      "accuracy STD value: 0.04867378432752734\n",
      "========================================\n",
      "XgBoost test Accuracy: 0.7704918032786885\n",
      "XgBoost test F1 Score\n",
      ":               precision    recall  f1-score   support\n",
      "\n",
      "           0       0.76      0.76      0.76        29\n",
      "           1       0.78      0.78      0.78        32\n",
      "\n",
      "    accuracy                           0.77        61\n",
      "   macro avg       0.77      0.77      0.77        61\n",
      "weighted avg       0.77      0.77      0.77        61\n",
      "\n"
     ]
    },
    {
     "data": {
      "image/png": "[encoded data removed]",
      "text/plain": [
       "<Figure size 1700x1000 with 1 Axes>"
      ]
     },
     "metadata": {},
     "output_type": "display_data"
    }
   ],
   "source": [
    "print(\"Heart attacks research:\")\n",
    "xGboost_flow(heart_attack_X_train, heart_attack_X_test, heart_attack_y_train, heart_attack_y_test)"
   ]
  },
  {
   "cell_type": "code",
   "execution_count": 34,
   "id": "00d5eb98",
   "metadata": {
    "scrolled": false
   },
   "outputs": [
    {
     "data": {
      "application/vnd.jupyter.widget-view+json": {
       "model_id": "3f3903a4bb8e4c149729f3ed572d5c10",
       "version_major": 2,
       "version_minor": 0
      },
      "text/plain": [
       "MetricVisualizer(layout=Layout(align_self='stretch', height='500px'))"
      ]
     },
     "metadata": {},
     "output_type": "display_data"
    },
    {
     "name": "stdout",
     "output_type": "stream",
     "text": [
      "Training on fold [0/5]\n",
      "\n",
      "bestTest = 0.8976098784\n",
      "bestIteration = 3\n",
      "\n",
      "Training on fold [1/5]\n",
      "\n",
      "bestTest = 0.8380014075\n",
      "bestIteration = 2\n",
      "\n",
      "Training on fold [2/5]\n",
      "\n",
      "bestTest = 0.8333333333\n",
      "bestIteration = 4\n",
      "\n",
      "Training on fold [3/5]\n",
      "\n",
      "bestTest = 0.8324514991\n",
      "bestIteration = 0\n",
      "\n",
      "Training on fold [4/5]\n",
      "\n",
      "bestTest = 0.9372469636\n",
      "bestIteration = 5\n",
      "\n",
      "f1-score mean value: 0.8881202534588415\n",
      "f1-score STD value: 0    0.011591\n",
      "1    0.018094\n",
      "2    0.019395\n",
      "3    0.014578\n",
      "4    0.011868\n",
      "5    0.015379\n",
      "6    0.018618\n",
      "7    0.009930\n",
      "8    0.005647\n",
      "9    0.005877\n",
      "Name: train-TotalF1-std, dtype: float64\n",
      "========================================\n"
     ]
    },
    {
     "data": {
      "application/vnd.jupyter.widget-view+json": {
       "model_id": "8bde2f5c9ed8439b9bf72feb48683297",
       "version_major": 2,
       "version_minor": 0
      },
      "text/plain": [
       "MetricVisualizer(layout=Layout(align_self='stretch', height='500px'))"
      ]
     },
     "metadata": {},
     "output_type": "display_data"
    },
    {
     "name": "stdout",
     "output_type": "stream",
     "text": [
      "Training on fold [0/5]\n",
      "\n",
      "bestTest = 0.8976098784\n",
      "bestIteration = 3\n",
      "\n",
      "Training on fold [1/5]\n",
      "\n",
      "bestTest = 0.8171247639\n",
      "bestIteration = 3\n",
      "\n",
      "Training on fold [2/5]\n",
      "\n",
      "bestTest = 0.8129113646\n",
      "bestIteration = 0\n",
      "\n",
      "Training on fold [3/5]\n",
      "\n",
      "bestTest = 0.8324514991\n",
      "bestIteration = 0\n",
      "\n",
      "Training on fold [4/5]\n",
      "\n",
      "bestTest = 0.875\n",
      "bestIteration = 6\n",
      "\n",
      "f1-score mean value: 0.8941603158478078\n",
      "f1-score STD value: 0    0.011591\n",
      "1    0.016498\n",
      "2    0.021299\n",
      "3    0.016258\n",
      "4    0.015379\n",
      "5    0.013397\n",
      "6    0.009678\n",
      "7    0.009662\n",
      "8    0.012329\n",
      "9    0.007654\n",
      "Name: train-TotalF1-std, dtype: float64\n",
      "========================================\n"
     ]
    },
    {
     "data": {
      "application/vnd.jupyter.widget-view+json": {
       "model_id": "d78990c38ff1473394ddf2ccb9871520",
       "version_major": 2,
       "version_minor": 0
      },
      "text/plain": [
       "MetricVisualizer(layout=Layout(align_self='stretch', height='500px'))"
      ]
     },
     "metadata": {},
     "output_type": "display_data"
    },
    {
     "name": "stdout",
     "output_type": "stream",
     "text": [
      "Training on fold [0/5]\n",
      "\n",
      "bestTest = 0.8976098784\n",
      "bestIteration = 3\n",
      "\n",
      "Training on fold [1/5]\n",
      "\n",
      "bestTest = 0.8171247639\n",
      "bestIteration = 7\n",
      "\n",
      "Training on fold [2/5]\n",
      "\n",
      "bestTest = 0.8129113646\n",
      "bestIteration = 0\n",
      "\n",
      "Training on fold [3/5]\n",
      "\n",
      "bestTest = 0.8324514991\n",
      "bestIteration = 0\n",
      "\n",
      "Training on fold [4/5]\n",
      "\n",
      "bestTest = 0.9372469636\n",
      "bestIteration = 6\n",
      "\n",
      "f1-score mean value: 0.8929971892294857\n",
      "f1-score STD value: 0    0.011591\n",
      "1    0.013740\n",
      "2    0.014068\n",
      "3    0.018539\n",
      "4    0.018204\n",
      "5    0.015125\n",
      "6    0.019823\n",
      "7    0.015245\n",
      "8    0.012120\n",
      "9    0.007823\n",
      "Name: train-TotalF1-std, dtype: float64\n",
      "========================================\n"
     ]
    },
    {
     "data": {
      "application/vnd.jupyter.widget-view+json": {
       "model_id": "ec20a667d2b547f39180235a8e5caae1",
       "version_major": 2,
       "version_minor": 0
      },
      "text/plain": [
       "MetricVisualizer(layout=Layout(align_self='stretch', height='500px'))"
      ]
     },
     "metadata": {},
     "output_type": "display_data"
    },
    {
     "name": "stdout",
     "output_type": "stream",
     "text": [
      "Training on fold [0/5]\n",
      "\n",
      "bestTest = 0.8766009852\n",
      "bestIteration = 4\n",
      "\n",
      "Training on fold [1/5]\n",
      "\n",
      "bestTest = 0.8153499769\n",
      "bestIteration = 6\n",
      "\n",
      "Training on fold [2/5]\n",
      "\n",
      "bestTest = 0.853713969\n",
      "bestIteration = 9\n",
      "\n",
      "Training on fold [3/5]\n",
      "\n",
      "bestTest = 0.8324514991\n",
      "bestIteration = 0\n",
      "\n",
      "Training on fold [4/5]\n",
      "\n",
      "bestTest = 0.9166666667\n",
      "bestIteration = 5\n",
      "\n",
      "f1-score mean value: 0.8785126200344899\n",
      "f1-score STD value: 0    0.011591\n",
      "1    0.012658\n",
      "2    0.022157\n",
      "3    0.017992\n",
      "4    0.016309\n",
      "5    0.014962\n",
      "6    0.015231\n",
      "7    0.018397\n",
      "8    0.007812\n",
      "9    0.010079\n",
      "Name: train-TotalF1-std, dtype: float64\n",
      "========================================\n"
     ]
    },
    {
     "data": {
      "application/vnd.jupyter.widget-view+json": {
       "model_id": "b0c8112de7af4072a152f243f4df9223",
       "version_major": 2,
       "version_minor": 0
      },
      "text/plain": [
       "MetricVisualizer(layout=Layout(align_self='stretch', height='500px'))"
      ]
     },
     "metadata": {},
     "output_type": "display_data"
    },
    {
     "name": "stdout",
     "output_type": "stream",
     "text": [
      "Training on fold [0/5]\n",
      "\n",
      "bestTest = 0.8976098784\n",
      "bestIteration = 3\n",
      "\n",
      "Training on fold [1/5]\n",
      "\n",
      "bestTest = 0.8171247639\n",
      "bestIteration = 9\n",
      "\n",
      "Training on fold [2/5]\n",
      "\n",
      "bestTest = 0.8339160839\n",
      "bestIteration = 5\n",
      "\n",
      "Training on fold [3/5]\n",
      "\n",
      "bestTest = 0.8324514991\n",
      "bestIteration = 0\n",
      "\n",
      "Training on fold [4/5]\n",
      "\n",
      "bestTest = 0.9579552329\n",
      "bestIteration = 4\n",
      "\n",
      "f1-score mean value: 0.8880383939628331\n",
      "f1-score STD value: 0    0.011591\n",
      "1    0.021320\n",
      "2    0.015069\n",
      "3    0.021494\n",
      "4    0.017363\n",
      "5    0.006347\n",
      "6    0.012325\n",
      "7    0.010064\n",
      "8    0.005231\n",
      "9    0.005887\n",
      "Name: train-TotalF1-std, dtype: float64\n",
      "========================================\n"
     ]
    },
    {
     "data": {
      "application/vnd.jupyter.widget-view+json": {
       "model_id": "c7131fec6d554498bf682d3ea47b0848",
       "version_major": 2,
       "version_minor": 0
      },
      "text/plain": [
       "MetricVisualizer(layout=Layout(align_self='stretch', height='500px'))"
      ]
     },
     "metadata": {},
     "output_type": "display_data"
    },
    {
     "name": "stdout",
     "output_type": "stream",
     "text": [
      "Training on fold [0/5]\n",
      "\n",
      "bestTest = 0.8766009852\n",
      "bestIteration = 3\n",
      "\n",
      "Training on fold [1/5]\n",
      "\n",
      "bestTest = 0.7975017593\n",
      "bestIteration = 0\n",
      "\n",
      "Training on fold [2/5]\n",
      "\n",
      "bestTest = 0.8333333333\n",
      "bestIteration = 9\n",
      "\n",
      "Training on fold [3/5]\n",
      "\n",
      "bestTest = 0.8324514991\n",
      "bestIteration = 0\n",
      "\n",
      "Training on fold [4/5]\n",
      "\n",
      "bestTest = 0.9579552329\n",
      "bestIteration = 4\n",
      "\n",
      "f1-score mean value: 0.8778279789082202\n",
      "f1-score STD value: 0    0.011591\n",
      "1    0.011630\n",
      "2    0.028840\n",
      "3    0.019895\n",
      "4    0.021057\n",
      "5    0.016253\n",
      "6    0.016962\n",
      "7    0.016909\n",
      "8    0.012391\n",
      "9    0.012908\n",
      "Name: train-TotalF1-std, dtype: float64\n",
      "========================================\n"
     ]
    },
    {
     "data": {
      "application/vnd.jupyter.widget-view+json": {
       "model_id": "ff0a5a024fe34e3d9c15594551c8a682",
       "version_major": 2,
       "version_minor": 0
      },
      "text/plain": [
       "MetricVisualizer(layout=Layout(align_self='stretch', height='500px'))"
      ]
     },
     "metadata": {},
     "output_type": "display_data"
    },
    {
     "name": "stdout",
     "output_type": "stream",
     "text": [
      "Training on fold [0/5]\n",
      "\n",
      "bestTest = 0.8766009852\n",
      "bestIteration = 2\n",
      "\n",
      "Training on fold [1/5]\n",
      "\n",
      "bestTest = 0.7975017593\n",
      "bestIteration = 0\n",
      "\n",
      "Training on fold [2/5]\n",
      "\n",
      "bestTest = 0.8129113646\n",
      "bestIteration = 0\n",
      "\n",
      "Training on fold [3/5]\n",
      "\n",
      "bestTest = 0.8324514991\n",
      "bestIteration = 0\n",
      "\n",
      "Training on fold [4/5]\n",
      "\n",
      "bestTest = 0.8926619828\n",
      "bestIteration = 8\n",
      "\n",
      "f1-score mean value: 0.8726061928551484\n",
      "f1-score STD value: 0    0.011591\n",
      "1    0.009407\n",
      "2    0.018564\n",
      "3    0.012034\n",
      "4    0.013038\n",
      "5    0.007489\n",
      "6    0.009821\n",
      "7    0.011872\n",
      "8    0.014049\n",
      "9    0.019030\n",
      "Name: train-TotalF1-std, dtype: float64\n",
      "========================================\n"
     ]
    },
    {
     "data": {
      "application/vnd.jupyter.widget-view+json": {
       "model_id": "87ae26a35d4c4180a26e30a17aa9cc16",
       "version_major": 2,
       "version_minor": 0
      },
      "text/plain": [
       "MetricVisualizer(layout=Layout(align_self='stretch', height='500px'))"
      ]
     },
     "metadata": {},
     "output_type": "display_data"
    },
    {
     "name": "stdout",
     "output_type": "stream",
     "text": [
      "Training on fold [0/5]\n",
      "\n",
      "bestTest = 0.8766009852\n",
      "bestIteration = 2\n",
      "\n",
      "Training on fold [1/5]\n",
      "\n",
      "bestTest = 0.8153499769\n",
      "bestIteration = 5\n",
      "\n",
      "Training on fold [2/5]\n",
      "\n",
      "bestTest = 0.8129113646\n",
      "bestIteration = 0\n",
      "\n",
      "Training on fold [3/5]\n",
      "\n",
      "bestTest = 0.8324514991\n",
      "bestIteration = 0\n",
      "\n",
      "Training on fold [4/5]\n",
      "\n",
      "bestTest = 0.8722222222\n",
      "bestIteration = 6\n",
      "\n",
      "f1-score mean value: 0.8682834100815018\n",
      "f1-score STD value: 0    0.011591\n",
      "1    0.007849\n",
      "2    0.017588\n",
      "3    0.012420\n",
      "4    0.016583\n",
      "5    0.015061\n",
      "6    0.018959\n",
      "7    0.017420\n",
      "8    0.017896\n",
      "9    0.016375\n",
      "Name: train-TotalF1-std, dtype: float64\n",
      "========================================\n"
     ]
    },
    {
     "data": {
      "application/vnd.jupyter.widget-view+json": {
       "model_id": "2eb486f7d14f4e0f99e277b1783b317a",
       "version_major": 2,
       "version_minor": 0
      },
      "text/plain": [
       "MetricVisualizer(layout=Layout(align_self='stretch', height='500px'))"
      ]
     },
     "metadata": {},
     "output_type": "display_data"
    },
    {
     "name": "stdout",
     "output_type": "stream",
     "text": [
      "Training on fold [0/5]\n",
      "\n",
      "bestTest = 0.8766009852\n",
      "bestIteration = 5\n",
      "\n",
      "Training on fold [1/5]\n",
      "\n",
      "bestTest = 0.8367346939\n",
      "bestIteration = 9\n",
      "\n",
      "Training on fold [2/5]\n",
      "\n",
      "bestTest = 0.8132352941\n",
      "bestIteration = 5\n",
      "\n",
      "Training on fold [3/5]\n",
      "\n",
      "bestTest = 0.8324514991\n",
      "bestIteration = 0\n",
      "\n",
      "Training on fold [4/5]\n",
      "\n",
      "bestTest = 0.8722222222\n",
      "bestIteration = 6\n",
      "\n",
      "f1-score mean value: 0.8715185497128498\n",
      "f1-score STD value: 0    0.011591\n",
      "1    0.008492\n",
      "2    0.026217\n",
      "3    0.019772\n",
      "4    0.026928\n",
      "5    0.018723\n",
      "6    0.016284\n",
      "7    0.015021\n",
      "8    0.018432\n",
      "9    0.015462\n",
      "Name: train-TotalF1-std, dtype: float64\n",
      "========================================\n"
     ]
    },
    {
     "data": {
      "application/vnd.jupyter.widget-view+json": {
       "model_id": "e31690c5399444759c23008fe0d93481",
       "version_major": 2,
       "version_minor": 0
      },
      "text/plain": [
       "MetricVisualizer(layout=Layout(align_self='stretch', height='500px'))"
      ]
     },
     "metadata": {},
     "output_type": "display_data"
    },
    {
     "name": "stdout",
     "output_type": "stream",
     "text": [
      "Training on fold [0/5]\n",
      "\n",
      "bestTest = 0.8766009852\n",
      "bestIteration = 3\n",
      "\n",
      "Training on fold [1/5]\n",
      "\n",
      "bestTest = 0.7975017593\n",
      "bestIteration = 0\n",
      "\n",
      "Training on fold [2/5]\n",
      "\n",
      "bestTest = 0.8129113646\n",
      "bestIteration = 0\n",
      "\n",
      "Training on fold [3/5]\n",
      "\n",
      "bestTest = 0.8324514991\n",
      "bestIteration = 0\n",
      "\n",
      "Training on fold [4/5]\n",
      "\n",
      "bestTest = 0.8942586654\n",
      "bestIteration = 6\n",
      "\n",
      "f1-score mean value: 0.8778092157701431\n",
      "f1-score STD value: 0    0.011591\n",
      "1    0.016638\n",
      "2    0.012821\n",
      "3    0.007816\n",
      "4    0.007647\n",
      "5    0.012034\n",
      "6    0.014222\n",
      "7    0.013486\n",
      "8    0.016215\n",
      "9    0.019830\n",
      "Name: train-TotalF1-std, dtype: float64\n",
      "========================================\n",
      "0:\tlearn: 0.5669955\ttotal: 1.86ms\tremaining: 16.7ms\n",
      "1:\tlearn: 0.4942642\ttotal: 2.68ms\tremaining: 10.7ms\n",
      "2:\tlearn: 0.4469945\ttotal: 3.39ms\tremaining: 7.91ms\n",
      "3:\tlearn: 0.4104358\ttotal: 4.17ms\tremaining: 6.25ms\n",
      "4:\tlearn: 0.3797770\ttotal: 5.03ms\tremaining: 5.03ms\n",
      "5:\tlearn: 0.3523515\ttotal: 5.84ms\tremaining: 3.9ms\n",
      "6:\tlearn: 0.3282172\ttotal: 6.68ms\tremaining: 2.86ms\n",
      "7:\tlearn: 0.3117196\ttotal: 7.53ms\tremaining: 1.88ms\n",
      "8:\tlearn: 0.2988167\ttotal: 8.28ms\tremaining: 919us\n",
      "9:\tlearn: 0.2857779\ttotal: 8.99ms\tremaining: 0us\n",
      "Catboost test Accuracy: 0.8524590163934426\n",
      "Catboost test F1 Score\n",
      ":               precision    recall  f1-score   support\n",
      "\n",
      "           0       0.88      0.79      0.84        29\n",
      "           1       0.83      0.91      0.87        32\n",
      "\n",
      "    accuracy                           0.85        61\n",
      "   macro avg       0.86      0.85      0.85        61\n",
      "weighted avg       0.86      0.85      0.85        61\n",
      "\n"
     ]
    },
    {
     "data": {
      "image/png": "[encoded data removed]",
      "text/plain": [
       "<Figure size 1700x1000 with 1 Axes>"
      ]
     },
     "metadata": {},
     "output_type": "display_data"
    }
   ],
   "source": [
    "catboost_flow(heart_attack_X_train, heart_attack_X_test, heart_attack_y_train, heart_attack_y_test)"
   ]
  },
  {
   "cell_type": "code",
   "execution_count": 35,
   "id": "9a884b39",
   "metadata": {},
   "outputs": [
    {
     "name": "stdout",
     "output_type": "stream",
     "text": [
      "accuracy mean value: 0.8093333333333333\n",
      "accuracy STD value: 0.07118910653245263\n",
      "========================================\n",
      "accuracy mean value: 0.8093333333333333\n",
      "accuracy STD value: 0.07118910653245263\n",
      "========================================\n",
      "accuracy mean value: 0.8093333333333333\n",
      "accuracy STD value: 0.07118910653245263\n",
      "========================================\n",
      "accuracy mean value: 0.8093333333333333\n",
      "accuracy STD value: 0.07118910653245263\n",
      "========================================\n",
      "accuracy mean value: 0.8093333333333333\n",
      "accuracy STD value: 0.07118910653245263\n",
      "========================================\n",
      "accuracy mean value: 0.8093333333333333\n",
      "accuracy STD value: 0.07118910653245263\n",
      "========================================\n",
      "accuracy mean value: 0.8093333333333333\n",
      "accuracy STD value: 0.07118910653245263\n",
      "========================================\n",
      "accuracy mean value: 0.8093333333333333\n",
      "accuracy STD value: 0.07118910653245263\n",
      "========================================\n",
      "accuracy mean value: 0.8093333333333333\n",
      "accuracy STD value: 0.07118910653245263\n",
      "========================================\n",
      "LogisticRegression test Accuracy: 0.8524590163934426\n",
      "LogisticRegression test F1 Score\n",
      ":               precision    recall  f1-score   support\n",
      "\n",
      "           0       0.83      0.86      0.85        29\n",
      "           1       0.87      0.84      0.86        32\n",
      "\n",
      "    accuracy                           0.85        61\n",
      "   macro avg       0.85      0.85      0.85        61\n",
      "weighted avg       0.85      0.85      0.85        61\n",
      "\n"
     ]
    }
   ],
   "source": [
    "logreg_flow(heart_attack_X_train, heart_attack_X_test, heart_attack_y_train, heart_attack_y_test)"
   ]
  },
  {
   "cell_type": "code",
   "execution_count": 36,
   "id": "2c141002",
   "metadata": {},
   "outputs": [
    {
     "name": "stdout",
     "output_type": "stream",
     "text": [
      "accuracy mean value: 0.6775\n",
      "accuracy STD value: 0.07224668389160384\n",
      "========================================\n",
      "accuracy mean value: 0.6443333333333333\n",
      "accuracy STD value: 0.09239769116884541\n",
      "========================================\n",
      "accuracy mean value: 0.6686666666666666\n",
      "accuracy STD value: 0.07436695801526674\n",
      "========================================\n",
      "accuracy mean value: 0.6315000000000001\n",
      "accuracy STD value: 0.09047851187498117\n",
      "========================================\n",
      "accuracy mean value: 0.6519999999999999\n",
      "accuracy STD value: 0.09376329535354203\n",
      "========================================\n",
      "accuracy mean value: 0.6401666666666668\n",
      "accuracy STD value: 0.08640489312275985\n",
      "========================================\n",
      "Knn test Accuracy: 0.639344262295082\n",
      "Knn test F1 Score\n",
      ":               precision    recall  f1-score   support\n",
      "\n",
      "           0       0.64      0.55      0.59        29\n",
      "           1       0.64      0.72      0.68        32\n",
      "\n",
      "    accuracy                           0.64        61\n",
      "   macro avg       0.64      0.64      0.63        61\n",
      "weighted avg       0.64      0.64      0.64        61\n",
      "\n"
     ]
    }
   ],
   "source": [
    "knn_flow(heart_attack_X_train, heart_attack_X_test, heart_attack_y_train, heart_attack_y_test)"
   ]
  },
  {
   "cell_type": "code",
   "execution_count": 39,
   "id": "f9d9d30d",
   "metadata": {},
   "outputs": [],
   "source": [
    "binarizer = Binarizer(threshold=5)\n",
    "le = LabelEncoder()\n",
    "\n",
    "quality_of_wine_target = binarizer.transform(quality_of_wine_data['quality'].values.reshape(-1,1))\n",
    "quality_of_wine_data['Type'] = le.fit_transform(quality_of_wine_data['Type'])\n",
    "\n",
    "quality_of_wine_data = quality_of_wine_data.drop(columns = ['quality'], axis = 1)\n",
    "\n",
    "quality_of_wine_X_train, quality_of_wine_X_test, quality_of_wine_y_train, quality_of_wine_y_test = train_test_split(quality_of_wine_data, quality_of_wine_target, test_size=.2)"
   ]
  },
  {
   "cell_type": "code",
   "execution_count": 40,
   "id": "e73413e6",
   "metadata": {},
   "outputs": [
    {
     "name": "stdout",
     "output_type": "stream",
     "text": [
      "accuracy mean value: 0.9936509823829904\n",
      "accuracy STD value: 0.0024966462564215484\n",
      "========================================\n",
      "accuracy mean value: 0.9939972916271655\n",
      "accuracy STD value: 0.0020266177820387524\n",
      "========================================\n",
      "accuracy mean value: 0.9942281052280807\n",
      "accuracy STD value: 0.0020143625355249794\n",
      "========================================\n",
      "accuracy mean value: 0.993535568178966\n",
      "accuracy STD value: 0.0020235612377707828\n",
      "========================================\n",
      "accuracy mean value: 0.9936509675758568\n",
      "accuracy STD value: 0.0018006778637972296\n",
      "========================================\n",
      "accuracy mean value: 0.9936895031414444\n",
      "accuracy STD value: 0.0017350916209070012\n",
      "========================================\n",
      "accuracy mean value: 0.9913037703478705\n",
      "accuracy STD value: 0.0016019537220383522\n",
      "========================================\n",
      "accuracy mean value: 0.984531483409014\n",
      "accuracy STD value: 0.0020732402481958494\n",
      "========================================\n",
      "accuracy mean value: 0.965445695096092\n",
      "accuracy STD value: 0.00454190619408107\n",
      "========================================\n",
      "accuracy mean value: 0.9177699375649802\n",
      "accuracy STD value: 0.007345694798753688\n",
      "========================================\n",
      "XgBoost test Accuracy: 0.9972294905340927\n",
      "XgBoost test F1 Score\n",
      ":               precision    recall  f1-score   support\n",
      "\n",
      "           0       1.00      1.00      1.00      2498\n",
      "           1       1.00      1.00      1.00      3999\n",
      "\n",
      "    accuracy                           1.00      6497\n",
      "   macro avg       1.00      1.00      1.00      6497\n",
      "weighted avg       1.00      1.00      1.00      6497\n",
      "\n"
     ]
    },
    {
     "data": {
      "image/png": "[encoded data removed]",
      "text/plain": [
       "<Figure size 1700x1000 with 1 Axes>"
      ]
     },
     "metadata": {},
     "output_type": "display_data"
    }
   ],
   "source": [
    "xGboost_flow(quality_of_wine_X_train, quality_of_wine_X_test, quality_of_wine_y_train, quality_of_wine_y_test)"
   ]
  },
  {
   "cell_type": "code",
   "execution_count": 41,
   "id": "decb4bbf",
   "metadata": {},
   "outputs": [
    {
     "name": "stdout",
     "output_type": "stream",
     "text": [
      "accuracy mean value: 0.7318773194285361\n",
      "accuracy STD value: 0.013541732311856718\n",
      "========================================\n",
      "accuracy mean value: 0.728182495132699\n",
      "accuracy STD value: 0.013825466833490363\n",
      "========================================\n",
      "accuracy mean value: 0.7258353941425331\n",
      "accuracy STD value: 0.013476925404531173\n",
      "========================================\n",
      "accuracy mean value: 0.7268359862456722\n",
      "accuracy STD value: 0.012528878926391804\n",
      "========================================\n",
      "accuracy mean value: 0.7276823027510135\n",
      "accuracy STD value: 0.012256410396324517\n",
      "========================================\n",
      "accuracy mean value: 0.7269907950028747\n",
      "accuracy STD value: 0.01109035690824359\n",
      "========================================\n",
      "accuracy mean value: 0.7325313875384653\n",
      "accuracy STD value: 0.011561523773664604\n",
      "========================================\n",
      "accuracy mean value: 0.7289521551636045\n",
      "accuracy STD value: 0.013557599325262685\n",
      "========================================\n",
      "accuracy mean value: 0.7265665334064354\n",
      "accuracy STD value: 0.012882986360404833\n",
      "========================================\n",
      "LogisticRegression test Accuracy: 0.7378790210866554\n",
      "LogisticRegression test F1 Score\n",
      ":               precision    recall  f1-score   support\n",
      "\n",
      "           0       0.71      0.53      0.61      2498\n",
      "           1       0.75      0.87      0.80      3999\n",
      "\n",
      "    accuracy                           0.74      6497\n",
      "   macro avg       0.73      0.70      0.71      6497\n",
      "weighted avg       0.73      0.74      0.73      6497\n",
      "\n"
     ]
    }
   ],
   "source": [
    "logreg_flow(quality_of_wine_X_train, quality_of_wine_X_test, quality_of_wine_y_train, quality_of_wine_y_test)"
   ]
  },
  {
   "cell_type": "code",
   "execution_count": 42,
   "id": "0723c0be",
   "metadata": {},
   "outputs": [
    {
     "name": "stdout",
     "output_type": "stream",
     "text": [
      "accuracy mean value: 0.9464370882269222\n",
      "accuracy STD value: 0.005704637812645252\n",
      "========================================\n",
      "accuracy mean value: 0.911305837710424\n",
      "accuracy STD value: 0.007747288361253136\n",
      "========================================\n",
      "accuracy mean value: 0.8843699877462197\n",
      "accuracy STD value: 0.006245460569624177\n",
      "========================================\n",
      "accuracy mean value: 0.849238411410085\n",
      "accuracy STD value: 0.0070466463127201485\n",
      "========================================\n",
      "accuracy mean value: 0.8228031536971198\n",
      "accuracy STD value: 0.007743008459284395\n",
      "========================================\n",
      "accuracy mean value: 0.7963677923142702\n",
      "accuracy STD value: 0.007182989200727803\n",
      "========================================\n",
      "Knn test Accuracy: 0.9618285362474989\n",
      "Knn test F1 Score\n",
      ":               precision    recall  f1-score   support\n",
      "\n",
      "           0       0.95      0.95      0.95      2498\n",
      "           1       0.97      0.97      0.97      3999\n",
      "\n",
      "    accuracy                           0.96      6497\n",
      "   macro avg       0.96      0.96      0.96      6497\n",
      "weighted avg       0.96      0.96      0.96      6497\n",
      "\n"
     ]
    }
   ],
   "source": [
    "knn_flow(quality_of_wine_X_train, quality_of_wine_X_test, quality_of_wine_y_train, quality_of_wine_y_test)"
   ]
  },
  {
   "cell_type": "code",
   "execution_count": 43,
   "id": "d2c3da8d",
   "metadata": {},
   "outputs": [
    {
     "data": {
      "application/vnd.jupyter.widget-view+json": {
       "model_id": "9c1548e2617648059d7de50d8b75e359",
       "version_major": 2,
       "version_minor": 0
      },
      "text/plain": [
       "MetricVisualizer(layout=Layout(align_self='stretch', height='500px'))"
      ]
     },
     "metadata": {},
     "output_type": "display_data"
    },
    {
     "name": "stdout",
     "output_type": "stream",
     "text": [
      "Training on fold [0/5]\n",
      "\n",
      "bestTest = 0.7954544203\n",
      "bestIteration = 9\n",
      "\n",
      "Training on fold [1/5]\n",
      "\n",
      "bestTest = 0.797639381\n",
      "bestIteration = 9\n",
      "\n",
      "Training on fold [2/5]\n",
      "\n",
      "bestTest = 0.7982779569\n",
      "bestIteration = 9\n",
      "\n",
      "Training on fold [3/5]\n",
      "\n",
      "bestTest = 0.8017613615\n",
      "bestIteration = 9\n",
      "\n",
      "Training on fold [4/5]\n",
      "\n",
      "bestTest = 0.7986552729\n",
      "bestIteration = 9\n",
      "\n",
      "f1-score mean value: 0.7545136510699589\n",
      "f1-score STD value: 0    0.001346\n",
      "1    0.001194\n",
      "2    0.002306\n",
      "3    0.003070\n",
      "4    0.001827\n",
      "5    0.002504\n",
      "6    0.001508\n",
      "7    0.001697\n",
      "8    0.003157\n",
      "9    0.004625\n",
      "Name: train-TotalF1-std, dtype: float64\n",
      "========================================\n"
     ]
    },
    {
     "data": {
      "application/vnd.jupyter.widget-view+json": {
       "model_id": "346491f63ca7421daa7077f13aebac83",
       "version_major": 2,
       "version_minor": 0
      },
      "text/plain": [
       "MetricVisualizer(layout=Layout(align_self='stretch', height='500px'))"
      ]
     },
     "metadata": {},
     "output_type": "display_data"
    },
    {
     "name": "stdout",
     "output_type": "stream",
     "text": [
      "Training on fold [0/5]\n",
      "\n",
      "bestTest = 0.7917028563\n",
      "bestIteration = 9\n",
      "\n",
      "Training on fold [1/5]\n",
      "\n",
      "bestTest = 0.7933972518\n",
      "bestIteration = 9\n",
      "\n",
      "Training on fold [2/5]\n",
      "\n",
      "bestTest = 0.8035910224\n",
      "bestIteration = 9\n",
      "\n",
      "Training on fold [3/5]\n",
      "\n",
      "bestTest = 0.7895119788\n",
      "bestIteration = 9\n",
      "\n",
      "Training on fold [4/5]\n",
      "\n",
      "bestTest = 0.795680427\n",
      "bestIteration = 9\n",
      "\n",
      "f1-score mean value: 0.7539216161302459\n",
      "f1-score STD value: 0    0.001346\n",
      "1    0.001344\n",
      "2    0.004500\n",
      "3    0.002948\n",
      "4    0.001182\n",
      "5    0.002245\n",
      "6    0.003485\n",
      "7    0.003669\n",
      "8    0.004191\n",
      "9    0.004697\n",
      "Name: train-TotalF1-std, dtype: float64\n",
      "========================================\n"
     ]
    },
    {
     "data": {
      "application/vnd.jupyter.widget-view+json": {
       "model_id": "a0df2a49c95b44b58ec62c87fc75044b",
       "version_major": 2,
       "version_minor": 0
      },
      "text/plain": [
       "MetricVisualizer(layout=Layout(align_self='stretch', height='500px'))"
      ]
     },
     "metadata": {},
     "output_type": "display_data"
    },
    {
     "name": "stdout",
     "output_type": "stream",
     "text": [
      "Training on fold [0/5]\n",
      "\n",
      "bestTest = 0.7851224558\n",
      "bestIteration = 9\n",
      "\n",
      "Training on fold [1/5]\n",
      "\n",
      "bestTest = 0.7877313041\n",
      "bestIteration = 9\n",
      "\n",
      "Training on fold [2/5]\n",
      "\n",
      "bestTest = 0.7963323988\n",
      "bestIteration = 9\n",
      "\n",
      "Training on fold [3/5]\n",
      "\n",
      "bestTest = 0.7833983924\n",
      "bestIteration = 9\n",
      "\n",
      "Training on fold [4/5]\n",
      "\n",
      "bestTest = 0.7886225055\n",
      "bestIteration = 9\n",
      "\n",
      "f1-score mean value: 0.7529927743442819\n",
      "f1-score STD value: 0    0.001346\n",
      "1    0.001099\n",
      "2    0.004007\n",
      "3    0.004858\n",
      "4    0.004142\n",
      "5    0.002610\n",
      "6    0.003721\n",
      "7    0.004700\n",
      "8    0.003778\n",
      "9    0.003233\n",
      "Name: train-TotalF1-std, dtype: float64\n",
      "========================================\n"
     ]
    },
    {
     "data": {
      "application/vnd.jupyter.widget-view+json": {
       "model_id": "1e32c340f85840eeb277037e20e4ce17",
       "version_major": 2,
       "version_minor": 0
      },
      "text/plain": [
       "MetricVisualizer(layout=Layout(align_self='stretch', height='500px'))"
      ]
     },
     "metadata": {},
     "output_type": "display_data"
    },
    {
     "name": "stdout",
     "output_type": "stream",
     "text": [
      "Training on fold [0/5]\n",
      "\n",
      "bestTest = 0.7776056754\n",
      "bestIteration = 9\n",
      "\n",
      "Training on fold [1/5]\n",
      "\n",
      "bestTest = 0.775324969\n",
      "bestIteration = 9\n",
      "\n",
      "Training on fold [2/5]\n",
      "\n",
      "bestTest = 0.7932696735\n",
      "bestIteration = 9\n",
      "\n",
      "Training on fold [3/5]\n",
      "\n",
      "bestTest = 0.786596032\n",
      "bestIteration = 9\n",
      "\n",
      "Training on fold [4/5]\n",
      "\n",
      "bestTest = 0.7805334477\n",
      "bestIteration = 9\n",
      "\n",
      "f1-score mean value: 0.7506639640192357\n",
      "f1-score STD value: 0    0.001346\n",
      "1    0.001206\n",
      "2    0.004114\n",
      "3    0.004663\n",
      "4    0.005006\n",
      "5    0.004501\n",
      "6    0.005137\n",
      "7    0.003624\n",
      "8    0.003136\n",
      "9    0.003322\n",
      "Name: train-TotalF1-std, dtype: float64\n",
      "========================================\n"
     ]
    },
    {
     "data": {
      "application/vnd.jupyter.widget-view+json": {
       "model_id": "99d0e20708b54d849e2c6f4b9511d8a0",
       "version_major": 2,
       "version_minor": 0
      },
      "text/plain": [
       "MetricVisualizer(layout=Layout(align_self='stretch', height='500px'))"
      ]
     },
     "metadata": {},
     "output_type": "display_data"
    },
    {
     "name": "stdout",
     "output_type": "stream",
     "text": [
      "Training on fold [0/5]\n",
      "\n",
      "bestTest = 0.7803326859\n",
      "bestIteration = 9\n",
      "\n",
      "Training on fold [1/5]\n",
      "\n",
      "bestTest = 0.7765240513\n",
      "bestIteration = 9\n",
      "\n",
      "Training on fold [2/5]\n",
      "\n",
      "bestTest = 0.7892958981\n",
      "bestIteration = 9\n",
      "\n",
      "Training on fold [3/5]\n",
      "\n",
      "bestTest = 0.779702394\n",
      "bestIteration = 9\n",
      "\n",
      "Training on fold [4/5]\n",
      "\n",
      "bestTest = 0.7787797331\n",
      "bestIteration = 9\n",
      "\n",
      "f1-score mean value: 0.7505485364369118\n",
      "f1-score STD value: 0    0.001346\n",
      "1    0.001153\n",
      "2    0.002888\n",
      "3    0.004234\n",
      "4    0.005448\n",
      "5    0.003876\n",
      "6    0.004606\n",
      "7    0.003855\n",
      "8    0.002774\n",
      "9    0.002616\n",
      "Name: train-TotalF1-std, dtype: float64\n",
      "========================================\n"
     ]
    },
    {
     "data": {
      "application/vnd.jupyter.widget-view+json": {
       "model_id": "635b6b8f3685415e8082c58eefe24bb7",
       "version_major": 2,
       "version_minor": 0
      },
      "text/plain": [
       "MetricVisualizer(layout=Layout(align_self='stretch', height='500px'))"
      ]
     },
     "metadata": {},
     "output_type": "display_data"
    },
    {
     "name": "stdout",
     "output_type": "stream",
     "text": [
      "Training on fold [0/5]\n",
      "\n",
      "bestTest = 0.7708545625\n",
      "bestIteration = 9\n",
      "\n",
      "Training on fold [1/5]\n",
      "\n",
      "bestTest = 0.765905936\n",
      "bestIteration = 9\n",
      "\n",
      "Training on fold [2/5]\n",
      "\n",
      "bestTest = 0.7818981107\n",
      "bestIteration = 9\n",
      "\n",
      "Training on fold [3/5]\n",
      "\n",
      "bestTest = 0.7738039303\n",
      "bestIteration = 9\n",
      "\n",
      "Training on fold [4/5]\n",
      "\n",
      "bestTest = 0.7749109859\n",
      "bestIteration = 9\n",
      "\n",
      "f1-score mean value: 0.7503019950147907\n",
      "f1-score STD value: 0    0.001346\n",
      "1    0.001242\n",
      "2    0.003097\n",
      "3    0.002657\n",
      "4    0.005110\n",
      "5    0.002883\n",
      "6    0.003655\n",
      "7    0.003375\n",
      "8    0.001956\n",
      "9    0.001577\n",
      "Name: train-TotalF1-std, dtype: float64\n",
      "========================================\n"
     ]
    },
    {
     "data": {
      "application/vnd.jupyter.widget-view+json": {
       "model_id": "b7bb8f959e0447778e85cc6f6a2effad",
       "version_major": 2,
       "version_minor": 0
      },
      "text/plain": [
       "MetricVisualizer(layout=Layout(align_self='stretch', height='500px'))"
      ]
     },
     "metadata": {},
     "output_type": "display_data"
    },
    {
     "name": "stdout",
     "output_type": "stream",
     "text": [
      "Training on fold [0/5]\n",
      "\n",
      "bestTest = 0.7687210978\n",
      "bestIteration = 9\n",
      "\n",
      "Training on fold [1/5]\n",
      "\n",
      "bestTest = 0.7633838034\n",
      "bestIteration = 9\n",
      "\n",
      "Training on fold [2/5]\n",
      "\n",
      "bestTest = 0.7611543224\n",
      "bestIteration = 9\n",
      "\n",
      "Training on fold [3/5]\n",
      "\n",
      "bestTest = 0.7708417656\n",
      "bestIteration = 9\n",
      "\n",
      "Training on fold [4/5]\n",
      "\n",
      "bestTest = 0.772365666\n",
      "bestIteration = 8\n",
      "\n",
      "f1-score mean value: 0.7494292441213009\n",
      "f1-score STD value: 0    0.001346\n",
      "1    0.001002\n",
      "2    0.001524\n",
      "3    0.001719\n",
      "4    0.001285\n",
      "5    0.002619\n",
      "6    0.002321\n",
      "7    0.002899\n",
      "8    0.003775\n",
      "9    0.003426\n",
      "Name: train-TotalF1-std, dtype: float64\n",
      "========================================\n"
     ]
    },
    {
     "data": {
      "application/vnd.jupyter.widget-view+json": {
       "model_id": "03fcb4172e9e4e33b0cc41278473b3d0",
       "version_major": 2,
       "version_minor": 0
      },
      "text/plain": [
       "MetricVisualizer(layout=Layout(align_self='stretch', height='500px'))"
      ]
     },
     "metadata": {},
     "output_type": "display_data"
    },
    {
     "name": "stdout",
     "output_type": "stream",
     "text": [
      "Training on fold [0/5]\n",
      "\n",
      "bestTest = 0.7613547118\n",
      "bestIteration = 9\n",
      "\n",
      "Training on fold [1/5]\n",
      "\n",
      "bestTest = 0.7534245308\n",
      "bestIteration = 9\n",
      "\n",
      "Training on fold [2/5]\n",
      "\n",
      "bestTest = 0.7686407757\n",
      "bestIteration = 9\n",
      "\n",
      "Training on fold [3/5]\n",
      "\n",
      "bestTest = 0.7603823992\n",
      "bestIteration = 8\n",
      "\n",
      "Training on fold [4/5]\n",
      "\n",
      "bestTest = 0.7611955368\n",
      "bestIteration = 9\n",
      "\n",
      "f1-score mean value: 0.7484491994549626\n",
      "f1-score STD value: 0    0.001346\n",
      "1    0.001819\n",
      "2    0.002236\n",
      "3    0.003756\n",
      "4    0.001422\n",
      "5    0.003063\n",
      "6    0.000728\n",
      "7    0.002521\n",
      "8    0.002005\n",
      "9    0.001239\n",
      "Name: train-TotalF1-std, dtype: float64\n",
      "========================================\n"
     ]
    },
    {
     "data": {
      "application/vnd.jupyter.widget-view+json": {
       "model_id": "6ef255690e904e44b084753b3e0ef462",
       "version_major": 2,
       "version_minor": 0
      },
      "text/plain": [
       "MetricVisualizer(layout=Layout(align_self='stretch', height='500px'))"
      ]
     },
     "metadata": {},
     "output_type": "display_data"
    },
    {
     "name": "stdout",
     "output_type": "stream",
     "text": [
      "Training on fold [0/5]\n",
      "\n",
      "bestTest = 0.754794088\n",
      "bestIteration = 8\n",
      "\n",
      "Training on fold [1/5]\n",
      "\n",
      "bestTest = 0.7513456173\n",
      "bestIteration = 3\n",
      "\n",
      "Training on fold [2/5]\n",
      "\n",
      "bestTest = 0.7525214907\n",
      "bestIteration = 9\n",
      "\n",
      "Training on fold [3/5]\n",
      "\n",
      "bestTest = 0.7575770803\n",
      "bestIteration = 8\n",
      "\n",
      "Training on fold [4/5]\n",
      "\n",
      "bestTest = 0.7586088526\n",
      "bestIteration = 9\n",
      "\n",
      "f1-score mean value: 0.7473473082401664\n",
      "f1-score STD value: 0    0.001346\n",
      "1    0.002021\n",
      "2    0.003981\n",
      "3    0.004219\n",
      "4    0.003701\n",
      "5    0.002375\n",
      "6    0.003641\n",
      "7    0.002492\n",
      "8    0.002815\n",
      "9    0.002788\n",
      "Name: train-TotalF1-std, dtype: float64\n",
      "========================================\n"
     ]
    },
    {
     "data": {
      "application/vnd.jupyter.widget-view+json": {
       "model_id": "f06faa36a779424789cbd422075fb5d1",
       "version_major": 2,
       "version_minor": 0
      },
      "text/plain": [
       "MetricVisualizer(layout=Layout(align_self='stretch', height='500px'))"
      ]
     },
     "metadata": {},
     "output_type": "display_data"
    },
    {
     "name": "stdout",
     "output_type": "stream",
     "text": [
      "Training on fold [0/5]\n",
      "\n",
      "bestTest = 0.749984861\n",
      "bestIteration = 1\n",
      "\n",
      "Training on fold [1/5]\n",
      "\n",
      "bestTest = 0.7425474736\n",
      "bestIteration = 8\n",
      "\n",
      "Training on fold [2/5]\n",
      "\n",
      "bestTest = 0.7466234336\n",
      "bestIteration = 1\n",
      "\n",
      "Training on fold [3/5]\n",
      "\n",
      "bestTest = 0.7469184801\n",
      "bestIteration = 3\n",
      "\n",
      "Training on fold [4/5]\n",
      "\n",
      "bestTest = 0.7474635012\n",
      "bestIteration = 8\n",
      "\n",
      "f1-score mean value: 0.7449640106884382\n",
      "f1-score STD value: 0    0.001346\n",
      "1    0.006143\n",
      "2    0.003589\n",
      "3    0.004491\n",
      "4    0.002443\n",
      "5    0.001600\n",
      "6    0.001675\n",
      "7    0.003342\n",
      "8    0.003919\n",
      "9    0.003053\n",
      "Name: train-TotalF1-std, dtype: float64\n",
      "========================================\n",
      "0:\tlearn: 0.5844789\ttotal: 6.46ms\tremaining: 58.1ms\n",
      "1:\tlearn: 0.5373055\ttotal: 12.7ms\tremaining: 50.9ms\n",
      "2:\tlearn: 0.5133768\ttotal: 18.6ms\tremaining: 43.4ms\n",
      "3:\tlearn: 0.4976875\ttotal: 23.6ms\tremaining: 35.4ms\n",
      "4:\tlearn: 0.4852511\ttotal: 29.9ms\tremaining: 29.9ms\n",
      "5:\tlearn: 0.4767811\ttotal: 34.4ms\tremaining: 22.9ms\n",
      "6:\tlearn: 0.4673695\ttotal: 39ms\tremaining: 16.7ms\n",
      "7:\tlearn: 0.4618722\ttotal: 44.9ms\tremaining: 11.2ms\n",
      "8:\tlearn: 0.4564612\ttotal: 49.7ms\tremaining: 5.52ms\n",
      "9:\tlearn: 0.4484421\ttotal: 53.7ms\tremaining: 0us\n",
      "Catboost test Accuracy: 0.5394176433925093\n",
      "Catboost test F1 Score\n",
      ":               precision    recall  f1-score   support\n",
      "\n",
      "           0       0.75      0.65      0.70      2498\n",
      "           1       0.80      0.87      0.83      3999\n",
      "\n",
      "    accuracy                           0.78      6497\n",
      "   macro avg       0.78      0.76      0.76      6497\n",
      "weighted avg       0.78      0.78      0.78      6497\n",
      "\n"
     ]
    },
    {
     "data": {
      "image/png": "[encoded data removed]",
      "text/plain": [
       "<Figure size 1700x1000 with 1 Axes>"
      ]
     },
     "metadata": {},
     "output_type": "display_data"
    }
   ],
   "source": [
    "catboost_flow(quality_of_wine_X_train, quality_of_wine_X_test, quality_of_wine_y_train, quality_of_wine_y_test)"
   ]
  }
 ],
 "metadata": {
  "kernelspec": {
   "display_name": "Python 3 (ipykernel)",
   "language": "python",
   "name": "python3"
  },
  "language_info": {
   "codemirror_mode": {
    "name": "ipython",
    "version": 3
   },
   "file_extension": ".py",
   "mimetype": "text/x-python",
   "name": "python",
   "nbconvert_exporter": "python",
   "pygments_lexer": "ipython3",
   "version": "3.9.13"
  }
 },
 "nbformat": 4,
 "nbformat_minor": 5
}
