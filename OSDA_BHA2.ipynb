{
 "cells": [
  {
   "cell_type": "markdown",
   "id": "c51e6765",
   "metadata": {},
   "source": [
    "## Big Home Assignment 2"
   ]
  },
  {
   "cell_type": "code",
   "execution_count": 2,
   "id": "d5933a5f",
   "metadata": {},
   "outputs": [],
   "source": [
    "import warnings\n",
    "\n",
    "warnings.filterwarnings('ignore')"
   ]
  },
  {
   "cell_type": "code",
   "execution_count": 3,
   "id": "1abcd0b8",
   "metadata": {},
   "outputs": [],
   "source": [
    "import pandas as pd\n",
    "import numpy as np\n",
    "import matplotlib.pyplot as plt\n",
    "import seaborn as sns\n",
    "\n",
    "from sklearn.model_selection import cross_val_score\n",
    "from sklearn.metrics import precision_score, classification_report"
   ]
  },
  {
   "cell_type": "code",
   "execution_count": 4,
   "id": "729e8574",
   "metadata": {},
   "outputs": [
    {
     "data": {
      "text/plain": [
       "((303, 14),\n",
       "      age  sex  cp  trtbps  chol  fbs  restecg  thalachh  exng  oldpeak  slp  \\\n",
       " 0     63    1   3     145   233    1        0       150     0      2.3    0   \n",
       " 1     37    1   2     130   250    0        1       187     0      3.5    0   \n",
       " 2     41    0   1     130   204    0        0       172     0      1.4    2   \n",
       " 3     56    1   1     120   236    0        1       178     0      0.8    2   \n",
       " 4     57    0   0     120   354    0        1       163     1      0.6    2   \n",
       " ..   ...  ...  ..     ...   ...  ...      ...       ...   ...      ...  ...   \n",
       " 298   57    0   0     140   241    0        1       123     1      0.2    1   \n",
       " 299   45    1   3     110   264    0        1       132     0      1.2    1   \n",
       " 300   68    1   0     144   193    1        1       141     0      3.4    1   \n",
       " 301   57    1   0     130   131    0        1       115     1      1.2    1   \n",
       " 302   57    0   1     130   236    0        0       174     0      0.0    1   \n",
       " \n",
       "      caa  thall  output  \n",
       " 0      0      1       1  \n",
       " 1      0      2       1  \n",
       " 2      0      2       1  \n",
       " 3      0      2       1  \n",
       " 4      0      2       1  \n",
       " ..   ...    ...     ...  \n",
       " 298    0      3       0  \n",
       " 299    0      3       0  \n",
       " 300    2      3       0  \n",
       " 301    1      3       0  \n",
       " 302    1      2       0  \n",
       " \n",
       " [303 rows x 14 columns],\n",
       " age         0\n",
       " sex         0\n",
       " cp          0\n",
       " trtbps      0\n",
       " chol        0\n",
       " fbs         0\n",
       " restecg     0\n",
       " thalachh    0\n",
       " exng        0\n",
       " oldpeak     0\n",
       " slp         0\n",
       " caa         0\n",
       " thall       0\n",
       " output      0\n",
       " dtype: int64)"
      ]
     },
     "execution_count": 4,
     "metadata": {},
     "output_type": "execute_result"
    }
   ],
   "source": [
    "heart_attack_data = pd.read_csv(\"datasets_bigHA/heart_attack.csv\", sep=',')\n",
    "heart_attack_data.shape, heart_attack_data, heart_attack_data.isnull().sum()"
   ]
  },
  {
   "cell_type": "code",
   "execution_count": 5,
   "id": "690964d4",
   "metadata": {},
   "outputs": [
    {
     "data": {
      "text/plain": [
       "((32485, 14),\n",
       "        Unnamed: 0  fixed acidity  volatile acidity  citric acid  \\\n",
       " 0            2732            7.4             0.170         0.29   \n",
       " 1            2607            5.3             0.310         0.38   \n",
       " 2            1653            4.7             0.145         0.29   \n",
       " 3            3264            6.9             0.260         0.29   \n",
       " 4            4931            6.4             0.450         0.07   \n",
       " ...           ...            ...               ...          ...   \n",
       " 32480        2838            5.0             0.255         0.22   \n",
       " 32481        6414            6.6             0.360         0.52   \n",
       " 32482        1126            6.3             0.200         0.24   \n",
       " 32483        2924            6.2             0.200         0.33   \n",
       " 32484        5462            8.1             0.280         0.46   \n",
       " \n",
       "        residual sugar  chlorides  free sulfur dioxide  total sulfur dioxide  \\\n",
       " 0                 1.4      0.047                 23.0                 107.0   \n",
       " 1                10.5      0.031                 53.0                 140.0   \n",
       " 2                 1.0      0.042                 35.0                  90.0   \n",
       " 3                 4.2      0.043                 33.0                 114.0   \n",
       " 4                 1.1      0.030                 10.0                 131.0   \n",
       " ...               ...        ...                  ...                   ...   \n",
       " 32480             2.7      0.043                 46.0                 153.0   \n",
       " 32481            11.3      0.046                  8.0                 110.0   \n",
       " 32482             1.7      0.052                 36.0                 135.0   \n",
       " 32483             5.4      0.028                 21.0                  75.0   \n",
       " 32484            15.4      0.059                 32.0                 177.0   \n",
       " \n",
       "        density    pH  sulphates  alcohol  quality        Type  \n",
       " 0      0.99390  3.52       0.65     10.4        6  White Wine  \n",
       " 1      0.99321  3.34       0.46     11.7        6  White Wine  \n",
       " 2      0.99080  3.76       0.49     11.3        6  White Wine  \n",
       " 3      0.99020  3.16       0.31     12.5        6  White Wine  \n",
       " 4      0.99050  2.97       0.28     10.8        5  White Wine  \n",
       " ...        ...   ...        ...      ...      ...         ...  \n",
       " 32480  0.99238  3.75       0.76     11.3        6  White Wine  \n",
       " 32481  0.99660  3.07       0.46      9.4        5  White Wine  \n",
       " 32482  0.99374  3.80       0.66     10.8        6  White Wine  \n",
       " 32483  0.99012  3.36       0.41     13.5        7  White Wine  \n",
       " 32484  1.00040  3.27       0.58      9.0        4  White Wine  \n",
       " \n",
       " [32485 rows x 14 columns],\n",
       " Unnamed: 0              0\n",
       " fixed acidity           0\n",
       " volatile acidity        0\n",
       " citric acid             0\n",
       " residual sugar          0\n",
       " chlorides               0\n",
       " free sulfur dioxide     0\n",
       " total sulfur dioxide    0\n",
       " density                 0\n",
       " pH                      0\n",
       " sulphates               0\n",
       " alcohol                 0\n",
       " quality                 0\n",
       " Type                    0\n",
       " dtype: int64)"
      ]
     },
     "execution_count": 5,
     "metadata": {},
     "output_type": "execute_result"
    }
   ],
   "source": [
    "quality_of_wine_data = pd.read_csv(\"datasets_bigHA/quality_of_wine.csv\", sep=',')\n",
    "quality_of_wine_data.shape, quality_of_wine_data, quality_of_wine_data.isnull().sum()"
   ]
  },
  {
   "cell_type": "code",
   "execution_count": 6,
   "id": "33d5905c",
   "metadata": {},
   "outputs": [
    {
     "data": {
      "text/plain": [
       "((19158, 14),\n",
       "        enrollee_id      city  city_development_index gender  \\\n",
       " 0             8949  city_103                   0.920   Male   \n",
       " 1            29725   city_40                   0.776   Male   \n",
       " 2            11561   city_21                   0.624    NaN   \n",
       " 3            33241  city_115                   0.789    NaN   \n",
       " 4              666  city_162                   0.767   Male   \n",
       " ...            ...       ...                     ...    ...   \n",
       " 19153         7386  city_173                   0.878   Male   \n",
       " 19154        31398  city_103                   0.920   Male   \n",
       " 19155        24576  city_103                   0.920   Male   \n",
       " 19156         5756   city_65                   0.802   Male   \n",
       " 19157        23834   city_67                   0.855    NaN   \n",
       " \n",
       "            relevent_experience enrolled_university education_level  \\\n",
       " 0      Has relevent experience       no_enrollment        Graduate   \n",
       " 1       No relevent experience       no_enrollment        Graduate   \n",
       " 2       No relevent experience    Full time course        Graduate   \n",
       " 3       No relevent experience                 NaN        Graduate   \n",
       " 4      Has relevent experience       no_enrollment         Masters   \n",
       " ...                        ...                 ...             ...   \n",
       " 19153   No relevent experience       no_enrollment        Graduate   \n",
       " 19154  Has relevent experience       no_enrollment        Graduate   \n",
       " 19155  Has relevent experience       no_enrollment        Graduate   \n",
       " 19156  Has relevent experience       no_enrollment     High School   \n",
       " 19157   No relevent experience       no_enrollment  Primary School   \n",
       " \n",
       "       major_discipline experience company_size    company_type last_new_job  \\\n",
       " 0                 STEM        >20          NaN             NaN            1   \n",
       " 1                 STEM         15        50-99         Pvt Ltd           >4   \n",
       " 2                 STEM          5          NaN             NaN        never   \n",
       " 3      Business Degree         <1          NaN         Pvt Ltd        never   \n",
       " 4                 STEM        >20        50-99  Funded Startup            4   \n",
       " ...                ...        ...          ...             ...          ...   \n",
       " 19153       Humanities         14          NaN             NaN            1   \n",
       " 19154             STEM         14          NaN             NaN            4   \n",
       " 19155             STEM        >20        50-99         Pvt Ltd            4   \n",
       " 19156              NaN         <1      500-999         Pvt Ltd            2   \n",
       " 19157              NaN          2          NaN             NaN            1   \n",
       " \n",
       "        training_hours  target  \n",
       " 0                  36     1.0  \n",
       " 1                  47     0.0  \n",
       " 2                  83     0.0  \n",
       " 3                  52     1.0  \n",
       " 4                   8     0.0  \n",
       " ...               ...     ...  \n",
       " 19153              42     1.0  \n",
       " 19154              52     1.0  \n",
       " 19155              44     0.0  \n",
       " 19156              97     0.0  \n",
       " 19157             127     0.0  \n",
       " \n",
       " [19158 rows x 14 columns],\n",
       " enrollee_id                  0\n",
       " city                         0\n",
       " city_development_index       0\n",
       " gender                    4508\n",
       " relevent_experience          0\n",
       " enrolled_university        386\n",
       " education_level            460\n",
       " major_discipline          2813\n",
       " experience                  65\n",
       " company_size              5938\n",
       " company_type              6140\n",
       " last_new_job               423\n",
       " training_hours               0\n",
       " target                       0\n",
       " dtype: int64)"
      ]
     },
     "execution_count": 6,
     "metadata": {},
     "output_type": "execute_result"
    }
   ],
   "source": [
    "data_scientists_job_change_data = pd.read_csv(\"datasets_bigHA/Job_Change_of_Data_Scientists.csv\", sep=',')\n",
    "data_scientists_job_change_data.shape, data_scientists_job_change_data, data_scientists_job_change_data.isnull().sum()"
   ]
  },
  {
   "cell_type": "code",
   "execution_count": 7,
   "id": "3dab8ba4",
   "metadata": {},
   "outputs": [
    {
     "data": {
      "text/html": [
       "<div>\n",
       "<style scoped>\n",
       "    .dataframe tbody tr th:only-of-type {\n",
       "        vertical-align: middle;\n",
       "    }\n",
       "\n",
       "    .dataframe tbody tr th {\n",
       "        vertical-align: top;\n",
       "    }\n",
       "\n",
       "    .dataframe thead th {\n",
       "        text-align: right;\n",
       "    }\n",
       "</style>\n",
       "<table border=\"1\" class=\"dataframe\">\n",
       "  <thead>\n",
       "    <tr style=\"text-align: right;\">\n",
       "      <th></th>\n",
       "      <th>enrollee_id</th>\n",
       "      <th>city</th>\n",
       "      <th>city_development_index</th>\n",
       "      <th>gender</th>\n",
       "      <th>relevent_experience</th>\n",
       "      <th>enrolled_university</th>\n",
       "      <th>education_level</th>\n",
       "      <th>major_discipline</th>\n",
       "      <th>experience</th>\n",
       "      <th>company_size</th>\n",
       "      <th>company_type</th>\n",
       "      <th>last_new_job</th>\n",
       "      <th>training_hours</th>\n",
       "      <th>target</th>\n",
       "    </tr>\n",
       "  </thead>\n",
       "  <tbody>\n",
       "    <tr>\n",
       "      <th>0</th>\n",
       "      <td>8949</td>\n",
       "      <td>city_103</td>\n",
       "      <td>0.920</td>\n",
       "      <td>Male</td>\n",
       "      <td>Has relevent experience</td>\n",
       "      <td>no_enrollment</td>\n",
       "      <td>Graduate</td>\n",
       "      <td>STEM</td>\n",
       "      <td>&gt;20</td>\n",
       "      <td>NaN</td>\n",
       "      <td>NaN</td>\n",
       "      <td>1</td>\n",
       "      <td>36</td>\n",
       "      <td>1.0</td>\n",
       "    </tr>\n",
       "    <tr>\n",
       "      <th>1</th>\n",
       "      <td>29725</td>\n",
       "      <td>city_40</td>\n",
       "      <td>0.776</td>\n",
       "      <td>Male</td>\n",
       "      <td>No relevent experience</td>\n",
       "      <td>no_enrollment</td>\n",
       "      <td>Graduate</td>\n",
       "      <td>STEM</td>\n",
       "      <td>15</td>\n",
       "      <td>50-99</td>\n",
       "      <td>Pvt Ltd</td>\n",
       "      <td>&gt;4</td>\n",
       "      <td>47</td>\n",
       "      <td>0.0</td>\n",
       "    </tr>\n",
       "    <tr>\n",
       "      <th>2</th>\n",
       "      <td>11561</td>\n",
       "      <td>city_21</td>\n",
       "      <td>0.624</td>\n",
       "      <td>NaN</td>\n",
       "      <td>No relevent experience</td>\n",
       "      <td>Full time course</td>\n",
       "      <td>Graduate</td>\n",
       "      <td>STEM</td>\n",
       "      <td>5</td>\n",
       "      <td>NaN</td>\n",
       "      <td>NaN</td>\n",
       "      <td>never</td>\n",
       "      <td>83</td>\n",
       "      <td>0.0</td>\n",
       "    </tr>\n",
       "    <tr>\n",
       "      <th>3</th>\n",
       "      <td>33241</td>\n",
       "      <td>city_115</td>\n",
       "      <td>0.789</td>\n",
       "      <td>NaN</td>\n",
       "      <td>No relevent experience</td>\n",
       "      <td>NaN</td>\n",
       "      <td>Graduate</td>\n",
       "      <td>Business Degree</td>\n",
       "      <td>&lt;1</td>\n",
       "      <td>NaN</td>\n",
       "      <td>Pvt Ltd</td>\n",
       "      <td>never</td>\n",
       "      <td>52</td>\n",
       "      <td>1.0</td>\n",
       "    </tr>\n",
       "    <tr>\n",
       "      <th>4</th>\n",
       "      <td>666</td>\n",
       "      <td>city_162</td>\n",
       "      <td>0.767</td>\n",
       "      <td>Male</td>\n",
       "      <td>Has relevent experience</td>\n",
       "      <td>no_enrollment</td>\n",
       "      <td>Masters</td>\n",
       "      <td>STEM</td>\n",
       "      <td>&gt;20</td>\n",
       "      <td>50-99</td>\n",
       "      <td>Funded Startup</td>\n",
       "      <td>4</td>\n",
       "      <td>8</td>\n",
       "      <td>0.0</td>\n",
       "    </tr>\n",
       "  </tbody>\n",
       "</table>\n",
       "</div>"
      ],
      "text/plain": [
       "   enrollee_id      city  city_development_index gender  \\\n",
       "0         8949  city_103                   0.920   Male   \n",
       "1        29725   city_40                   0.776   Male   \n",
       "2        11561   city_21                   0.624    NaN   \n",
       "3        33241  city_115                   0.789    NaN   \n",
       "4          666  city_162                   0.767   Male   \n",
       "\n",
       "       relevent_experience enrolled_university education_level  \\\n",
       "0  Has relevent experience       no_enrollment        Graduate   \n",
       "1   No relevent experience       no_enrollment        Graduate   \n",
       "2   No relevent experience    Full time course        Graduate   \n",
       "3   No relevent experience                 NaN        Graduate   \n",
       "4  Has relevent experience       no_enrollment         Masters   \n",
       "\n",
       "  major_discipline experience company_size    company_type last_new_job  \\\n",
       "0             STEM        >20          NaN             NaN            1   \n",
       "1             STEM         15        50-99         Pvt Ltd           >4   \n",
       "2             STEM          5          NaN             NaN        never   \n",
       "3  Business Degree         <1          NaN         Pvt Ltd        never   \n",
       "4             STEM        >20        50-99  Funded Startup            4   \n",
       "\n",
       "   training_hours  target  \n",
       "0              36     1.0  \n",
       "1              47     0.0  \n",
       "2              83     0.0  \n",
       "3              52     1.0  \n",
       "4               8     0.0  "
      ]
     },
     "execution_count": 7,
     "metadata": {},
     "output_type": "execute_result"
    }
   ],
   "source": [
    "data_scientists_job_change_data.head()"
   ]
  },
  {
   "cell_type": "markdown",
   "id": "3016a642",
   "metadata": {},
   "source": [
    "## Preprocessing"
   ]
  },
  {
   "cell_type": "code",
   "execution_count": 8,
   "id": "f3017339",
   "metadata": {},
   "outputs": [],
   "source": [
    "data_scientists_job_change_data.columns = ['enrollee_id', 'city_nom', 'city_development_index', 'gender_nom',\n",
    "       'relevent_experience_nom', 'enrolled_university_nom', 'education_level_ord',\n",
    "       'major_discipline_nom', 'experience_ord', 'company_size_ord', 'company_type_nom',\n",
    "       'last_new_job_ord', 'training_hours', 'target']"
   ]
  },
  {
   "cell_type": "code",
   "execution_count": 9,
   "id": "1c3a4205",
   "metadata": {},
   "outputs": [],
   "source": [
    "del data_scientists_job_change_data[\"enrollee_id\"]"
   ]
  },
  {
   "cell_type": "code",
   "execution_count": 10,
   "id": "f5ea9bb3",
   "metadata": {},
   "outputs": [],
   "source": [
    "def OrdMapping(df):\n",
    "    \n",
    "    \n",
    "    education_level_ord_mapping = {'Primary School': 0,'High School': 1,'Graduate': 2 , 'Masters':3,'Phd': 4 }\n",
    "    experience_ord_mapping= {'<1':0, '1':2, '2':3, '3':4,'4':5, '5':6, '6':7, '7':8, '8':9,'9':10, '10':11, '12':13, '13':14,'14':15, '15':16, '16':17,  '17':18,'18':19, '19':20,'20':21,'>20':22}\n",
    "    company_size_ord_mapping = {'<10':0 ,'10/49':1,'50-99':2, '100-500':3, '500-999':4, '1000-4999':5,'5000-9999':6, '10000+':7}\n",
    "    \n",
    "    last_new_job_ord_mapping = {'never':0,'1':1,'2':2,'3':3,'4':4,'>4':5}\n",
    "    df['education_level_ord'] = df.education_level_ord.map(education_level_ord_mapping)\n",
    "    df['experience_ord'] = df.experience_ord.map(experience_ord_mapping)\n",
    "    df['company_size_ord'] = df.company_size_ord.map(company_size_ord_mapping)\n",
    "    df['last_new_job_ord'] = df.last_new_job_ord.map(last_new_job_ord_mapping)\n",
    "     \n",
    "    return df"
   ]
  },
  {
   "cell_type": "code",
   "execution_count": 11,
   "id": "dd40241c",
   "metadata": {},
   "outputs": [],
   "source": [
    "data_scientists_job_change_data = OrdMapping(data_scientists_job_change_data)"
   ]
  },
  {
   "cell_type": "code",
   "execution_count": 12,
   "id": "056bc049",
   "metadata": {},
   "outputs": [],
   "source": [
    "ordinals = [c for c in data_scientists_job_change_data.columns if 'ord' in c]\n",
    "nominals = [c for c in data_scientists_job_change_data.columns if 'nom' in c]"
   ]
  },
  {
   "cell_type": "code",
   "execution_count": 13,
   "id": "a452d29d",
   "metadata": {},
   "outputs": [
    {
     "name": "stdout",
     "output_type": "stream",
     "text": [
      "target mapping :   city_nom {'city_1': 0, 'city_10': 1, 'city_100': 2, 'city_101': 3, 'city_102': 4, 'city_103': 5, 'city_104': 6, 'city_105': 7, 'city_106': 8, 'city_107': 9, 'city_109': 10, 'city_11': 11, 'city_111': 12, 'city_114': 13, 'city_115': 14, 'city_116': 15, 'city_117': 16, 'city_118': 17, 'city_12': 18, 'city_120': 19, 'city_121': 20, 'city_123': 21, 'city_126': 22, 'city_127': 23, 'city_128': 24, 'city_129': 25, 'city_13': 26, 'city_131': 27, 'city_133': 28, 'city_134': 29, 'city_136': 30, 'city_138': 31, 'city_139': 32, 'city_14': 33, 'city_140': 34, 'city_141': 35, 'city_142': 36, 'city_143': 37, 'city_144': 38, 'city_145': 39, 'city_146': 40, 'city_149': 41, 'city_150': 42, 'city_152': 43, 'city_155': 44, 'city_157': 45, 'city_158': 46, 'city_159': 47, 'city_16': 48, 'city_160': 49, 'city_162': 50, 'city_165': 51, 'city_166': 52, 'city_167': 53, 'city_171': 54, 'city_173': 55, 'city_175': 56, 'city_176': 57, 'city_179': 58, 'city_18': 59, 'city_180': 60, 'city_19': 61, 'city_2': 62, 'city_20': 63, 'city_21': 64, 'city_23': 65, 'city_24': 66, 'city_25': 67, 'city_26': 68, 'city_27': 69, 'city_28': 70, 'city_30': 71, 'city_31': 72, 'city_33': 73, 'city_36': 74, 'city_37': 75, 'city_39': 76, 'city_40': 77, 'city_41': 78, 'city_42': 79, 'city_43': 80, 'city_44': 81, 'city_45': 82, 'city_46': 83, 'city_48': 84, 'city_50': 85, 'city_53': 86, 'city_54': 87, 'city_55': 88, 'city_57': 89, 'city_59': 90, 'city_61': 91, 'city_62': 92, 'city_64': 93, 'city_65': 94, 'city_67': 95, 'city_69': 96, 'city_7': 97, 'city_70': 98, 'city_71': 99, 'city_72': 100, 'city_73': 101, 'city_74': 102, 'city_75': 103, 'city_76': 104, 'city_77': 105, 'city_78': 106, 'city_79': 107, 'city_8': 108, 'city_80': 109, 'city_81': 110, 'city_82': 111, 'city_83': 112, 'city_84': 113, 'city_89': 114, 'city_9': 115, 'city_90': 116, 'city_91': 117, 'city_93': 118, 'city_94': 119, 'city_97': 120, 'city_98': 121, 'city_99': 122}\n",
      "target mapping :   gender_nom {'Female': 0, 'Male': 1, 'Other': 2, 'nan': 3}\n",
      "target mapping :   relevent_experience_nom {'Has relevent experience': 0, 'No relevent experience': 1}\n",
      "target mapping :   enrolled_university_nom {'Full time course': 0, 'Part time course': 1, 'nan': 2, 'no_enrollment': 3}\n",
      "target mapping :   major_discipline_nom {'Arts': 0, 'Business Degree': 1, 'Humanities': 2, 'No Major': 3, 'Other': 4, 'STEM': 5, 'nan': 6}\n",
      "target mapping :   company_type_nom {'Early Stage Startup': 0, 'Funded Startup': 1, 'NGO': 2, 'Other': 3, 'Public Sector': 4, 'Pvt Ltd': 5, 'nan': 6}\n"
     ]
    }
   ],
   "source": [
    "from sklearn.preprocessing import LabelEncoder, OneHotEncoder, StandardScaler, MinMaxScaler, RobustScaler\n",
    "\n",
    "for c in nominals:\n",
    "    le = LabelEncoder()\n",
    "    le.fit(list(data_scientists_job_change_data[c].astype(str)))\n",
    "    data_scientists_job_change_data[c] = le.transform(data_scientists_job_change_data[c].astype(str))\n",
    "    le_name_mapping = dict(zip(le.classes_, le.transform(le.classes_)))\n",
    "    print('target mapping :  ',c ,  le_name_mapping)"
   ]
  },
  {
   "cell_type": "code",
   "execution_count": 14,
   "id": "b1fe67c1",
   "metadata": {},
   "outputs": [],
   "source": [
    "from sklearn.experimental import enable_iterative_imputer\n",
    "from sklearn.impute import SimpleImputer, IterativeImputer\n",
    "\n",
    "cats = ordinals + nominals\n",
    "\n",
    "imp = SimpleImputer(strategy = \"most_frequent\")\n",
    "data_scientists_job_change_data[cats] = imp.fit_transform(data_scientists_job_change_data[cats])"
   ]
  },
  {
   "cell_type": "code",
   "execution_count": 15,
   "id": "dd773e26",
   "metadata": {},
   "outputs": [
    {
     "data": {
      "text/plain": [
       "city_nom                   0\n",
       "city_development_index     0\n",
       "gender_nom                 0\n",
       "relevent_experience_nom    0\n",
       "enrolled_university_nom    0\n",
       "education_level_ord        0\n",
       "major_discipline_nom       0\n",
       "experience_ord             0\n",
       "company_size_ord           0\n",
       "company_type_nom           0\n",
       "last_new_job_ord           0\n",
       "training_hours             0\n",
       "target                     0\n",
       "dtype: int64"
      ]
     },
     "execution_count": 15,
     "metadata": {},
     "output_type": "execute_result"
    }
   ],
   "source": [
    "data_scientists_job_change_data.isnull().sum()"
   ]
  },
  {
   "cell_type": "code",
   "execution_count": 16,
   "id": "0921e7bd",
   "metadata": {},
   "outputs": [],
   "source": [
    "nums = [c for c in data_scientists_job_change_data.columns if c not in cats and c != \"target\"]"
   ]
  },
  {
   "cell_type": "code",
   "execution_count": 17,
   "id": "ece515b4",
   "metadata": {},
   "outputs": [],
   "source": [
    "ss = StandardScaler()\n",
    "data_scientists_job_change_data[nums] = ss.fit_transform(data_scientists_job_change_data[nums])"
   ]
  },
  {
   "cell_type": "code",
   "execution_count": 18,
   "id": "a4ceef0f",
   "metadata": {},
   "outputs": [
    {
     "data": {
      "text/plain": [
       "((19158, 13),\n",
       "        city_nom  city_development_index  gender_nom  relevent_experience_nom  \\\n",
       " 0           5.0                0.738919         1.0                      0.0   \n",
       " 1          77.0               -0.428410         1.0                      1.0   \n",
       " 2          64.0               -1.660590         3.0                      1.0   \n",
       " 3          14.0               -0.323026         3.0                      1.0   \n",
       " 4          50.0               -0.501368         1.0                      0.0   \n",
       " ...         ...                     ...         ...                      ...   \n",
       " 19153      55.0                0.398448         1.0                      1.0   \n",
       " 19154       5.0                0.738919         1.0                      0.0   \n",
       " 19155       5.0                0.738919         1.0                      0.0   \n",
       " 19156      94.0               -0.217642         1.0                      0.0   \n",
       " 19157      95.0                0.212000         3.0                      1.0   \n",
       " \n",
       "        enrolled_university_nom  education_level_ord  major_discipline_nom  \\\n",
       " 0                          3.0                  2.0                   5.0   \n",
       " 1                          3.0                  2.0                   5.0   \n",
       " 2                          0.0                  2.0                   5.0   \n",
       " 3                          2.0                  2.0                   1.0   \n",
       " 4                          3.0                  3.0                   5.0   \n",
       " ...                        ...                  ...                   ...   \n",
       " 19153                      3.0                  2.0                   2.0   \n",
       " 19154                      3.0                  2.0                   5.0   \n",
       " 19155                      3.0                  2.0                   5.0   \n",
       " 19156                      3.0                  1.0                   6.0   \n",
       " 19157                      3.0                  0.0                   6.0   \n",
       " \n",
       "        experience_ord  company_size_ord  company_type_nom  last_new_job_ord  \\\n",
       " 0                22.0               2.0               6.0               1.0   \n",
       " 1                16.0               2.0               5.0               5.0   \n",
       " 2                 6.0               2.0               6.0               0.0   \n",
       " 3                 0.0               2.0               5.0               0.0   \n",
       " 4                22.0               2.0               1.0               4.0   \n",
       " ...               ...               ...               ...               ...   \n",
       " 19153            15.0               2.0               6.0               1.0   \n",
       " 19154            15.0               2.0               6.0               4.0   \n",
       " 19155            22.0               2.0               5.0               4.0   \n",
       " 19156             0.0               4.0               5.0               2.0   \n",
       " 19157             3.0               2.0               6.0               1.0   \n",
       " \n",
       "        training_hours  target  \n",
       " 0           -0.488985     1.0  \n",
       " 1           -0.305825     0.0  \n",
       " 2            0.293607     0.0  \n",
       " 3           -0.222571     1.0  \n",
       " 4           -0.955209     0.0  \n",
       " ...               ...     ...  \n",
       " 19153       -0.389079     1.0  \n",
       " 19154       -0.222571     1.0  \n",
       " 19155       -0.355778     0.0  \n",
       " 19156        0.526719     0.0  \n",
       " 19157        1.026245     0.0  \n",
       " \n",
       " [19158 rows x 13 columns],\n",
       " city_nom                   0\n",
       " city_development_index     0\n",
       " gender_nom                 0\n",
       " relevent_experience_nom    0\n",
       " enrolled_university_nom    0\n",
       " education_level_ord        0\n",
       " major_discipline_nom       0\n",
       " experience_ord             0\n",
       " company_size_ord           0\n",
       " company_type_nom           0\n",
       " last_new_job_ord           0\n",
       " training_hours             0\n",
       " target                     0\n",
       " dtype: int64)"
      ]
     },
     "execution_count": 18,
     "metadata": {},
     "output_type": "execute_result"
    }
   ],
   "source": [
    "data_scientists_job_change_data.shape, data_scientists_job_change_data, data_scientists_job_change_data.isnull().sum()"
   ]
  },
  {
   "cell_type": "markdown",
   "id": "b637dd04",
   "metadata": {},
   "source": [
    "## Task part\n",
    "Now we will perform classification on our selected data using standard ML tools."
   ]
  },
  {
   "cell_type": "code",
   "execution_count": 19,
   "id": "06e04245",
   "metadata": {},
   "outputs": [],
   "source": [
    "from xgboost import XGBClassifier\n",
    "\n",
    "def xGboost_flow(X_train, X_test, y_train, y_test, n_estimators=500, max_depth=5, \n",
    "                 learning_rate=0.5, colsample_bytree=0.70, n_jobs=4, objective='binary:logistic'):\n",
    "    best_f1_score = 0.5\n",
    "    best_learning_rate = learning_rate\n",
    "    \n",
    "    while learning_rate > 0.01:\n",
    "        classifier = XGBClassifier(n_estimators=n_estimators, max_depth=max_depth, \n",
    "                               learning_rate=learning_rate, objective=objective, \n",
    "                               colsample_bytree=colsample_bytree, n_jobs=n_jobs)\n",
    "        accuracies = cross_val_score(classifier, X_train, y_train, scoring=\"accuracy\", cv = 5)\n",
    "        print(f\"accuracy mean value: {accuracies.mean()}\")\n",
    "        print(f\"accuracy STD value: {accuracies.std()}\")\n",
    "        print(f\"========================================\")\n",
    "        \n",
    "        if accuracies.mean() < best_f1_score:\n",
    "            best_f1_score = accuracies.mean()\n",
    "            best_learning_rate = learning_rate\n",
    "            \n",
    "        learning_rate -= 0.05\n",
    "    \n",
    "    final_classifier = XGBClassifier(n_estimators=n_estimators, max_depth=max_depth, \n",
    "                               learning_rate=best_learning_rate, objective=objective, \n",
    "                               colsample_bytree=colsample_bytree, n_jobs=n_jobs)\n",
    "    final_classifier.fit(X_train, y_train)\n",
    "    \n",
    "    importances = final_classifier.feature_importances_\n",
    "    \n",
    "    feature_names = X_train.columns\n",
    "    feature_importances = sorted(zip(importances, feature_names), reverse=True)\n",
    "\n",
    "    print(\"Feature importances:\")\n",
    "    for importance, name in feature_importances:\n",
    "        print(f\"{name}: {importance}\")\n",
    "\n",
    "    \n",
    "    # Visualisation of feature importance\n",
    "    plt.figure(figsize=(17, 10))\n",
    "    sorted_idx = np.argsort(final_classifier.feature_importances_)[::-1]\n",
    "    sns.barplot(x=final_classifier.feature_importances_[sorted_idx], y=X_train.columns[sorted_idx])\n",
    "    plt.xlabel('Feature Importance Score')\n",
    "    plt.ylabel('Features')\n",
    "    plt.title('Visualizing Important Features')\n",
    "    plt.show()\n",
    "    \n",
    "    print(f\"XgBoost test Accuracy: {final_classifier.score(X_test, y_test)}\")\n",
    "    print(f\"XgBoost test F1 Score\\n: {classification_report(y_test, final_classifier.predict(X_test))}\")"
   ]
  },
  {
   "cell_type": "code",
   "execution_count": 20,
   "id": "9f33e823",
   "metadata": {},
   "outputs": [],
   "source": [
    "from sklearn.linear_model import LogisticRegression\n",
    "\n",
    "def logreg_flow(X_train, X_test, y_train, y_test, C=100):\n",
    "    best_f1_score = 0\n",
    "    best_C = C\n",
    "    \n",
    "    while C < 1000:\n",
    "        classifier = LogisticRegression(solver='liblinear', C=C)\n",
    "        accuracies = cross_val_score(classifier, X_train, y_train, scoring=\"accuracy\", cv = 10)\n",
    "        print(f\"accuracy mean value: {accuracies.mean()}\")\n",
    "        print(f\"accuracy STD value: {accuracies.std()}\")\n",
    "        print(f\"========================================\")\n",
    "        \n",
    "        if accuracies.mean() > best_f1_score:\n",
    "            best_f1_score = accuracies.mean()\n",
    "            best_C = C\n",
    "            \n",
    "        C += 100\n",
    "        \n",
    "    final_classifier = LogisticRegression(solver='liblinear', C=best_C)\n",
    "    final_classifier.fit(X_train, y_train)\n",
    "    \n",
    "    print(f\"LogisticRegression test Accuracy: {final_classifier.score(X_test, y_test)}\")\n",
    "    print(f\"LogisticRegression test F1 Score\\n: {classification_report(y_test, final_classifier.predict(X_test))}\")"
   ]
  },
  {
   "cell_type": "code",
   "execution_count": 21,
   "id": "25bcdf50",
   "metadata": {},
   "outputs": [],
   "source": [
    "from sklearn.neighbors import KNeighborsClassifier\n",
    "from mlxtend.plotting import plot_decision_regions\n",
    "\n",
    "def knn_flow(X_train, X_test, y_train, y_test, n_neighbors=3):\n",
    "    best_f1_score = 0\n",
    "    neighbors = n_neighbors\n",
    "    best_neighbors_count = neighbors\n",
    "    \n",
    "    while neighbors < n_neighbors * 3:\n",
    "        classifier = KNeighborsClassifier(n_neighbors=neighbors)\n",
    "        accuracies = cross_val_score(classifier, X_train, y_train, scoring=\"accuracy\", cv = 10)\n",
    "        print(f\"accuracy mean value: {accuracies.mean()}\")\n",
    "        print(f\"accuracy STD value: {accuracies.std()}\")\n",
    "        print(f\"========================================\")\n",
    "        \n",
    "        if accuracies.mean() > best_f1_score:\n",
    "            best_f1_score = accuracies.mean()\n",
    "            best_neighbors_count = neighbors\n",
    "            \n",
    "        neighbors += 1\n",
    "        \n",
    "    final_classifier = KNeighborsClassifier(n_neighbors=best_neighbors_count)\n",
    "    final_classifier.fit(X_train, y_train)\n",
    "    \n",
    "    print(f\"Knn test Accuracy: {final_classifier.score(X_test, y_test)}\")\n",
    "    print(f\"Knn test F1 Score\\n: {classification_report(y_test, final_classifier.predict(X_test))}\")"
   ]
  },
  {
   "cell_type": "code",
   "execution_count": 22,
   "id": "78d7ebe8",
   "metadata": {},
   "outputs": [],
   "source": [
    "from catboost import CatBoostClassifier\n",
    "from catboost import Pool\n",
    "from catboost import cv\n",
    "\n",
    "def catboost_flow(X_train, X_test, y_train, y_test, iterations=10, learning_rate=0.5):\n",
    "    best_f1_score = 0\n",
    "    best_learning_rate = learning_rate\n",
    "    \n",
    "    while learning_rate > 0.01:\n",
    "        classifier = CatBoostClassifier(iterations=iterations, learning_rate=learning_rate, task_type='GPU')\n",
    "        \n",
    "        train_pool = Pool(data=X_train, label=y_train, has_header=True)\n",
    "        params = {\n",
    "            'loss_function': 'Logloss',\n",
    "            'iterations': iterations,\n",
    "            'learning_rate': learning_rate,\n",
    "            'eval_metric' : 'TotalF1',\n",
    "        }\n",
    "        cv_data = cv(\n",
    "            params = params,\n",
    "            pool = train_pool,\n",
    "            fold_count=5,\n",
    "            shuffle=True,\n",
    "            partition_random_seed=0,\n",
    "            plot=True,\n",
    "            stratified=False,\n",
    "            verbose=False\n",
    "        )\n",
    "        \n",
    "        f1_mean = cv_data['train-TotalF1-mean'][1]\n",
    "        print(f\"f1-score mean value: {f1_mean}\")\n",
    "        print(f\"f1-score STD value: {cv_data['train-TotalF1-std']}\")\n",
    "        print(f\"========================================\")\n",
    "        \n",
    "        if f1_mean > best_f1_score:\n",
    "            best_f1_score = f1_mean\n",
    "            best_learning_rate = learning_rate\n",
    "            \n",
    "        learning_rate -= 0.05\n",
    "    \n",
    "    final_classifier = CatBoostClassifier(iterations=iterations, learning_rate=best_learning_rate, task_type='CPU')\n",
    "    final_classifier.fit(X_train, y_train)\n",
    "    plt.figure(figsize=(17, 10))\n",
    "    sns.barplot(x = X_train.columns, y = final_classifier.feature_importances_)\n",
    "    \n",
    "    print(f\"Catboost test Accuracy: {final_classifier.score(X_test, y_test)}\")\n",
    "    print(f\"Catboost test F1 Score\\n: {classification_report(y_test, final_classifier.predict(X_test))}\")"
   ]
  },
  {
   "cell_type": "markdown",
   "id": "a9a48143",
   "metadata": {},
   "source": [
    "## Split of the data and future model analysis"
   ]
  },
  {
   "cell_type": "code",
   "execution_count": 23,
   "id": "0a28aa5a",
   "metadata": {},
   "outputs": [],
   "source": [
    "from sklearn.model_selection import train_test_split\n",
    "from sklearn.preprocessing import Binarizer, LabelEncoder"
   ]
  },
  {
   "cell_type": "markdown",
   "id": "8d74a280",
   "metadata": {},
   "source": [
    "## Heart attack analysis"
   ]
  },
  {
   "cell_type": "code",
   "execution_count": 24,
   "id": "82ff3d79",
   "metadata": {},
   "outputs": [],
   "source": [
    "le = LabelEncoder()\n",
    "\n",
    "heart_attack_target = heart_attack_data['output']\n",
    "heart_attack_data = heart_attack_data.drop(columns = ['output'], axis = 1)\n",
    "\n",
    "for col in heart_attack_data.columns :\n",
    "    le.fit(heart_attack_data[col])\n",
    "    heart_attack_data[col] = le.transform(heart_attack_data[col])\n",
    "\n",
    "heart_attack_X_train, heart_attack_X_test, heart_attack_y_train, heart_attack_y_test = train_test_split(heart_attack_data, heart_attack_target, test_size=.2)"
   ]
  },
  {
   "cell_type": "code",
   "execution_count": 25,
   "id": "e987591e",
   "metadata": {},
   "outputs": [
    {
     "name": "stdout",
     "output_type": "stream",
     "text": [
      "Heart attacks research:\n",
      "accuracy mean value: 0.780952380952381\n",
      "accuracy STD value: 0.021162025976302994\n",
      "========================================\n",
      "accuracy mean value: 0.7727891156462585\n",
      "accuracy STD value: 0.017619901221672667\n",
      "========================================\n",
      "accuracy mean value: 0.7893707482993197\n",
      "accuracy STD value: 0.03932912758677142\n",
      "========================================\n",
      "accuracy mean value: 0.7728741496598639\n",
      "accuracy STD value: 0.04598948888675714\n",
      "========================================\n",
      "accuracy mean value: 0.780952380952381\n",
      "accuracy STD value: 0.028196694232550477\n",
      "========================================\n",
      "accuracy mean value: 0.7811224489795918\n",
      "accuracy STD value: 0.01954561878903001\n",
      "========================================\n",
      "accuracy mean value: 0.7851190476190476\n",
      "accuracy STD value: 0.028181560162533634\n",
      "========================================\n",
      "accuracy mean value: 0.7729591836734694\n",
      "accuracy STD value: 0.041710895587133284\n",
      "========================================\n",
      "accuracy mean value: 0.7892857142857143\n",
      "accuracy STD value: 0.014958737421921484\n",
      "========================================\n",
      "accuracy mean value: 0.7811224489795919\n",
      "accuracy STD value: 0.03259521342711253\n",
      "========================================\n",
      "Feature importances:\n",
      "cp: 0.2339746654033661\n",
      "exng: 0.15411777794361115\n",
      "caa: 0.13908624649047852\n",
      "thall: 0.12030468136072159\n",
      "sex: 0.06971175223588943\n",
      "oldpeak: 0.04702165722846985\n",
      "thalachh: 0.04669509455561638\n",
      "fbs: 0.04053051397204399\n",
      "age: 0.03741585090756416\n",
      "restecg: 0.03721250593662262\n",
      "slp: 0.03484020382165909\n",
      "trtbps: 0.022824615240097046\n",
      "chol: 0.01626449264585972\n"
     ]
    },
    {
     "data": {
      "image/png": "[encoded data removed]",
      "text/plain": [
       "<Figure size 1700x1000 with 1 Axes>"
      ]
     },
     "metadata": {},
     "output_type": "display_data"
    },
    {
     "name": "stdout",
     "output_type": "stream",
     "text": [
      "XgBoost test Accuracy: 0.9016393442622951\n",
      "XgBoost test F1 Score\n",
      ":               precision    recall  f1-score   support\n",
      "\n",
      "           0       0.84      0.91      0.87        23\n",
      "           1       0.94      0.89      0.92        38\n",
      "\n",
      "    accuracy                           0.90        61\n",
      "   macro avg       0.89      0.90      0.90        61\n",
      "weighted avg       0.91      0.90      0.90        61\n",
      "\n"
     ]
    }
   ],
   "source": [
    "print(\"Heart attacks research:\")\n",
    "xGboost_flow(heart_attack_X_train, heart_attack_X_test, heart_attack_y_train, heart_attack_y_test)"
   ]
  },
  {
   "cell_type": "code",
   "execution_count": 26,
   "id": "00d5eb98",
   "metadata": {
    "scrolled": false
   },
   "outputs": [
    {
     "data": {
      "application/vnd.jupyter.widget-view+json": {
       "model_id": "b827caa029e54c5983c7d4694fd93f32",
       "version_major": 2,
       "version_minor": 0
      },
      "text/plain": [
       "MetricVisualizer(layout=Layout(align_self='stretch', height='500px'))"
      ]
     },
     "metadata": {},
     "output_type": "display_data"
    },
    {
     "name": "stdout",
     "output_type": "stream",
     "text": [
      "Training on fold [0/5]\n",
      "\n",
      "bestTest = 0.877755102\n",
      "bestIteration = 3\n",
      "\n",
      "Training on fold [1/5]\n",
      "\n",
      "bestTest = 0.8765203051\n",
      "bestIteration = 8\n",
      "\n",
      "Training on fold [2/5]\n",
      "\n",
      "bestTest = 0.8519031781\n",
      "bestIteration = 9\n",
      "\n",
      "Training on fold [3/5]\n",
      "\n",
      "bestTest = 0.9379113646\n",
      "bestIteration = 3\n",
      "\n",
      "Training on fold [4/5]\n",
      "\n",
      "bestTest = 0.6881856077\n",
      "bestIteration = 0\n",
      "\n",
      "f1-score mean value: 0.8789092290280861\n",
      "f1-score STD value: 0    0.013536\n",
      "1    0.011259\n",
      "2    0.016674\n",
      "3    0.026988\n",
      "4    0.017385\n",
      "5    0.014123\n",
      "6    0.016991\n",
      "7    0.013430\n",
      "8    0.013652\n",
      "9    0.006332\n",
      "Name: train-TotalF1-std, dtype: float64\n",
      "========================================\n"
     ]
    },
    {
     "data": {
      "application/vnd.jupyter.widget-view+json": {
       "model_id": "1aaa00ed3ceb441e9b4ac71dbc7a0851",
       "version_major": 2,
       "version_minor": 0
      },
      "text/plain": [
       "MetricVisualizer(layout=Layout(align_self='stretch', height='500px'))"
      ]
     },
     "metadata": {},
     "output_type": "display_data"
    },
    {
     "name": "stdout",
     "output_type": "stream",
     "text": [
      "Training on fold [0/5]\n",
      "\n",
      "bestTest = 0.8571428571\n",
      "bestIteration = 4\n",
      "\n",
      "Training on fold [1/5]\n",
      "\n",
      "bestTest = 0.8564240791\n",
      "bestIteration = 1\n",
      "\n",
      "Training on fold [2/5]\n",
      "\n",
      "bestTest = 0.8736772487\n",
      "bestIteration = 5\n",
      "\n",
      "Training on fold [3/5]\n",
      "\n",
      "bestTest = 0.8965189411\n",
      "bestIteration = 1\n",
      "\n",
      "Training on fold [4/5]\n",
      "\n",
      "bestTest = 0.7083333333\n",
      "bestIteration = 8\n",
      "\n",
      "f1-score mean value: 0.8820428156199795\n",
      "f1-score STD value: 0    0.013536\n",
      "1    0.007733\n",
      "2    0.010501\n",
      "3    0.019173\n",
      "4    0.016768\n",
      "5    0.016333\n",
      "6    0.018126\n",
      "7    0.019103\n",
      "8    0.017268\n",
      "9    0.013934\n",
      "Name: train-TotalF1-std, dtype: float64\n",
      "========================================\n"
     ]
    },
    {
     "data": {
      "application/vnd.jupyter.widget-view+json": {
       "model_id": "f37c1e26f67f4ef198e726f3e998e1c3",
       "version_major": 2,
       "version_minor": 0
      },
      "text/plain": [
       "MetricVisualizer(layout=Layout(align_self='stretch', height='500px'))"
      ]
     },
     "metadata": {},
     "output_type": "display_data"
    },
    {
     "name": "stdout",
     "output_type": "stream",
     "text": [
      "Training on fold [0/5]\n",
      "\n",
      "bestTest = 0.898214605\n",
      "bestIteration = 2\n",
      "\n",
      "Training on fold [1/5]\n",
      "\n",
      "bestTest = 0.8570236605\n",
      "bestIteration = 5\n",
      "\n",
      "Training on fold [2/5]\n",
      "\n",
      "bestTest = 0.8519031781\n",
      "bestIteration = 3\n",
      "\n",
      "Training on fold [3/5]\n",
      "\n",
      "bestTest = 0.8965189411\n",
      "bestIteration = 1\n",
      "\n",
      "Training on fold [4/5]\n",
      "\n",
      "bestTest = 0.6887254902\n",
      "bestIteration = 4\n",
      "\n",
      "f1-score mean value: 0.885092381724293\n",
      "f1-score STD value: 0    0.013536\n",
      "1    0.009959\n",
      "2    0.012112\n",
      "3    0.011905\n",
      "4    0.011999\n",
      "5    0.012527\n",
      "6    0.017398\n",
      "7    0.012875\n",
      "8    0.010066\n",
      "9    0.007291\n",
      "Name: train-TotalF1-std, dtype: float64\n",
      "========================================\n"
     ]
    },
    {
     "data": {
      "application/vnd.jupyter.widget-view+json": {
       "model_id": "1485082304604383b125a2b342248d80",
       "version_major": 2,
       "version_minor": 0
      },
      "text/plain": [
       "MetricVisualizer(layout=Layout(align_self='stretch', height='500px'))"
      ]
     },
     "metadata": {},
     "output_type": "display_data"
    },
    {
     "name": "stdout",
     "output_type": "stream",
     "text": [
      "Training on fold [0/5]\n",
      "\n",
      "bestTest = 0.898214605\n",
      "bestIteration = 2\n",
      "\n",
      "Training on fold [1/5]\n",
      "\n",
      "bestTest = 0.8772438741\n",
      "bestIteration = 4\n",
      "\n",
      "Training on fold [2/5]\n",
      "\n",
      "bestTest = 0.8519031781\n",
      "bestIteration = 9\n",
      "\n",
      "Training on fold [3/5]\n",
      "\n",
      "bestTest = 0.9171075838\n",
      "bestIteration = 1\n",
      "\n",
      "Training on fold [4/5]\n",
      "\n",
      "bestTest = 0.6887254902\n",
      "bestIteration = 4\n",
      "\n",
      "f1-score mean value: 0.8810251749921578\n",
      "f1-score STD value: 0    0.013536\n",
      "1    0.005157\n",
      "2    0.013502\n",
      "3    0.013074\n",
      "4    0.014408\n",
      "5    0.013600\n",
      "6    0.010711\n",
      "7    0.014287\n",
      "8    0.009214\n",
      "9    0.007601\n",
      "Name: train-TotalF1-std, dtype: float64\n",
      "========================================\n"
     ]
    },
    {
     "data": {
      "application/vnd.jupyter.widget-view+json": {
       "model_id": "cff6b5fc2a454d10a0e6c2bbc656ee34",
       "version_major": 2,
       "version_minor": 0
      },
      "text/plain": [
       "MetricVisualizer(layout=Layout(align_self='stretch', height='500px'))"
      ]
     },
     "metadata": {},
     "output_type": "display_data"
    },
    {
     "name": "stdout",
     "output_type": "stream",
     "text": [
      "Training on fold [0/5]\n",
      "\n",
      "bestTest = 0.898214605\n",
      "bestIteration = 2\n",
      "\n",
      "Training on fold [1/5]\n",
      "\n",
      "bestTest = 0.8570236605\n",
      "bestIteration = 5\n",
      "\n",
      "Training on fold [2/5]\n",
      "\n",
      "bestTest = 0.8500337382\n",
      "bestIteration = 2\n",
      "\n",
      "Training on fold [3/5]\n",
      "\n",
      "bestTest = 0.8965189411\n",
      "bestIteration = 1\n",
      "\n",
      "Training on fold [4/5]\n",
      "\n",
      "bestTest = 0.72976086\n",
      "bestIteration = 1\n",
      "\n",
      "f1-score mean value: 0.8902594383989243\n",
      "f1-score STD value: 0    0.013536\n",
      "1    0.012968\n",
      "2    0.023864\n",
      "3    0.020579\n",
      "4    0.019633\n",
      "5    0.019251\n",
      "6    0.017766\n",
      "7    0.010023\n",
      "8    0.004676\n",
      "9    0.004357\n",
      "Name: train-TotalF1-std, dtype: float64\n",
      "========================================\n"
     ]
    },
    {
     "data": {
      "application/vnd.jupyter.widget-view+json": {
       "model_id": "bf3151fe67a144aea638d94390e19098",
       "version_major": 2,
       "version_minor": 0
      },
      "text/plain": [
       "MetricVisualizer(layout=Layout(align_self='stretch', height='500px'))"
      ]
     },
     "metadata": {},
     "output_type": "display_data"
    },
    {
     "name": "stdout",
     "output_type": "stream",
     "text": [
      "Training on fold [0/5]\n",
      "\n",
      "bestTest = 0.898214605\n",
      "bestIteration = 7\n",
      "\n",
      "Training on fold [1/5]\n",
      "\n",
      "bestTest = 0.8570236605\n",
      "bestIteration = 5\n",
      "\n",
      "Training on fold [2/5]\n",
      "\n",
      "bestTest = 0.8736772487\n",
      "bestIteration = 7\n",
      "\n",
      "Training on fold [3/5]\n",
      "\n",
      "bestTest = 0.8758741259\n",
      "bestIteration = 0\n",
      "\n",
      "Training on fold [4/5]\n",
      "\n",
      "bestTest = 0.72976086\n",
      "bestIteration = 1\n",
      "\n",
      "f1-score mean value: 0.8892554608314095\n",
      "f1-score STD value: 0    0.013536\n",
      "1    0.013059\n",
      "2    0.017057\n",
      "3    0.026466\n",
      "4    0.023166\n",
      "5    0.018443\n",
      "6    0.019218\n",
      "7    0.015756\n",
      "8    0.015377\n",
      "9    0.011743\n",
      "Name: train-TotalF1-std, dtype: float64\n",
      "========================================\n"
     ]
    },
    {
     "data": {
      "application/vnd.jupyter.widget-view+json": {
       "model_id": "ed994e72ba7c4a91b24a86f3564dacce",
       "version_major": 2,
       "version_minor": 0
      },
      "text/plain": [
       "MetricVisualizer(layout=Layout(align_self='stretch', height='500px'))"
      ]
     },
     "metadata": {},
     "output_type": "display_data"
    },
    {
     "name": "stdout",
     "output_type": "stream",
     "text": [
      "Training on fold [0/5]\n",
      "\n",
      "bestTest = 0.8979591837\n",
      "bestIteration = 3\n",
      "\n",
      "Training on fold [1/5]\n",
      "\n",
      "bestTest = 0.8564240791\n",
      "bestIteration = 1\n",
      "\n",
      "Training on fold [2/5]\n",
      "\n",
      "bestTest = 0.8736772487\n",
      "bestIteration = 6\n",
      "\n",
      "Training on fold [3/5]\n",
      "\n",
      "bestTest = 0.8961566888\n",
      "bestIteration = 9\n",
      "\n",
      "Training on fold [4/5]\n",
      "\n",
      "bestTest = 0.72976086\n",
      "bestIteration = 1\n",
      "\n",
      "f1-score mean value: 0.8861767712605658\n",
      "f1-score STD value: 0    0.013536\n",
      "1    0.012115\n",
      "2    0.019959\n",
      "3    0.032920\n",
      "4    0.025305\n",
      "5    0.026322\n",
      "6    0.025208\n",
      "7    0.018969\n",
      "8    0.016977\n",
      "9    0.018323\n",
      "Name: train-TotalF1-std, dtype: float64\n",
      "========================================\n"
     ]
    },
    {
     "data": {
      "application/vnd.jupyter.widget-view+json": {
       "model_id": "cfaa9142c7aa4c46bfdaf33f6eb287a5",
       "version_major": 2,
       "version_minor": 0
      },
      "text/plain": [
       "MetricVisualizer(layout=Layout(align_self='stretch', height='500px'))"
      ]
     },
     "metadata": {},
     "output_type": "display_data"
    },
    {
     "name": "stdout",
     "output_type": "stream",
     "text": [
      "Training on fold [0/5]\n",
      "\n",
      "bestTest = 0.8979591837\n",
      "bestIteration = 3\n",
      "\n",
      "Training on fold [1/5]\n",
      "\n",
      "bestTest = 0.8978740432\n",
      "bestIteration = 1\n",
      "\n",
      "Training on fold [2/5]\n",
      "\n",
      "bestTest = 0.8942165558\n",
      "bestIteration = 4\n",
      "\n",
      "Training on fold [3/5]\n",
      "\n",
      "bestTest = 0.8965189411\n",
      "bestIteration = 5\n",
      "\n",
      "Training on fold [4/5]\n",
      "\n",
      "bestTest = 0.72976086\n",
      "bestIteration = 1\n",
      "\n",
      "f1-score mean value: 0.8851112460846512\n",
      "f1-score STD value: 0    0.013536\n",
      "1    0.016239\n",
      "2    0.020457\n",
      "3    0.025646\n",
      "4    0.030280\n",
      "5    0.023093\n",
      "6    0.019883\n",
      "7    0.014769\n",
      "8    0.013461\n",
      "9    0.012411\n",
      "Name: train-TotalF1-std, dtype: float64\n",
      "========================================\n"
     ]
    },
    {
     "data": {
      "application/vnd.jupyter.widget-view+json": {
       "model_id": "1c145361d81f4694a95ab35d35cce00c",
       "version_major": 2,
       "version_minor": 0
      },
      "text/plain": [
       "MetricVisualizer(layout=Layout(align_self='stretch', height='500px'))"
      ]
     },
     "metadata": {},
     "output_type": "display_data"
    },
    {
     "name": "stdout",
     "output_type": "stream",
     "text": [
      "Training on fold [0/5]\n",
      "\n",
      "bestTest = 0.898214605\n",
      "bestIteration = 3\n",
      "\n",
      "Training on fold [1/5]\n",
      "\n",
      "bestTest = 0.9183673469\n",
      "bestIteration = 1\n",
      "\n",
      "Training on fold [2/5]\n",
      "\n",
      "bestTest = 0.8723214286\n",
      "bestIteration = 5\n",
      "\n",
      "Training on fold [3/5]\n",
      "\n",
      "bestTest = 0.8965189411\n",
      "bestIteration = 2\n",
      "\n",
      "Training on fold [4/5]\n",
      "\n",
      "bestTest = 0.72976086\n",
      "bestIteration = 1\n",
      "\n",
      "f1-score mean value: 0.8840904981833576\n",
      "f1-score STD value: 0    0.013536\n",
      "1    0.017085\n",
      "2    0.011498\n",
      "3    0.017771\n",
      "4    0.013287\n",
      "5    0.018581\n",
      "6    0.013937\n",
      "7    0.022721\n",
      "8    0.013061\n",
      "9    0.017183\n",
      "Name: train-TotalF1-std, dtype: float64\n",
      "========================================\n"
     ]
    },
    {
     "data": {
      "application/vnd.jupyter.widget-view+json": {
       "model_id": "0d26ad24898348348ba979760a5599f9",
       "version_major": 2,
       "version_minor": 0
      },
      "text/plain": [
       "MetricVisualizer(layout=Layout(align_self='stretch', height='500px'))"
      ]
     },
     "metadata": {},
     "output_type": "display_data"
    },
    {
     "name": "stdout",
     "output_type": "stream",
     "text": [
      "Training on fold [0/5]\n",
      "\n",
      "bestTest = 0.8563084808\n",
      "bestIteration = 8\n",
      "\n",
      "Training on fold [1/5]\n",
      "\n",
      "bestTest = 0.9183673469\n",
      "bestIteration = 1\n",
      "\n",
      "Training on fold [2/5]\n",
      "\n",
      "bestTest = 0.8723214286\n",
      "bestIteration = 6\n",
      "\n",
      "Training on fold [3/5]\n",
      "\n",
      "bestTest = 0.9376940133\n",
      "bestIteration = 4\n",
      "\n",
      "Training on fold [4/5]\n",
      "\n",
      "bestTest = 0.72976086\n",
      "bestIteration = 1\n",
      "\n",
      "f1-score mean value: 0.8810201860986367\n",
      "f1-score STD value: 0    0.013536\n",
      "1    0.018360\n",
      "2    0.009199\n",
      "3    0.010143\n",
      "4    0.015239\n",
      "5    0.013095\n",
      "6    0.011548\n",
      "7    0.012423\n",
      "8    0.013454\n",
      "9    0.014037\n",
      "Name: train-TotalF1-std, dtype: float64\n",
      "========================================\n",
      "0:\tlearn: 0.6040302\ttotal: 1.63ms\tremaining: 14.7ms\n",
      "1:\tlearn: 0.5520766\ttotal: 2.68ms\tremaining: 10.7ms\n",
      "2:\tlearn: 0.5058775\ttotal: 3.87ms\tremaining: 9.03ms\n",
      "3:\tlearn: 0.4754638\ttotal: 5.79ms\tremaining: 8.69ms\n",
      "4:\tlearn: 0.4465759\ttotal: 7.39ms\tremaining: 7.39ms\n",
      "5:\tlearn: 0.4255890\ttotal: 8.58ms\tremaining: 5.72ms\n",
      "6:\tlearn: 0.4079204\ttotal: 9.82ms\tremaining: 4.21ms\n",
      "7:\tlearn: 0.3903144\ttotal: 11ms\tremaining: 2.76ms\n",
      "8:\tlearn: 0.3762809\ttotal: 12.2ms\tremaining: 1.35ms\n",
      "9:\tlearn: 0.3593008\ttotal: 13.4ms\tremaining: 0us\n",
      "Catboost test Accuracy: 0.8524590163934426\n",
      "Catboost test F1 Score\n",
      ":               precision    recall  f1-score   support\n",
      "\n",
      "           0       0.79      0.83      0.81        23\n",
      "           1       0.89      0.87      0.88        38\n",
      "\n",
      "    accuracy                           0.85        61\n",
      "   macro avg       0.84      0.85      0.84        61\n",
      "weighted avg       0.85      0.85      0.85        61\n",
      "\n"
     ]
    },
    {
     "data": {
      "image/png": "[encoded data removed]",
      "text/plain": [
       "<Figure size 1700x1000 with 1 Axes>"
      ]
     },
     "metadata": {},
     "output_type": "display_data"
    }
   ],
   "source": [
    "catboost_flow(heart_attack_X_train, heart_attack_X_test, heart_attack_y_train, heart_attack_y_test)"
   ]
  },
  {
   "cell_type": "code",
   "execution_count": 27,
   "id": "9a884b39",
   "metadata": {},
   "outputs": [
    {
     "name": "stdout",
     "output_type": "stream",
     "text": [
      "accuracy mean value: 0.8265\n",
      "accuracy STD value: 0.08270244521442183\n",
      "========================================\n",
      "accuracy mean value: 0.8265\n",
      "accuracy STD value: 0.08270244521442183\n",
      "========================================\n",
      "accuracy mean value: 0.8265\n",
      "accuracy STD value: 0.08270244521442183\n",
      "========================================\n",
      "accuracy mean value: 0.8265\n",
      "accuracy STD value: 0.08270244521442183\n",
      "========================================\n",
      "accuracy mean value: 0.8265\n",
      "accuracy STD value: 0.08270244521442183\n",
      "========================================\n",
      "accuracy mean value: 0.8265\n",
      "accuracy STD value: 0.08270244521442183\n",
      "========================================\n",
      "accuracy mean value: 0.8265\n",
      "accuracy STD value: 0.08270244521442183\n",
      "========================================\n",
      "accuracy mean value: 0.8265\n",
      "accuracy STD value: 0.08270244521442183\n",
      "========================================\n",
      "accuracy mean value: 0.8265\n",
      "accuracy STD value: 0.08270244521442183\n",
      "========================================\n",
      "LogisticRegression test Accuracy: 0.8688524590163934\n",
      "LogisticRegression test F1 Score\n",
      ":               precision    recall  f1-score   support\n",
      "\n",
      "           0       0.78      0.91      0.84        23\n",
      "           1       0.94      0.84      0.89        38\n",
      "\n",
      "    accuracy                           0.87        61\n",
      "   macro avg       0.86      0.88      0.86        61\n",
      "weighted avg       0.88      0.87      0.87        61\n",
      "\n"
     ]
    }
   ],
   "source": [
    "logreg_flow(heart_attack_X_train, heart_attack_X_test, heart_attack_y_train, heart_attack_y_test)"
   ]
  },
  {
   "cell_type": "code",
   "execution_count": 28,
   "id": "2c141002",
   "metadata": {},
   "outputs": [
    {
     "name": "stdout",
     "output_type": "stream",
     "text": [
      "accuracy mean value: 0.682\n",
      "accuracy STD value: 0.05457818041834829\n",
      "========================================\n",
      "accuracy mean value: 0.6490000000000001\n",
      "accuracy STD value: 0.08422258868287323\n",
      "========================================\n",
      "accuracy mean value: 0.6651666666666667\n",
      "accuracy STD value: 0.05748647183855038\n",
      "========================================\n",
      "accuracy mean value: 0.6736666666666666\n",
      "accuracy STD value: 0.06961720732373253\n",
      "========================================\n",
      "accuracy mean value: 0.6945\n",
      "accuracy STD value: 0.08613635830601513\n",
      "========================================\n",
      "accuracy mean value: 0.6904999999999999\n",
      "accuracy STD value: 0.07673927720969663\n",
      "========================================\n",
      "Knn test Accuracy: 0.6885245901639344\n",
      "Knn test F1 Score\n",
      ":               precision    recall  f1-score   support\n",
      "\n",
      "           0       0.58      0.65      0.61        23\n",
      "           1       0.77      0.71      0.74        38\n",
      "\n",
      "    accuracy                           0.69        61\n",
      "   macro avg       0.67      0.68      0.68        61\n",
      "weighted avg       0.70      0.69      0.69        61\n",
      "\n"
     ]
    }
   ],
   "source": [
    "knn_flow(heart_attack_X_train, heart_attack_X_test, heart_attack_y_train, heart_attack_y_test)"
   ]
  },
  {
   "cell_type": "markdown",
   "id": "2749b154",
   "metadata": {},
   "source": [
    "## Wine quality analisys"
   ]
  },
  {
   "cell_type": "code",
   "execution_count": 29,
   "id": "f9d9d30d",
   "metadata": {},
   "outputs": [],
   "source": [
    "binarizer = Binarizer(threshold=5)\n",
    "le = LabelEncoder()\n",
    "\n",
    "quality_of_wine_target = binarizer.transform(quality_of_wine_data['quality'].values.reshape(-1,1))\n",
    "quality_of_wine_data['Type'] = le.fit_transform(quality_of_wine_data['Type'])\n",
    "\n",
    "quality_of_wine_data = quality_of_wine_data.drop(columns = ['quality'], axis = 1)\n",
    "\n",
    "quality_of_wine_X_train, quality_of_wine_X_test, quality_of_wine_y_train, quality_of_wine_y_test = train_test_split(quality_of_wine_data, quality_of_wine_target, test_size=.2)"
   ]
  },
  {
   "cell_type": "code",
   "execution_count": 30,
   "id": "e73413e6",
   "metadata": {},
   "outputs": [
    {
     "name": "stdout",
     "output_type": "stream",
     "text": [
      "accuracy mean value: 0.9930736892558623\n",
      "accuracy STD value: 0.0007982784526329327\n",
      "========================================\n",
      "accuracy mean value: 0.9930736892558624\n",
      "accuracy STD value: 0.0008165503646212877\n",
      "========================================\n",
      "accuracy mean value: 0.9926888740603671\n",
      "accuracy STD value: 0.000935147958469745\n",
      "========================================\n",
      "accuracy mean value: 0.9924964923751036\n",
      "accuracy STD value: 0.0007203291678505922\n",
      "========================================\n",
      "accuracy mean value: 0.9925734302420752\n",
      "accuracy STD value: 0.0011392915271826634\n",
      "========================================\n",
      "accuracy mean value: 0.9926888370425327\n",
      "accuracy STD value: 0.001122503558657584\n",
      "========================================\n",
      "accuracy mean value: 0.9900722018052412\n",
      "accuracy STD value: 0.0017916524848933006\n",
      "========================================\n",
      "accuracy mean value: 0.98383861319939\n",
      "accuracy STD value: 0.001271406939461456\n",
      "========================================\n",
      "accuracy mean value: 0.9651376400819635\n",
      "accuracy STD value: 0.00360991033901915\n",
      "========================================\n",
      "accuracy mean value: 0.9165383023902489\n",
      "accuracy STD value: 0.0021198741835350746\n",
      "========================================\n",
      "Feature importances:\n",
      "alcohol: 0.16991645097732544\n",
      "Type: 0.16956594586372375\n",
      "volatile acidity: 0.09164479374885559\n",
      "density: 0.0669391080737114\n",
      "sulphates: 0.06570805609226227\n",
      "free sulfur dioxide: 0.06157556548714638\n",
      "residual sugar: 0.059985749423503876\n",
      "fixed acidity: 0.058113738894462585\n",
      "citric acid: 0.05748964101076126\n",
      "pH: 0.05612415447831154\n",
      "total sulfur dioxide: 0.05475561320781708\n",
      "chlorides: 0.053233277052640915\n",
      "Unnamed: 0: 0.03494788333773613\n"
     ]
    },
    {
     "data": {
      "image/png": "[encoded data removed]",
      "text/plain": [
       "<Figure size 1700x1000 with 1 Axes>"
      ]
     },
     "metadata": {},
     "output_type": "display_data"
    },
    {
     "name": "stdout",
     "output_type": "stream",
     "text": [
      "XgBoost test Accuracy: 0.9963059873787902\n",
      "XgBoost test F1 Score\n",
      ":               precision    recall  f1-score   support\n",
      "\n",
      "           0       0.99      1.00      0.99      2396\n",
      "           1       1.00      1.00      1.00      4101\n",
      "\n",
      "    accuracy                           1.00      6497\n",
      "   macro avg       1.00      1.00      1.00      6497\n",
      "weighted avg       1.00      1.00      1.00      6497\n",
      "\n"
     ]
    }
   ],
   "source": [
    "xGboost_flow(quality_of_wine_X_train, quality_of_wine_X_test, quality_of_wine_y_train, quality_of_wine_y_test)"
   ]
  },
  {
   "cell_type": "code",
   "execution_count": 31,
   "id": "decb4bbf",
   "metadata": {},
   "outputs": [
    {
     "name": "stdout",
     "output_type": "stream",
     "text": [
      "accuracy mean value: 0.7324910599534789\n",
      "accuracy STD value: 0.010884413545709803\n",
      "========================================\n",
      "accuracy mean value: 0.7310298773644509\n",
      "accuracy STD value: 0.013163089913970133\n",
      "========================================\n",
      "accuracy mean value: 0.7252193136402021\n",
      "accuracy STD value: 0.007594129208554761\n",
      "========================================\n",
      "accuracy mean value: 0.7330297731021673\n",
      "accuracy STD value: 0.011133232934824228\n",
      "========================================\n",
      "accuracy mean value: 0.7308374364392535\n",
      "accuracy STD value: 0.010643281485782547\n",
      "========================================\n",
      "accuracy mean value: 0.7306441365350149\n",
      "accuracy STD value: 0.010637563645212381\n",
      "========================================\n",
      "accuracy mean value: 0.7242183957174267\n",
      "accuracy STD value: 0.013867752366801486\n",
      "========================================\n",
      "accuracy mean value: 0.7309905864783073\n",
      "accuracy STD value: 0.01185001811923737\n",
      "========================================\n",
      "accuracy mean value: 0.7317605427088821\n",
      "accuracy STD value: 0.01470060693729231\n",
      "========================================\n",
      "LogisticRegression test Accuracy: 0.7432661228259196\n",
      "LogisticRegression test F1 Score\n",
      ":               precision    recall  f1-score   support\n",
      "\n",
      "           0       0.70      0.54      0.61      2396\n",
      "           1       0.76      0.86      0.81      4101\n",
      "\n",
      "    accuracy                           0.74      6497\n",
      "   macro avg       0.73      0.70      0.71      6497\n",
      "weighted avg       0.74      0.74      0.73      6497\n",
      "\n"
     ]
    }
   ],
   "source": [
    "logreg_flow(quality_of_wine_X_train, quality_of_wine_X_test, quality_of_wine_y_train, quality_of_wine_y_test)"
   ]
  },
  {
   "cell_type": "code",
   "execution_count": 32,
   "id": "0723c0be",
   "metadata": {},
   "outputs": [
    {
     "name": "stdout",
     "output_type": "stream",
     "text": [
      "accuracy mean value: 0.9485919408216757\n",
      "accuracy STD value: 0.005417633186169134\n",
      "========================================\n",
      "accuracy mean value: 0.9141913260296419\n",
      "accuracy STD value: 0.004493962108835634\n",
      "========================================\n",
      "accuracy mean value: 0.8874862600378364\n",
      "accuracy STD value: 0.007299030081310612\n",
      "========================================\n",
      "accuracy mean value: 0.8486221383779691\n",
      "accuracy STD value: 0.008137308095002056\n",
      "========================================\n",
      "accuracy mean value: 0.8205327832313074\n",
      "accuracy STD value: 0.008742670712856185\n",
      "========================================\n",
      "accuracy mean value: 0.7930590790974559\n",
      "accuracy STD value: 0.0106057066362668\n",
      "========================================\n",
      "Knn test Accuracy: 0.9627520394028013\n",
      "Knn test F1 Score\n",
      ":               precision    recall  f1-score   support\n",
      "\n",
      "           0       0.95      0.95      0.95      2396\n",
      "           1       0.97      0.97      0.97      4101\n",
      "\n",
      "    accuracy                           0.96      6497\n",
      "   macro avg       0.96      0.96      0.96      6497\n",
      "weighted avg       0.96      0.96      0.96      6497\n",
      "\n"
     ]
    }
   ],
   "source": [
    "knn_flow(quality_of_wine_X_train, quality_of_wine_X_test, quality_of_wine_y_train, quality_of_wine_y_test)"
   ]
  },
  {
   "cell_type": "code",
   "execution_count": 33,
   "id": "d2c3da8d",
   "metadata": {},
   "outputs": [
    {
     "data": {
      "application/vnd.jupyter.widget-view+json": {
       "model_id": "c79f37a223bd4148bf1d40a8edce2f56",
       "version_major": 2,
       "version_minor": 0
      },
      "text/plain": [
       "MetricVisualizer(layout=Layout(align_self='stretch', height='500px'))"
      ]
     },
     "metadata": {},
     "output_type": "display_data"
    },
    {
     "name": "stdout",
     "output_type": "stream",
     "text": [
      "Training on fold [0/5]\n",
      "\n",
      "bestTest = 0.7936203036\n",
      "bestIteration = 9\n",
      "\n",
      "Training on fold [1/5]\n",
      "\n",
      "bestTest = 0.7834479673\n",
      "bestIteration = 9\n",
      "\n",
      "Training on fold [2/5]\n",
      "\n",
      "bestTest = 0.7960603565\n",
      "bestIteration = 9\n",
      "\n",
      "Training on fold [3/5]\n",
      "\n",
      "bestTest = 0.7879721296\n",
      "bestIteration = 9\n",
      "\n",
      "Training on fold [4/5]\n",
      "\n",
      "bestTest = 0.7986626252\n",
      "bestIteration = 9\n",
      "\n",
      "f1-score mean value: 0.752419954522477\n",
      "f1-score STD value: 0    0.001267\n",
      "1    0.004204\n",
      "2    0.005075\n",
      "3    0.004186\n",
      "4    0.004554\n",
      "5    0.003063\n",
      "6    0.003259\n",
      "7    0.003547\n",
      "8    0.002101\n",
      "9    0.002417\n",
      "Name: train-TotalF1-std, dtype: float64\n",
      "========================================\n"
     ]
    },
    {
     "data": {
      "application/vnd.jupyter.widget-view+json": {
       "model_id": "07cc85c871c0461994188ae27b79f775",
       "version_major": 2,
       "version_minor": 0
      },
      "text/plain": [
       "MetricVisualizer(layout=Layout(align_self='stretch', height='500px'))"
      ]
     },
     "metadata": {},
     "output_type": "display_data"
    },
    {
     "name": "stdout",
     "output_type": "stream",
     "text": [
      "Training on fold [0/5]\n",
      "\n",
      "bestTest = 0.7908929576\n",
      "bestIteration = 9\n",
      "\n",
      "Training on fold [1/5]\n",
      "\n",
      "bestTest = 0.7898716576\n",
      "bestIteration = 9\n",
      "\n",
      "Training on fold [2/5]\n",
      "\n",
      "bestTest = 0.7986173759\n",
      "bestIteration = 9\n",
      "\n",
      "Training on fold [3/5]\n",
      "\n",
      "bestTest = 0.7849654889\n",
      "bestIteration = 8\n",
      "\n",
      "Training on fold [4/5]\n",
      "\n",
      "bestTest = 0.7877163311\n",
      "bestIteration = 9\n",
      "\n",
      "f1-score mean value: 0.7498632598684842\n",
      "f1-score STD value: 0    0.001267\n",
      "1    0.004738\n",
      "2    0.004555\n",
      "3    0.004305\n",
      "4    0.004346\n",
      "5    0.002808\n",
      "6    0.004500\n",
      "7    0.003751\n",
      "8    0.002769\n",
      "9    0.003496\n",
      "Name: train-TotalF1-std, dtype: float64\n",
      "========================================\n"
     ]
    },
    {
     "data": {
      "application/vnd.jupyter.widget-view+json": {
       "model_id": "c0eea3eadcaf4cee89fc37a1c5d58ef1",
       "version_major": 2,
       "version_minor": 0
      },
      "text/plain": [
       "MetricVisualizer(layout=Layout(align_self='stretch', height='500px'))"
      ]
     },
     "metadata": {},
     "output_type": "display_data"
    },
    {
     "name": "stdout",
     "output_type": "stream",
     "text": [
      "Training on fold [0/5]\n",
      "\n",
      "bestTest = 0.7870092444\n",
      "bestIteration = 9\n",
      "\n",
      "Training on fold [1/5]\n",
      "\n",
      "bestTest = 0.785625369\n",
      "bestIteration = 9\n",
      "\n",
      "Training on fold [2/5]\n",
      "\n",
      "bestTest = 0.7933372131\n",
      "bestIteration = 9\n",
      "\n",
      "Training on fold [3/5]\n",
      "\n",
      "bestTest = 0.7843109256\n",
      "bestIteration = 9\n",
      "\n",
      "Training on fold [4/5]\n",
      "\n",
      "bestTest = 0.7917130286\n",
      "bestIteration = 9\n",
      "\n",
      "f1-score mean value: 0.7515941490602426\n",
      "f1-score STD value: 0    0.001267\n",
      "1    0.004868\n",
      "2    0.003467\n",
      "3    0.002007\n",
      "4    0.003409\n",
      "5    0.003432\n",
      "6    0.005112\n",
      "7    0.002371\n",
      "8    0.001511\n",
      "9    0.002263\n",
      "Name: train-TotalF1-std, dtype: float64\n",
      "========================================\n"
     ]
    },
    {
     "data": {
      "application/vnd.jupyter.widget-view+json": {
       "model_id": "7239a65842d64cada6e8086a3f608266",
       "version_major": 2,
       "version_minor": 0
      },
      "text/plain": [
       "MetricVisualizer(layout=Layout(align_self='stretch', height='500px'))"
      ]
     },
     "metadata": {},
     "output_type": "display_data"
    },
    {
     "name": "stdout",
     "output_type": "stream",
     "text": [
      "Training on fold [0/5]\n",
      "\n",
      "bestTest = 0.7849277281\n",
      "bestIteration = 9\n",
      "\n",
      "Training on fold [1/5]\n",
      "\n",
      "bestTest = 0.7848436931\n",
      "bestIteration = 9\n",
      "\n",
      "Training on fold [2/5]\n",
      "\n",
      "bestTest = 0.7862762014\n",
      "bestIteration = 9\n",
      "\n",
      "Training on fold [3/5]\n",
      "\n",
      "bestTest = 0.7847627272\n",
      "bestIteration = 9\n",
      "\n",
      "Training on fold [4/5]\n",
      "\n",
      "bestTest = 0.7934748313\n",
      "bestIteration = 9\n",
      "\n",
      "f1-score mean value: 0.749109386269488\n",
      "f1-score STD value: 0    0.001267\n",
      "1    0.003894\n",
      "2    0.002919\n",
      "3    0.005291\n",
      "4    0.005902\n",
      "5    0.004971\n",
      "6    0.003675\n",
      "7    0.004204\n",
      "8    0.002759\n",
      "9    0.002417\n",
      "Name: train-TotalF1-std, dtype: float64\n",
      "========================================\n"
     ]
    },
    {
     "data": {
      "application/vnd.jupyter.widget-view+json": {
       "model_id": "ac8b58ccbae345619df778f036dcd2e6",
       "version_major": 2,
       "version_minor": 0
      },
      "text/plain": [
       "MetricVisualizer(layout=Layout(align_self='stretch', height='500px'))"
      ]
     },
     "metadata": {},
     "output_type": "display_data"
    },
    {
     "name": "stdout",
     "output_type": "stream",
     "text": [
      "Training on fold [0/5]\n",
      "\n",
      "bestTest = 0.7796873518\n",
      "bestIteration = 9\n",
      "\n",
      "Training on fold [1/5]\n",
      "\n",
      "bestTest = 0.7873663242\n",
      "bestIteration = 9\n",
      "\n",
      "Training on fold [2/5]\n",
      "\n",
      "bestTest = 0.7813211885\n",
      "bestIteration = 8\n",
      "\n",
      "Training on fold [3/5]\n",
      "\n",
      "bestTest = 0.775862705\n",
      "bestIteration = 8\n",
      "\n",
      "Training on fold [4/5]\n",
      "\n",
      "bestTest = 0.787899004\n",
      "bestIteration = 9\n",
      "\n",
      "f1-score mean value: 0.7483807779871372\n",
      "f1-score STD value: 0    0.001267\n",
      "1    0.004049\n",
      "2    0.004016\n",
      "3    0.004414\n",
      "4    0.004012\n",
      "5    0.004202\n",
      "6    0.005412\n",
      "7    0.003039\n",
      "8    0.001818\n",
      "9    0.003715\n",
      "Name: train-TotalF1-std, dtype: float64\n",
      "========================================\n"
     ]
    },
    {
     "data": {
      "application/vnd.jupyter.widget-view+json": {
       "model_id": "7356867a43af474bafdbaa96b315f634",
       "version_major": 2,
       "version_minor": 0
      },
      "text/plain": [
       "MetricVisualizer(layout=Layout(align_self='stretch', height='500px'))"
      ]
     },
     "metadata": {},
     "output_type": "display_data"
    },
    {
     "name": "stdout",
     "output_type": "stream",
     "text": [
      "Training on fold [0/5]\n",
      "\n",
      "bestTest = 0.766084497\n",
      "bestIteration = 9\n",
      "\n",
      "Training on fold [1/5]\n",
      "\n",
      "bestTest = 0.7689574788\n",
      "bestIteration = 9\n",
      "\n",
      "Training on fold [2/5]\n",
      "\n",
      "bestTest = 0.7731985142\n",
      "bestIteration = 9\n",
      "\n",
      "Training on fold [3/5]\n",
      "\n",
      "bestTest = 0.7778868861\n",
      "bestIteration = 9\n",
      "\n",
      "Training on fold [4/5]\n",
      "\n",
      "bestTest = 0.7830356875\n",
      "bestIteration = 9\n",
      "\n",
      "f1-score mean value: 0.7480529411256794\n",
      "f1-score STD value: 0    0.001267\n",
      "1    0.004653\n",
      "2    0.002296\n",
      "3    0.002926\n",
      "4    0.001009\n",
      "5    0.004031\n",
      "6    0.002116\n",
      "7    0.004322\n",
      "8    0.004261\n",
      "9    0.004222\n",
      "Name: train-TotalF1-std, dtype: float64\n",
      "========================================\n"
     ]
    },
    {
     "data": {
      "application/vnd.jupyter.widget-view+json": {
       "model_id": "999d09a614774960913e0d65cca6197a",
       "version_major": 2,
       "version_minor": 0
      },
      "text/plain": [
       "MetricVisualizer(layout=Layout(align_self='stretch', height='500px'))"
      ]
     },
     "metadata": {},
     "output_type": "display_data"
    },
    {
     "name": "stdout",
     "output_type": "stream",
     "text": [
      "Training on fold [0/5]\n",
      "\n",
      "bestTest = 0.7601101155\n",
      "bestIteration = 9\n",
      "\n",
      "Training on fold [1/5]\n",
      "\n",
      "bestTest = 0.770095969\n",
      "bestIteration = 9\n",
      "\n",
      "Training on fold [2/5]\n",
      "\n",
      "bestTest = 0.767350457\n",
      "bestIteration = 9\n",
      "\n",
      "Training on fold [3/5]\n",
      "\n",
      "bestTest = 0.7678986952\n",
      "bestIteration = 9\n",
      "\n",
      "Training on fold [4/5]\n",
      "\n",
      "bestTest = 0.7727395733\n",
      "bestIteration = 8\n",
      "\n",
      "f1-score mean value: 0.7455746143272557\n",
      "f1-score STD value: 0    0.001267\n",
      "1    0.001080\n",
      "2    0.003827\n",
      "3    0.003076\n",
      "4    0.004104\n",
      "5    0.003679\n",
      "6    0.001505\n",
      "7    0.003677\n",
      "8    0.002444\n",
      "9    0.004021\n",
      "Name: train-TotalF1-std, dtype: float64\n",
      "========================================\n"
     ]
    },
    {
     "data": {
      "application/vnd.jupyter.widget-view+json": {
       "model_id": "67ac6013970542af8b4b3d7bd7896b6c",
       "version_major": 2,
       "version_minor": 0
      },
      "text/plain": [
       "MetricVisualizer(layout=Layout(align_self='stretch', height='500px'))"
      ]
     },
     "metadata": {},
     "output_type": "display_data"
    },
    {
     "name": "stdout",
     "output_type": "stream",
     "text": [
      "Training on fold [0/5]\n",
      "\n",
      "bestTest = 0.7534141379\n",
      "bestIteration = 9\n",
      "\n",
      "Training on fold [1/5]\n",
      "\n",
      "bestTest = 0.7540574178\n",
      "bestIteration = 8\n",
      "\n",
      "Training on fold [2/5]\n",
      "\n",
      "bestTest = 0.7666019729\n",
      "bestIteration = 9\n",
      "\n",
      "Training on fold [3/5]\n",
      "\n",
      "bestTest = 0.7551005817\n",
      "bestIteration = 9\n",
      "\n",
      "Training on fold [4/5]\n",
      "\n",
      "bestTest = 0.7643341726\n",
      "bestIteration = 9\n",
      "\n",
      "f1-score mean value: 0.7456385122529008\n",
      "f1-score STD value: 0    0.001267\n",
      "1    0.002136\n",
      "2    0.003295\n",
      "3    0.004133\n",
      "4    0.002473\n",
      "5    0.003127\n",
      "6    0.003710\n",
      "7    0.003562\n",
      "8    0.002235\n",
      "9    0.001770\n",
      "Name: train-TotalF1-std, dtype: float64\n",
      "========================================\n"
     ]
    },
    {
     "data": {
      "application/vnd.jupyter.widget-view+json": {
       "model_id": "f6b5573068df4cbbbfeb8f214a947ca7",
       "version_major": 2,
       "version_minor": 0
      },
      "text/plain": [
       "MetricVisualizer(layout=Layout(align_self='stretch', height='500px'))"
      ]
     },
     "metadata": {},
     "output_type": "display_data"
    },
    {
     "name": "stdout",
     "output_type": "stream",
     "text": [
      "Training on fold [0/5]\n",
      "\n",
      "bestTest = 0.7488424966\n",
      "bestIteration = 9\n",
      "\n",
      "Training on fold [1/5]\n",
      "\n",
      "bestTest = 0.7461399329\n",
      "bestIteration = 7\n",
      "\n",
      "Training on fold [2/5]\n",
      "\n",
      "bestTest = 0.7517318829\n",
      "bestIteration = 9\n",
      "\n",
      "Training on fold [3/5]\n",
      "\n",
      "bestTest = 0.748357419\n",
      "bestIteration = 9\n",
      "\n",
      "Training on fold [4/5]\n",
      "\n",
      "bestTest = 0.760846308\n",
      "bestIteration = 9\n",
      "\n",
      "f1-score mean value: 0.7443996260669773\n",
      "f1-score STD value: 0    0.001267\n",
      "1    0.003068\n",
      "2    0.003643\n",
      "3    0.004071\n",
      "4    0.002643\n",
      "5    0.002904\n",
      "6    0.002867\n",
      "7    0.003227\n",
      "8    0.002807\n",
      "9    0.003549\n",
      "Name: train-TotalF1-std, dtype: float64\n",
      "========================================\n"
     ]
    },
    {
     "data": {
      "application/vnd.jupyter.widget-view+json": {
       "model_id": "35a26b92e237411fa83fb21dc7a513f3",
       "version_major": 2,
       "version_minor": 0
      },
      "text/plain": [
       "MetricVisualizer(layout=Layout(align_self='stretch', height='500px'))"
      ]
     },
     "metadata": {},
     "output_type": "display_data"
    },
    {
     "name": "stdout",
     "output_type": "stream",
     "text": [
      "Training on fold [0/5]\n",
      "\n",
      "bestTest = 0.7414799028\n",
      "bestIteration = 7\n",
      "\n",
      "Training on fold [1/5]\n",
      "\n",
      "bestTest = 0.7416943681\n",
      "bestIteration = 9\n",
      "\n",
      "Training on fold [2/5]\n",
      "\n",
      "bestTest = 0.7473711554\n",
      "bestIteration = 9\n",
      "\n",
      "Training on fold [3/5]\n",
      "\n",
      "bestTest = 0.7488077967\n",
      "bestIteration = 7\n",
      "\n",
      "Training on fold [4/5]\n",
      "\n",
      "bestTest = 0.7529331904\n",
      "bestIteration = 9\n",
      "\n",
      "f1-score mean value: 0.7413493769583891\n",
      "f1-score STD value: 0    0.001267\n",
      "1    0.005883\n",
      "2    0.003139\n",
      "3    0.003469\n",
      "4    0.003088\n",
      "5    0.002921\n",
      "6    0.003171\n",
      "7    0.003086\n",
      "8    0.002520\n",
      "9    0.002626\n",
      "Name: train-TotalF1-std, dtype: float64\n",
      "========================================\n",
      "0:\tlearn: 0.5847450\ttotal: 6.6ms\tremaining: 59.4ms\n",
      "1:\tlearn: 0.5376955\ttotal: 15.4ms\tremaining: 61.8ms\n",
      "2:\tlearn: 0.5126200\ttotal: 21.8ms\tremaining: 50.8ms\n",
      "3:\tlearn: 0.4950592\ttotal: 31.1ms\tremaining: 46.6ms\n",
      "4:\tlearn: 0.4824631\ttotal: 36.8ms\tremaining: 36.8ms\n",
      "5:\tlearn: 0.4763306\ttotal: 45.4ms\tremaining: 30.2ms\n",
      "6:\tlearn: 0.4668599\ttotal: 51.4ms\tremaining: 22ms\n",
      "7:\tlearn: 0.4596257\ttotal: 58.5ms\tremaining: 14.6ms\n",
      "8:\tlearn: 0.4494274\ttotal: 65ms\tremaining: 7.22ms\n",
      "9:\tlearn: 0.4429043\ttotal: 70.4ms\tremaining: 0us\n",
      "Catboost test Accuracy: 0.5443709483466742\n",
      "Catboost test F1 Score\n",
      ":               precision    recall  f1-score   support\n",
      "\n",
      "           0       0.74      0.66      0.70      2396\n",
      "           1       0.81      0.86      0.84      4101\n",
      "\n",
      "    accuracy                           0.79      6497\n",
      "   macro avg       0.77      0.76      0.77      6497\n",
      "weighted avg       0.79      0.79      0.79      6497\n",
      "\n"
     ]
    },
    {
     "data": {
      "image/png": "[encoded data removed]",
      "text/plain": [
       "<Figure size 1700x1000 with 1 Axes>"
      ]
     },
     "metadata": {},
     "output_type": "display_data"
    }
   ],
   "source": [
    "catboost_flow(quality_of_wine_X_train, quality_of_wine_X_test, quality_of_wine_y_train, quality_of_wine_y_test)"
   ]
  },
  {
   "cell_type": "markdown",
   "id": "9d148a62",
   "metadata": {},
   "source": [
    "## Data scientists job change analysis"
   ]
  },
  {
   "cell_type": "code",
   "execution_count": 34,
   "id": "334fcd66",
   "metadata": {},
   "outputs": [],
   "source": [
    "le = LabelEncoder()\n",
    "\n",
    "data_scientists_job_change_target = data_scientists_job_change_data['target']\n",
    "data_scientists_job_change_data = data_scientists_job_change_data.drop(columns = ['target'], axis = 1)\n",
    "\n",
    "for col in data_scientists_job_change_data.columns:\n",
    "    le.fit(data_scientists_job_change_data[col])\n",
    "    data_scientists_job_change_data[col] = le.transform(data_scientists_job_change_data[col])\n",
    "\n",
    "data_scientists_job_change_X_train, data_scientists_job_change_X_test, data_scientists_job_change_y_train, data_scientists_job_change_y_test = train_test_split(data_scientists_job_change_data, data_scientists_job_change_target, test_size=.2)"
   ]
  },
  {
   "cell_type": "code",
   "execution_count": 35,
   "id": "3c08b4a0",
   "metadata": {},
   "outputs": [
    {
     "name": "stdout",
     "output_type": "stream",
     "text": [
      "accuracy mean value: 0.7640606813240838\n",
      "accuracy STD value: 0.007543992241517595\n",
      "========================================\n",
      "accuracy mean value: 0.7663445525252494\n",
      "accuracy STD value: 0.004575941933343281\n",
      "========================================\n",
      "accuracy mean value: 0.7681060816469429\n",
      "accuracy STD value: 0.006511121854228507\n",
      "========================================\n",
      "accuracy mean value: 0.7714342752006165\n",
      "accuracy STD value: 0.004200468562213397\n",
      "========================================\n",
      "accuracy mean value: 0.7726085711944614\n",
      "accuracy STD value: 0.004815906283555995\n",
      "========================================\n",
      "accuracy mean value: 0.7773711995692375\n",
      "accuracy STD value: 0.007503998328000748\n",
      "========================================\n",
      "accuracy mean value: 0.7803734693725531\n",
      "accuracy STD value: 0.004202525158379521\n",
      "========================================\n",
      "accuracy mean value: 0.7836355800448852\n",
      "accuracy STD value: 0.004328912851609073\n",
      "========================================\n",
      "accuracy mean value: 0.7855932508201834\n",
      "accuracy STD value: 0.007015656346747947\n",
      "========================================\n",
      "accuracy mean value: 0.7908782212744313\n",
      "accuracy STD value: 0.00369256311715653\n",
      "========================================\n",
      "Feature importances:\n",
      "city_development_index: 0.17087186872959137\n",
      "company_type_nom: 0.16540825366973877\n",
      "major_discipline_nom: 0.09867668896913528\n",
      "experience_ord: 0.07150046527385712\n",
      "relevent_experience_nom: 0.06955920159816742\n",
      "enrolled_university_nom: 0.06902338564395905\n",
      "education_level_ord: 0.06879740208387375\n",
      "company_size_ord: 0.06336528062820435\n",
      "last_new_job_ord: 0.05984215810894966\n",
      "city_nom: 0.055385056883096695\n",
      "gender_nom: 0.054538898169994354\n",
      "training_hours: 0.0530313104391098\n"
     ]
    },
    {
     "data": {
      "image/png": "[encoded data removed]",
      "text/plain": [
       "<Figure size 1700x1000 with 1 Axes>"
      ]
     },
     "metadata": {},
     "output_type": "display_data"
    },
    {
     "name": "stdout",
     "output_type": "stream",
     "text": [
      "XgBoost test Accuracy: 0.759133611691023\n",
      "XgBoost test F1 Score\n",
      ":               precision    recall  f1-score   support\n",
      "\n",
      "         0.0       0.83      0.86      0.84      2916\n",
      "         1.0       0.50      0.44      0.47       916\n",
      "\n",
      "    accuracy                           0.76      3832\n",
      "   macro avg       0.66      0.65      0.66      3832\n",
      "weighted avg       0.75      0.76      0.75      3832\n",
      "\n"
     ]
    }
   ],
   "source": [
    "xGboost_flow(data_scientists_job_change_X_train, data_scientists_job_change_X_test, data_scientists_job_change_y_train, data_scientists_job_change_y_test)"
   ]
  },
  {
   "cell_type": "code",
   "execution_count": 36,
   "id": "4d6b8865",
   "metadata": {},
   "outputs": [
    {
     "name": "stdout",
     "output_type": "stream",
     "text": [
      "accuracy mean value: 0.7690202405222613\n",
      "accuracy STD value: 0.00539181156442713\n",
      "========================================\n",
      "accuracy mean value: 0.7690855146736973\n",
      "accuracy STD value: 0.005417912491056484\n",
      "========================================\n",
      "accuracy mean value: 0.7687592716545828\n",
      "accuracy STD value: 0.005616428044054711\n",
      "========================================\n",
      "accuracy mean value: 0.7689549663708253\n",
      "accuracy STD value: 0.005340910391628132\n",
      "========================================\n",
      "accuracy mean value: 0.7688897347987445\n",
      "accuracy STD value: 0.005358848884014632\n",
      "========================================\n",
      "accuracy mean value: 0.7690202831016165\n",
      "accuracy STD value: 0.005452813369897665\n",
      "========================================\n",
      "accuracy mean value: 0.7690202405222613\n",
      "accuracy STD value: 0.00539181156442713\n",
      "========================================\n",
      "accuracy mean value: 0.7690202405222613\n",
      "accuracy STD value: 0.00539181156442713\n",
      "========================================\n",
      "accuracy mean value: 0.7689549663708253\n",
      "accuracy STD value: 0.005340910391628132\n",
      "========================================\n",
      "LogisticRegression test Accuracy: 0.7677453027139874\n",
      "LogisticRegression test F1 Score\n",
      ":               precision    recall  f1-score   support\n",
      "\n",
      "         0.0       0.80      0.92      0.86      2916\n",
      "         1.0       0.53      0.29      0.37       916\n",
      "\n",
      "    accuracy                           0.77      3832\n",
      "   macro avg       0.67      0.60      0.61      3832\n",
      "weighted avg       0.74      0.77      0.74      3832\n",
      "\n"
     ]
    }
   ],
   "source": [
    "logreg_flow(data_scientists_job_change_X_train, data_scientists_job_change_X_test, data_scientists_job_change_y_train, data_scientists_job_change_y_test)"
   ]
  },
  {
   "cell_type": "code",
   "execution_count": 37,
   "id": "4ee68328",
   "metadata": {},
   "outputs": [
    {
     "name": "stdout",
     "output_type": "stream",
     "text": [
      "accuracy mean value: 0.7384825824889847\n",
      "accuracy STD value: 0.007011681352415299\n",
      "========================================\n",
      "accuracy mean value: 0.7558395456612488\n",
      "accuracy STD value: 0.0029306831217790863\n",
      "========================================\n",
      "accuracy mean value: 0.752446396849809\n",
      "accuracy STD value: 0.00724017251755475\n",
      "========================================\n",
      "accuracy mean value: 0.7584500007664283\n",
      "accuracy STD value: 0.005283755488580605\n",
      "========================================\n",
      "accuracy mean value: 0.7603412905632226\n",
      "accuracy STD value: 0.006422590846721366\n",
      "========================================\n",
      "accuracy mean value: 0.7616464329571022\n",
      "accuracy STD value: 0.00615824438304186\n",
      "========================================\n",
      "Knn test Accuracy: 0.7638308977035491\n",
      "Knn test F1 Score\n",
      ":               precision    recall  f1-score   support\n",
      "\n",
      "         0.0       0.80      0.92      0.86      2916\n",
      "         1.0       0.51      0.27      0.35       916\n",
      "\n",
      "    accuracy                           0.76      3832\n",
      "   macro avg       0.66      0.59      0.60      3832\n",
      "weighted avg       0.73      0.76      0.73      3832\n",
      "\n"
     ]
    }
   ],
   "source": [
    "knn_flow(data_scientists_job_change_X_train, data_scientists_job_change_X_test, data_scientists_job_change_y_train, data_scientists_job_change_y_test)"
   ]
  },
  {
   "cell_type": "code",
   "execution_count": 38,
   "id": "8f75d1a3",
   "metadata": {},
   "outputs": [
    {
     "data": {
      "application/vnd.jupyter.widget-view+json": {
       "model_id": "833a12ee848145a09961036f7eb59342",
       "version_major": 2,
       "version_minor": 0
      },
      "text/plain": [
       "MetricVisualizer(layout=Layout(align_self='stretch', height='500px'))"
      ]
     },
     "metadata": {},
     "output_type": "display_data"
    },
    {
     "name": "stdout",
     "output_type": "stream",
     "text": [
      "Training on fold [0/5]\n",
      "\n",
      "bestTest = 0.791588445\n",
      "bestIteration = 9\n",
      "\n",
      "Training on fold [1/5]\n",
      "\n",
      "bestTest = 0.7841674091\n",
      "bestIteration = 7\n",
      "\n",
      "Training on fold [2/5]\n",
      "\n",
      "bestTest = 0.7853006622\n",
      "bestIteration = 7\n",
      "\n",
      "Training on fold [3/5]\n",
      "\n",
      "bestTest = 0.7832437796\n",
      "bestIteration = 9\n",
      "\n",
      "Training on fold [4/5]\n",
      "\n",
      "bestTest = 0.7785397165\n",
      "bestIteration = 6\n",
      "\n",
      "f1-score mean value: 0.768822662320123\n",
      "f1-score STD value: 0    0.003929\n",
      "1    0.002765\n",
      "2    0.002925\n",
      "3    0.001702\n",
      "4    0.002875\n",
      "5    0.000543\n",
      "6    0.001957\n",
      "7    0.003415\n",
      "8    0.003244\n",
      "9    0.003412\n",
      "Name: train-TotalF1-std, dtype: float64\n",
      "========================================\n"
     ]
    },
    {
     "data": {
      "application/vnd.jupyter.widget-view+json": {
       "model_id": "40fa2af6d8e04058a9803091a0f21c8c",
       "version_major": 2,
       "version_minor": 0
      },
      "text/plain": [
       "MetricVisualizer(layout=Layout(align_self='stretch', height='500px'))"
      ]
     },
     "metadata": {},
     "output_type": "display_data"
    },
    {
     "name": "stdout",
     "output_type": "stream",
     "text": [
      "Training on fold [0/5]\n",
      "\n",
      "bestTest = 0.7927527799\n",
      "bestIteration = 6\n",
      "\n",
      "Training on fold [1/5]\n",
      "\n",
      "bestTest = 0.7854806867\n",
      "bestIteration = 7\n",
      "\n",
      "Training on fold [2/5]\n",
      "\n",
      "bestTest = 0.7842886889\n",
      "bestIteration = 9\n",
      "\n",
      "Training on fold [3/5]\n",
      "\n",
      "bestTest = 0.7812924427\n",
      "bestIteration = 9\n",
      "\n",
      "Training on fold [4/5]\n",
      "\n",
      "bestTest = 0.7801990408\n",
      "bestIteration = 8\n",
      "\n",
      "f1-score mean value: 0.768863358981078\n",
      "f1-score STD value: 0    0.003929\n",
      "1    0.002780\n",
      "2    0.003822\n",
      "3    0.002469\n",
      "4    0.002026\n",
      "5    0.002755\n",
      "6    0.003530\n",
      "7    0.003269\n",
      "8    0.002772\n",
      "9    0.002336\n",
      "Name: train-TotalF1-std, dtype: float64\n",
      "========================================\n"
     ]
    },
    {
     "data": {
      "application/vnd.jupyter.widget-view+json": {
       "model_id": "6100bfb8ae2442daad63ebb60692a685",
       "version_major": 2,
       "version_minor": 0
      },
      "text/plain": [
       "MetricVisualizer(layout=Layout(align_self='stretch', height='500px'))"
      ]
     },
     "metadata": {},
     "output_type": "display_data"
    },
    {
     "name": "stdout",
     "output_type": "stream",
     "text": [
      "Training on fold [0/5]\n",
      "\n",
      "bestTest = 0.7890222924\n",
      "bestIteration = 6\n",
      "\n",
      "Training on fold [1/5]\n",
      "\n",
      "bestTest = 0.7919665016\n",
      "bestIteration = 4\n",
      "\n",
      "Training on fold [2/5]\n",
      "\n",
      "bestTest = 0.7813371567\n",
      "bestIteration = 6\n",
      "\n",
      "Training on fold [3/5]\n",
      "\n",
      "bestTest = 0.7744596772\n",
      "bestIteration = 9\n",
      "\n",
      "Training on fold [4/5]\n",
      "\n",
      "bestTest = 0.7761095943\n",
      "bestIteration = 8\n",
      "\n",
      "f1-score mean value: 0.7717019031074946\n",
      "f1-score STD value: 0    0.003929\n",
      "1    0.004104\n",
      "2    0.002140\n",
      "3    0.003228\n",
      "4    0.005893\n",
      "5    0.003654\n",
      "6    0.003110\n",
      "7    0.003025\n",
      "8    0.003501\n",
      "9    0.002897\n",
      "Name: train-TotalF1-std, dtype: float64\n",
      "========================================\n"
     ]
    },
    {
     "data": {
      "application/vnd.jupyter.widget-view+json": {
       "model_id": "c472dd624f494f74b2540b6d5d0b36e8",
       "version_major": 2,
       "version_minor": 0
      },
      "text/plain": [
       "MetricVisualizer(layout=Layout(align_self='stretch', height='500px'))"
      ]
     },
     "metadata": {},
     "output_type": "display_data"
    },
    {
     "name": "stdout",
     "output_type": "stream",
     "text": [
      "Training on fold [0/5]\n",
      "\n",
      "bestTest = 0.7920394701\n",
      "bestIteration = 7\n",
      "\n",
      "Training on fold [1/5]\n",
      "\n",
      "bestTest = 0.7825123783\n",
      "bestIteration = 3\n",
      "\n",
      "Training on fold [2/5]\n",
      "\n",
      "bestTest = 0.7843498302\n",
      "bestIteration = 8\n",
      "\n",
      "Training on fold [3/5]\n",
      "\n",
      "bestTest = 0.7718290698\n",
      "bestIteration = 9\n",
      "\n",
      "Training on fold [4/5]\n",
      "\n",
      "bestTest = 0.7730119235\n",
      "bestIteration = 9\n",
      "\n",
      "f1-score mean value: 0.7745384619796655\n",
      "f1-score STD value: 0    0.003929\n",
      "1    0.002472\n",
      "2    0.002180\n",
      "3    0.003744\n",
      "4    0.002198\n",
      "5    0.003026\n",
      "6    0.003709\n",
      "7    0.002938\n",
      "8    0.002173\n",
      "9    0.001392\n",
      "Name: train-TotalF1-std, dtype: float64\n",
      "========================================\n"
     ]
    },
    {
     "data": {
      "application/vnd.jupyter.widget-view+json": {
       "model_id": "596c360a1bae4338ad9ab2dc5ecbed4c",
       "version_major": 2,
       "version_minor": 0
      },
      "text/plain": [
       "MetricVisualizer(layout=Layout(align_self='stretch', height='500px'))"
      ]
     },
     "metadata": {},
     "output_type": "display_data"
    },
    {
     "name": "stdout",
     "output_type": "stream",
     "text": [
      "Training on fold [0/5]\n",
      "\n",
      "bestTest = 0.7938310126\n",
      "bestIteration = 8\n",
      "\n",
      "Training on fold [1/5]\n",
      "\n",
      "bestTest = 0.7842524763\n",
      "bestIteration = 8\n",
      "\n",
      "Training on fold [2/5]\n",
      "\n",
      "bestTest = 0.7802679471\n",
      "bestIteration = 8\n",
      "\n",
      "Training on fold [3/5]\n",
      "\n",
      "bestTest = 0.774716478\n",
      "bestIteration = 9\n",
      "\n",
      "Training on fold [4/5]\n",
      "\n",
      "bestTest = 0.7759851265\n",
      "bestIteration = 6\n",
      "\n",
      "f1-score mean value: 0.7741213781353811\n",
      "f1-score STD value: 0    0.003929\n",
      "1    0.001978\n",
      "2    0.002498\n",
      "3    0.003141\n",
      "4    0.002467\n",
      "5    0.001663\n",
      "6    0.001577\n",
      "7    0.001902\n",
      "8    0.001883\n",
      "9    0.002725\n",
      "Name: train-TotalF1-std, dtype: float64\n",
      "========================================\n"
     ]
    },
    {
     "data": {
      "application/vnd.jupyter.widget-view+json": {
       "model_id": "8bbed7d4c8654522839873d1a48257fb",
       "version_major": 2,
       "version_minor": 0
      },
      "text/plain": [
       "MetricVisualizer(layout=Layout(align_self='stretch', height='500px'))"
      ]
     },
     "metadata": {},
     "output_type": "display_data"
    },
    {
     "name": "stdout",
     "output_type": "stream",
     "text": [
      "Training on fold [0/5]\n",
      "\n",
      "bestTest = 0.7924379879\n",
      "bestIteration = 6\n",
      "\n",
      "Training on fold [1/5]\n",
      "\n",
      "bestTest = 0.7838537965\n",
      "bestIteration = 8\n",
      "\n",
      "Training on fold [2/5]\n",
      "\n",
      "bestTest = 0.7804035667\n",
      "bestIteration = 9\n",
      "\n",
      "Training on fold [3/5]\n",
      "\n",
      "bestTest = 0.7703268752\n",
      "bestIteration = 9\n",
      "\n",
      "Training on fold [4/5]\n",
      "\n",
      "bestTest = 0.7715999412\n",
      "bestIteration = 9\n",
      "\n",
      "f1-score mean value: 0.7732549975604345\n",
      "f1-score STD value: 0    0.003929\n",
      "1    0.001833\n",
      "2    0.001574\n",
      "3    0.002614\n",
      "4    0.003844\n",
      "5    0.002131\n",
      "6    0.001897\n",
      "7    0.001945\n",
      "8    0.002466\n",
      "9    0.002518\n",
      "Name: train-TotalF1-std, dtype: float64\n",
      "========================================\n"
     ]
    },
    {
     "data": {
      "application/vnd.jupyter.widget-view+json": {
       "model_id": "e43e62a2e9e94a4d9f4a85ae62174af3",
       "version_major": 2,
       "version_minor": 0
      },
      "text/plain": [
       "MetricVisualizer(layout=Layout(align_self='stretch', height='500px'))"
      ]
     },
     "metadata": {},
     "output_type": "display_data"
    },
    {
     "name": "stdout",
     "output_type": "stream",
     "text": [
      "Training on fold [0/5]\n",
      "\n",
      "bestTest = 0.7911489061\n",
      "bestIteration = 9\n",
      "\n",
      "Training on fold [1/5]\n",
      "\n",
      "bestTest = 0.7847530692\n",
      "bestIteration = 6\n",
      "\n",
      "Training on fold [2/5]\n",
      "\n",
      "bestTest = 0.7799851305\n",
      "bestIteration = 7\n",
      "\n",
      "Training on fold [3/5]\n",
      "\n",
      "bestTest = 0.7623022169\n",
      "bestIteration = 9\n",
      "\n",
      "Training on fold [4/5]\n",
      "\n",
      "bestTest = 0.7683378328\n",
      "bestIteration = 9\n",
      "\n",
      "f1-score mean value: 0.7717769759518631\n",
      "f1-score STD value: 0    0.003929\n",
      "1    0.002528\n",
      "2    0.002873\n",
      "3    0.002216\n",
      "4    0.001847\n",
      "5    0.000474\n",
      "6    0.002366\n",
      "7    0.003116\n",
      "8    0.002765\n",
      "9    0.002851\n",
      "Name: train-TotalF1-std, dtype: float64\n",
      "========================================\n"
     ]
    },
    {
     "data": {
      "application/vnd.jupyter.widget-view+json": {
       "model_id": "8c411699599c4d9f9782c8d000860ee8",
       "version_major": 2,
       "version_minor": 0
      },
      "text/plain": [
       "MetricVisualizer(layout=Layout(align_self='stretch', height='500px'))"
      ]
     },
     "metadata": {},
     "output_type": "display_data"
    },
    {
     "name": "stdout",
     "output_type": "stream",
     "text": [
      "Training on fold [0/5]\n",
      "\n",
      "bestTest = 0.7853584636\n",
      "bestIteration = 9\n",
      "\n",
      "Training on fold [1/5]\n",
      "\n",
      "bestTest = 0.7825632358\n",
      "bestIteration = 8\n",
      "\n",
      "Training on fold [2/5]\n",
      "\n",
      "bestTest = 0.7765734576\n",
      "bestIteration = 8\n",
      "\n",
      "Training on fold [3/5]\n",
      "\n",
      "bestTest = 0.7572311139\n",
      "bestIteration = 5\n",
      "\n",
      "Training on fold [4/5]\n",
      "\n",
      "bestTest = 0.766564835\n",
      "bestIteration = 8\n",
      "\n",
      "f1-score mean value: 0.7698698590606228\n",
      "f1-score STD value: 0    0.003929\n",
      "1    0.001500\n",
      "2    0.001582\n",
      "3    0.001727\n",
      "4    0.001768\n",
      "5    0.002029\n",
      "6    0.001931\n",
      "7    0.002364\n",
      "8    0.002729\n",
      "9    0.003058\n",
      "Name: train-TotalF1-std, dtype: float64\n",
      "========================================\n"
     ]
    },
    {
     "data": {
      "application/vnd.jupyter.widget-view+json": {
       "model_id": "9d655fe69e1c4a72bb631884ce9a0ec7",
       "version_major": 2,
       "version_minor": 0
      },
      "text/plain": [
       "MetricVisualizer(layout=Layout(align_self='stretch', height='500px'))"
      ]
     },
     "metadata": {},
     "output_type": "display_data"
    },
    {
     "name": "stdout",
     "output_type": "stream",
     "text": [
      "Training on fold [0/5]\n",
      "\n",
      "bestTest = 0.7828687352\n",
      "bestIteration = 0\n",
      "\n",
      "Training on fold [1/5]\n",
      "\n",
      "bestTest = 0.7816156738\n",
      "bestIteration = 9\n",
      "\n",
      "Training on fold [2/5]\n",
      "\n",
      "bestTest = 0.7764142164\n",
      "bestIteration = 8\n",
      "\n",
      "Training on fold [3/5]\n",
      "\n",
      "bestTest = 0.7562937303\n",
      "bestIteration = 5\n",
      "\n",
      "Training on fold [4/5]\n",
      "\n",
      "bestTest = 0.764275182\n",
      "bestIteration = 9\n",
      "\n",
      "f1-score mean value: 0.768903090683859\n",
      "f1-score STD value: 0    0.003929\n",
      "1    0.002778\n",
      "2    0.003217\n",
      "3    0.003311\n",
      "4    0.002351\n",
      "5    0.002313\n",
      "6    0.002117\n",
      "7    0.002327\n",
      "8    0.002442\n",
      "9    0.002430\n",
      "Name: train-TotalF1-std, dtype: float64\n",
      "========================================\n"
     ]
    },
    {
     "data": {
      "application/vnd.jupyter.widget-view+json": {
       "model_id": "33ef7a23802b4bec9106bd7cce386d65",
       "version_major": 2,
       "version_minor": 0
      },
      "text/plain": [
       "MetricVisualizer(layout=Layout(align_self='stretch', height='500px'))"
      ]
     },
     "metadata": {},
     "output_type": "display_data"
    },
    {
     "name": "stdout",
     "output_type": "stream",
     "text": [
      "Training on fold [0/5]\n",
      "\n",
      "bestTest = 0.7828687352\n",
      "bestIteration = 0\n",
      "\n",
      "Training on fold [1/5]\n",
      "\n",
      "bestTest = 0.7787423513\n",
      "bestIteration = 9\n",
      "\n",
      "Training on fold [2/5]\n",
      "\n",
      "bestTest = 0.7775139944\n",
      "bestIteration = 2\n",
      "\n",
      "Training on fold [3/5]\n",
      "\n",
      "bestTest = 0.7553218054\n",
      "bestIteration = 3\n",
      "\n",
      "Training on fold [4/5]\n",
      "\n",
      "bestTest = 0.7631071428\n",
      "bestIteration = 9\n",
      "\n",
      "f1-score mean value: 0.7680336994607295\n",
      "f1-score STD value: 0    0.003929\n",
      "1    0.002255\n",
      "2    0.005677\n",
      "3    0.002866\n",
      "4    0.001744\n",
      "5    0.001614\n",
      "6    0.001749\n",
      "7    0.001718\n",
      "8    0.002081\n",
      "9    0.001437\n",
      "Name: train-TotalF1-std, dtype: float64\n",
      "========================================\n",
      "0:\tlearn: 0.5768136\ttotal: 5.91ms\tremaining: 53.2ms\n",
      "1:\tlearn: 0.5221920\ttotal: 10.6ms\tremaining: 42.3ms\n",
      "2:\tlearn: 0.4909508\ttotal: 16.2ms\tremaining: 37.7ms\n",
      "3:\tlearn: 0.4717413\ttotal: 21ms\tremaining: 31.5ms\n",
      "4:\tlearn: 0.4598406\ttotal: 25.7ms\tremaining: 25.7ms\n",
      "5:\tlearn: 0.4538639\ttotal: 32ms\tremaining: 21.3ms\n",
      "6:\tlearn: 0.4487056\ttotal: 37.4ms\tremaining: 16ms\n",
      "7:\tlearn: 0.4461395\ttotal: 42.4ms\tremaining: 10.6ms\n",
      "8:\tlearn: 0.4429365\ttotal: 47.2ms\tremaining: 5.25ms\n",
      "9:\tlearn: 0.4403050\ttotal: 52.3ms\tremaining: 0us\n",
      "Catboost test Accuracy: 0.7834029227557411\n",
      "Catboost test F1 Score\n",
      ":               precision    recall  f1-score   support\n",
      "\n",
      "         0.0       0.84      0.88      0.86      2916\n",
      "         1.0       0.55      0.48      0.52       916\n",
      "\n",
      "    accuracy                           0.78      3832\n",
      "   macro avg       0.70      0.68      0.69      3832\n",
      "weighted avg       0.77      0.78      0.78      3832\n",
      "\n"
     ]
    },
    {
     "data": {
      "image/png": "[encoded data removed]",
      "text/plain": [
       "<Figure size 1700x1000 with 1 Axes>"
      ]
     },
     "metadata": {},
     "output_type": "display_data"
    }
   ],
   "source": [
    "catboost_flow(data_scientists_job_change_X_train, data_scientists_job_change_X_test, data_scientists_job_change_y_train, data_scientists_job_change_y_test)"
   ]
  }
 ],
 "metadata": {
  "kernelspec": {
   "display_name": "Python 3 (ipykernel)",
   "language": "python",
   "name": "python3"
  },
  "language_info": {
   "codemirror_mode": {
    "name": "ipython",
    "version": 3
   },
   "file_extension": ".py",
   "mimetype": "text/x-python",
   "name": "python",
   "nbconvert_exporter": "python",
   "pygments_lexer": "ipython3",
   "version": "3.9.13"
  }
 },
 "nbformat": 4,
 "nbformat_minor": 5
}
